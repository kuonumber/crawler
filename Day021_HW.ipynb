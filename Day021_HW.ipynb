{
  "nbformat": 4,
  "nbformat_minor": 0,
  "metadata": {
    "colab": {
      "name": "Day021_HW.ipynb",
      "provenance": [],
      "authorship_tag": "ABX9TyOkWx5Z2ovkcq6go/jPaxo/",
      "include_colab_link": true
    },
    "kernelspec": {
      "name": "python3",
      "display_name": "Python 3"
    }
  },
  "cells": [
    {
      "cell_type": "markdown",
      "metadata": {
        "id": "view-in-github",
        "colab_type": "text"
      },
      "source": [
        "<a href=\"https://colab.research.google.com/github/kuonumber/crawler/blob/master/Day021_HW.ipynb\" target=\"_parent\"><img src=\"https://colab.research.google.com/assets/colab-badge.svg\" alt=\"Open In Colab\"/></a>"
      ]
    },
    {
      "cell_type": "code",
      "metadata": {
        "id": "jycyFJY9dhnn",
        "colab_type": "code",
        "colab": {}
      },
      "source": [
        "!pip install selenium\n",
        "!apt-get update # to update ubuntu to correctly run apt install\n",
        "!apt install chromium-chromedriver\n",
        "!cp /usr/lib/chromium-browser/chromedriver /usr/bin\n",
        "import sys\n",
        "sys.path.insert(0,'/usr/lib/chromium-browser/chromedriver')\n",
        "from selenium import webdriver\n",
        "chrome_options = webdriver.ChromeOptions()\n",
        "chrome_options.add_argument('--headless')\n",
        "chrome_options.add_argument('--no-sandbox')\n",
        "chrome_options.add_argument('--disable-dev-shm-usage')\n",
        "wd = webdriver.Chrome('chromedriver',chrome_options=chrome_options)\n"
      ],
      "execution_count": null,
      "outputs": []
    },
    {
      "cell_type": "code",
      "metadata": {
        "id": "s-qGgspEdnZd",
        "colab_type": "code",
        "colab": {}
      },
      "source": [
        "wd.get(\"https://www.ettoday.net/news/news-list.htm\")\n",
        "\n"
      ],
      "execution_count": null,
      "outputs": []
    },
    {
      "cell_type": "code",
      "metadata": {
        "id": "EwnbBFZfQMPT",
        "colab_type": "code",
        "colab": {}
      },
      "source": [
        "import requests\n",
        "from bs4 import BeautifulSoup\n",
        "import pandas as pd\n",
        "import time\n"
      ],
      "execution_count": null,
      "outputs": []
    },
    {
      "cell_type": "code",
      "metadata": {
        "id": "IOatG3Bid2WQ",
        "colab_type": "code",
        "colab": {}
      },
      "source": [
        "for i in range(100):\n",
        "    time.sleep(3)\n",
        "    wd.execute_script(\"window.scrollTo(0, 10000);\")"
      ],
      "execution_count": null,
      "outputs": []
    },
    {
      "cell_type": "code",
      "metadata": {
        "id": "Hchlp3MRaRjF",
        "colab_type": "code",
        "colab": {}
      },
      "source": [
        "\n",
        "soup = BeautifulSoup(wd.page_source, \"html5lib\")\n",
        "\n",
        "soup.find(class_=\"part_list_2\").find_all('h3')"
      ],
      "execution_count": null,
      "outputs": []
    },
    {
      "cell_type": "code",
      "metadata": {
        "id": "mCnDYLDGd7JF",
        "colab_type": "code",
        "colab": {}
      },
      "source": [
        "# browser.quit();\n",
        "wd.get(\"https://www.ettoday.net/news/news-list-2020-9-10-0.htm\")\n",
        "\n",
        "scrolls = 20\n",
        "while True:\n",
        "    scrolls -= 1\n",
        "    wd.execute_script(\"window.scrollTo(0, document.body.scrollHeight)\")\n",
        "    time.sleep(2)\n",
        "    if scrolls < 0:\n",
        "        break"
      ],
      "execution_count": null,
      "outputs": []
    },
    {
      "cell_type": "code",
      "metadata": {
        "id": "Jdt2tbcfQu4O",
        "colab_type": "code",
        "colab": {}
      },
      "source": [
        "soup = BeautifulSoup(wd.page_source, \"html5lib\")\n",
        "\n",
        "soup.find(class_=\"part_list_2\").find_all('h3')"
      ],
      "execution_count": null,
      "outputs": []
    },
    {
      "cell_type": "code",
      "metadata": {
        "id": "NJw0d-PBd5TN",
        "colab_type": "code",
        "colab": {}
      },
      "source": [
        "html_source = wd.page_source\n",
        "soup = BeautifulSoup(html_source, \"html5lib\")\n",
        "\n",
        "for d in soup.find(class_=\"part_list_2\").find_all('h3'):\n",
        "    if pd.to_datetime(d.find(class_=\"date\").text) > pd.to_datetime('2020/09/10 00:00'):\n",
        "        print(d.find(class_=\"date\").text, d.find_all('a')[-1].text)"
      ],
      "execution_count": null,
      "outputs": []
    },
    {
      "cell_type": "code",
      "metadata": {
        "id": "uV74rL4BQvR7",
        "colab_type": "code",
        "colab": {}
      },
      "source": [
        "from datetime import datetime, timedelta\n",
        "import pytz"
      ],
      "execution_count": null,
      "outputs": []
    },
    {
      "cell_type": "code",
      "metadata": {
        "id": "ShGM_956SBaW",
        "colab_type": "code",
        "colab": {}
      },
      "source": [
        "now = datetime.now(pytz.timezone('Asia/Taipei'))"
      ],
      "execution_count": null,
      "outputs": []
    },
    {
      "cell_type": "code",
      "metadata": {
        "id": "9PfGceX1Vzpr",
        "colab_type": "code",
        "colab": {}
      },
      "source": [
        "now = datetime.now()"
      ],
      "execution_count": null,
      "outputs": []
    },
    {
      "cell_type": "code",
      "metadata": {
        "id": "lcrxgszoWbri",
        "colab_type": "code",
        "colab": {}
      },
      "source": [
        "now"
      ],
      "execution_count": null,
      "outputs": []
    },
    {
      "cell_type": "code",
      "metadata": {
        "id": "Qq_8NJQ5SLvq",
        "colab_type": "code",
        "colab": {}
      },
      "source": [
        "two_hours_ago = now + timedelta(hours=6) "
      ],
      "execution_count": null,
      "outputs": []
    },
    {
      "cell_type": "code",
      "metadata": {
        "id": "PATKYSyPSn92",
        "colab_type": "code",
        "colab": {}
      },
      "source": [
        "two_hours_ago"
      ],
      "execution_count": null,
      "outputs": []
    },
    {
      "cell_type": "code",
      "metadata": {
        "id": "dP4TqRy9SdY0",
        "colab_type": "code",
        "colab": {}
      },
      "source": [
        "html_source = wd.page_source\n",
        "soup = BeautifulSoup(html_source, \"html5lib\")\n",
        "\n",
        "for d in soup.find(class_=\"part_list_2\").find_all('h3'):\n",
        "    if pd.to_datetime(d.find(class_=\"date\").text) > two_hours_ago:\n",
        "        print(d.find(class_=\"date\").text, d.find_all('a')[-1].text)"
      ],
      "execution_count": null,
      "outputs": []
    },
    {
      "cell_type": "code",
      "metadata": {
        "id": "CkhuzmlGSlIC",
        "colab_type": "code",
        "colab": {}
      },
      "source": [
        "pd.to_datetime(d.find(class_=\"date\").text, utc=True).tz_convert('Asia/Taipei')"
      ],
      "execution_count": null,
      "outputs": []
    },
    {
      "cell_type": "code",
      "metadata": {
        "id": "ehIGHrhHU4iO",
        "colab_type": "code",
        "colab": {}
      },
      "source": [
        "three_days_ago_start = pd.to_datetime('2020/09/07 15:00')\n",
        "three_days_ago_end = pd.to_datetime('2020/09/07 17:00')"
      ],
      "execution_count": null,
      "outputs": []
    },
    {
      "cell_type": "code",
      "metadata": {
        "id": "tvCyS4-LYRGr",
        "colab_type": "code",
        "colab": {}
      },
      "source": [
        "wd.get(\"https://www.ettoday.net/news/news-list.htm\")\n",
        "\n",
        "for i in range(10):\n",
        "    time.sleep(2)\n",
        "    wd.execute_script(\"window.scrollTo(0, 10000);\")\n",
        "html_source = wd.page_source\n",
        "soup = BeautifulSoup(html_source, \"html5lib\")\n",
        "\n",
        "for d in soup.find(class_=\"part_list_2\").find_all('h3'):\n",
        "    if three_days_ago_end> pd.to_datetime(d.find(class_=\"date\").text) > three_days_ago_start:\n",
        "        print(d.find(class_=\"date\").text, d.find_all('a')[-1].text)"
      ],
      "execution_count": null,
      "outputs": []
    },
    {
      "cell_type": "code",
      "metadata": {
        "id": "N7mj069bYpbj",
        "colab_type": "code",
        "colab": {}
      },
      "source": [
        "soup.find(class_=\"part_list_2\").find_all('h3')"
      ],
      "execution_count": null,
      "outputs": []
    },
    {
      "cell_type": "code",
      "metadata": {
        "id": "VYzIy-_2YsRH",
        "colab_type": "code",
        "colab": {}
      },
      "source": [
        ""
      ],
      "execution_count": null,
      "outputs": []
    }
  ]
}