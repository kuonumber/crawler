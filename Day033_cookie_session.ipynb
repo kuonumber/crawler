{
  "nbformat": 4,
  "nbformat_minor": 0,
  "metadata": {
    "colab": {
      "name": "Day033_cookie_session.ipynb",
      "provenance": [],
      "authorship_tag": "ABX9TyOqxNCgTdofAtDrsm68UWC/",
      "include_colab_link": true
    },
    "kernelspec": {
      "name": "python3",
      "display_name": "Python 3"
    }
  },
  "cells": [
    {
      "cell_type": "markdown",
      "metadata": {
        "id": "view-in-github",
        "colab_type": "text"
      },
      "source": [
        "<a href=\"https://colab.research.google.com/github/kuonumber/crawler/blob/master/Day033_cookie_session.ipynb\" target=\"_parent\"><img src=\"https://colab.research.google.com/assets/colab-badge.svg\" alt=\"Open In Colab\"/></a>"
      ]
    },
    {
      "cell_type": "code",
      "metadata": {
        "id": "dE04Ux77W8-z",
        "colab_type": "code",
        "colab": {}
      },
      "source": [
        "import requests\n",
        "from bs4 import BeautifulSoup"
      ],
      "execution_count": 1,
      "outputs": []
    },
    {
      "cell_type": "code",
      "metadata": {
        "id": "yua1yYtgbjef",
        "colab_type": "code",
        "colab": {}
      },
      "source": [
        "res = requests.get('https://www.ptt.cc/bbs/Gossiping/index.html', verify = False)\n",
        "soup = BeautifulSoup(res.text, 'html.parser')\n",
        "print(soup.text)"
      ],
      "execution_count": null,
      "outputs": []
    },
    {
      "cell_type": "code",
      "metadata": {
        "id": "Z5bYp6pFbjo8",
        "colab_type": "code",
        "colab": {}
      },
      "source": [
        "rs = requests.session()\n",
        "payload={\n",
        "    'from':'/bbs/Gossiping/index.html',\n",
        "    'yes': 'yes'\n",
        "}\n",
        "res = rs.post('https://www.ptt.cc/ask/over18',verify = False, data = payload)\n",
        "res = rs.get('https://www.ptt.cc/bbs/Gossiping/index.html',verify = False)\n",
        "soup = BeautifulSoup(res.text,'html.parser')\n",
        "print(soup.text) "
      ],
      "execution_count": null,
      "outputs": []
    },
    {
      "cell_type": "code",
      "metadata": {
        "id": "aHKv2sZybv11",
        "colab_type": "code",
        "colab": {}
      },
      "source": [
        "res = requests.get('https://www.ptt.cc/bbs/Gossiping/index.html',verify = False, cookies={'over18': '1'})\n",
        "soup = BeautifulSoup(res.text,'html.parser')\n",
        "print(soup.text)"
      ],
      "execution_count": null,
      "outputs": []
    },
    {
      "cell_type": "markdown",
      "metadata": {
        "id": "VoyGJmP6fdJc",
        "colab_type": "text"
      },
      "source": [
        "# github"
      ]
    },
    {
      "cell_type": "markdown",
      "metadata": {
        "id": "rk1wRHA7fj2w",
        "colab_type": "text"
      },
      "source": [
        "## cookie"
      ]
    },
    {
      "cell_type": "code",
      "metadata": {
        "id": "97L3x0yIcU8t",
        "colab_type": "code",
        "colab": {
          "base_uri": "https://localhost:8080/",
          "height": 107
        },
        "outputId": "0e862fea-cd6e-4286-b7e8-1ffb17c56188"
      },
      "source": [
        "res =  requests.get('https://github.com/new',verify = False)"
      ],
      "execution_count": 5,
      "outputs": [
        {
          "output_type": "stream",
          "text": [
            "/usr/local/lib/python3.6/dist-packages/urllib3/connectionpool.py:847: InsecureRequestWarning: Unverified HTTPS request is being made. Adding certificate verification is strongly advised. See: https://urllib3.readthedocs.io/en/latest/advanced-usage.html#ssl-warnings\n",
            "  InsecureRequestWarning)\n",
            "/usr/local/lib/python3.6/dist-packages/urllib3/connectionpool.py:847: InsecureRequestWarning: Unverified HTTPS request is being made. Adding certificate verification is strongly advised. See: https://urllib3.readthedocs.io/en/latest/advanced-usage.html#ssl-warnings\n",
            "  InsecureRequestWarning)\n"
          ],
          "name": "stderr"
        }
      ]
    },
    {
      "cell_type": "code",
      "metadata": {
        "id": "aN-yXvCsdWyb",
        "colab_type": "code",
        "colab": {}
      },
      "source": [
        "soup = BeautifulSoup(res.text,'html.parser')\n",
        "print(soup.text)"
      ],
      "execution_count": null,
      "outputs": []
    },
    {
      "cell_type": "code",
      "metadata": {
        "id": "Qg3EYDdodXaq",
        "colab_type": "code",
        "colab": {}
      },
      "source": [
        "Cookie = {'_octo':''}"
      ],
      "execution_count": 7,
      "outputs": []
    },
    {
      "cell_type": "code",
      "metadata": {
        "id": "FBM9BemWemDd",
        "colab_type": "code",
        "colab": {
          "base_uri": "https://localhost:8080/",
          "height": 72
        },
        "outputId": "a489aa49-1a8c-4c0f-df7e-c6d33eb0343f"
      },
      "source": [
        "res =  requests.get('https://github.com/new',verify = False, cookies=Cookie)"
      ],
      "execution_count": 8,
      "outputs": [
        {
          "output_type": "stream",
          "text": [
            "/usr/local/lib/python3.6/dist-packages/urllib3/connectionpool.py:847: InsecureRequestWarning: Unverified HTTPS request is being made. Adding certificate verification is strongly advised. See: https://urllib3.readthedocs.io/en/latest/advanced-usage.html#ssl-warnings\n",
            "  InsecureRequestWarning)\n"
          ],
          "name": "stderr"
        }
      ]
    },
    {
      "cell_type": "code",
      "metadata": {
        "id": "Q3oBjSbLesxt",
        "colab_type": "code",
        "colab": {}
      },
      "source": [
        "soup = BeautifulSoup(res.text,'html.parser')\n",
        "print(soup.text)"
      ],
      "execution_count": null,
      "outputs": []
    },
    {
      "cell_type": "markdown",
      "metadata": {
        "id": "nPhvrt5Sfnhq",
        "colab_type": "text"
      },
      "source": [
        "## session"
      ]
    },
    {
      "cell_type": "code",
      "metadata": {
        "id": "ryJHKcpIevZn",
        "colab_type": "code",
        "colab": {}
      },
      "source": [
        "rs = requests.session()\n",
        "# payload={\n",
        "#     'return_to':'https://github.com/new',\n",
        "# }\n",
        "res = rs.post('https://github.com/session',verify = False, data = payload)\n",
        "res = rs.get('https://github.com/new',verify = False)\n",
        "soup = BeautifulSoup(res.text,'html.parser')\n",
        "print(soup.text) "
      ],
      "execution_count": null,
      "outputs": []
    },
    {
      "cell_type": "code",
      "metadata": {
        "id": "BZJumlWNiHWu",
        "colab_type": "code",
        "colab": {}
      },
      "source": [
        ""
      ],
      "execution_count": null,
      "outputs": []
    }
  ]
}