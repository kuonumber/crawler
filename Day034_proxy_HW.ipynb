{
  "nbformat": 4,
  "nbformat_minor": 0,
  "metadata": {
    "colab": {
      "name": "Day034_proxy_HW.ipynb",
      "provenance": [],
      "collapsed_sections": [],
      "authorship_tag": "ABX9TyNQ2i1yqSxZEPKFIOBYkVY8",
      "include_colab_link": true
    },
    "kernelspec": {
      "name": "python3",
      "display_name": "Python 3"
    }
  },
  "cells": [
    {
      "cell_type": "markdown",
      "metadata": {
        "id": "view-in-github",
        "colab_type": "text"
      },
      "source": [
        "<a href=\"https://colab.research.google.com/github/kuonumber/crawler/blob/master/Day034_proxy_HW.ipynb\" target=\"_parent\"><img src=\"https://colab.research.google.com/assets/colab-badge.svg\" alt=\"Open In Colab\"/></a>"
      ]
    },
    {
      "cell_type": "code",
      "metadata": {
        "id": "03BvamFifich",
        "colab_type": "code",
        "colab": {}
      },
      "source": [
        "from bs4 import BeautifulSoup\n",
        "import requests\n",
        "import random"
      ],
      "execution_count": 5,
      "outputs": []
    },
    {
      "cell_type": "code",
      "metadata": {
        "id": "eYnm54gvfnmV",
        "colab_type": "code",
        "colab": {
          "base_uri": "https://localhost:8080/",
          "height": 194
        },
        "outputId": "b6b91483-f087-4c19-e9c6-2083d6d97868"
      },
      "source": [
        "proxy_ips = ['51.158.99.51:8811', '51.158.111.229:8811', '206.189.235.156:80', '68.183.105.214:8080']\n",
        "\n",
        "for i in range(5):\n",
        "    ip = random.choice(proxy_ips)\n",
        "    print('Use', ip)\n",
        "    try:\n",
        "        resp = requests.get('http://ip.filefab.com/index.php',\n",
        "                        proxies={'http': ip})\n",
        "        soup = BeautifulSoup(resp.text, 'html5lib')\n",
        "        print(soup.find('h1', id='ipd').text.strip())\n",
        "    except:\n",
        "        print('time out')\n",
        "        pass"
      ],
      "execution_count": 6,
      "outputs": [
        {
          "output_type": "stream",
          "text": [
            "Use 51.158.111.229:8811\n",
            "time out\n",
            "Use 51.158.111.229:8811\n",
            "time out\n",
            "Use 51.158.111.229:8811\n",
            "time out\n",
            "Use 68.183.105.214:8080\n",
            "time out\n",
            "Use 68.183.105.214:8080\n",
            "time out\n"
          ],
          "name": "stdout"
        }
      ]
    },
    {
      "cell_type": "code",
      "metadata": {
        "id": "Lfig5AAefWah",
        "colab_type": "code",
        "colab": {}
      },
      "source": [
        "proxy_list = 'https://free-proxy-list.net/'"
      ],
      "execution_count": 16,
      "outputs": []
    },
    {
      "cell_type": "code",
      "metadata": {
        "id": "OhpnopsXg9yT",
        "colab_type": "code",
        "colab": {}
      },
      "source": [
        "res = requests.get(proxy_list)\n",
        "soup = BeautifulSoup(res.text)"
      ],
      "execution_count": 17,
      "outputs": []
    },
    {
      "cell_type": "code",
      "metadata": {
        "id": "YvaSS8ompHHt",
        "colab_type": "code",
        "colab": {}
      },
      "source": [
        "from itertools import chain\n",
        "\n"
      ],
      "execution_count": 43,
      "outputs": []
    },
    {
      "cell_type": "code",
      "metadata": {
        "id": "It-WYS1Om1w_",
        "colab_type": "code",
        "colab": {}
      },
      "source": [
        "l = list(zip([ s.text for s in soup.select('tr td')[0::8] if '.' in s.text], \n",
        "[ s.text for s in soup.select('tr td')[1::8]][0:300] ) )"
      ],
      "execution_count": 48,
      "outputs": []
    },
    {
      "cell_type": "code",
      "metadata": {
        "id": "N0HmhzUBp6A5",
        "colab_type": "code",
        "colab": {}
      },
      "source": [
        "proxy_ips = [':'.join(ll) for ll in l]"
      ],
      "execution_count": 52,
      "outputs": []
    },
    {
      "cell_type": "code",
      "metadata": {
        "id": "MX0P2GfXhlNz",
        "colab_type": "code",
        "colab": {}
      },
      "source": [
        "# proxy_ips = soup.select('textarea')[0].text.split('UTC.')[1].split()"
      ],
      "execution_count": 12,
      "outputs": []
    },
    {
      "cell_type": "code",
      "metadata": {
        "id": "R9ETdWqYkScD",
        "colab_type": "code",
        "colab": {}
      },
      "source": [
        "# proxy_ips_ = [ip.split(':')[0] for ip in proxy_ips]"
      ],
      "execution_count": 13,
      "outputs": []
    },
    {
      "cell_type": "code",
      "metadata": {
        "id": "Dkp3b33zlTNm",
        "colab_type": "code",
        "colab": {}
      },
      "source": [
        "# proxy_ips = ['1.65.202.188:80','51.158.99.51:8811', '51.158.111.229:8811', '206.189.235.156:80', '68.183.105.214:8080']"
      ],
      "execution_count": 6,
      "outputs": []
    },
    {
      "cell_type": "code",
      "metadata": {
        "id": "2B0NPVVai3vv",
        "colab_type": "code",
        "colab": {
          "base_uri": "https://localhost:8080/",
          "height": 176
        },
        "outputId": "cc13ffd9-c848-4dfc-ac8e-a04172c2ab5e"
      },
      "source": [
        "for i in range(5):\n",
        "    ip = random.choice(proxy_ips)\n",
        "    print('Use', ip)\n",
        "    try:\n",
        "        resp = requests.get('http://ip.filefab.com/index.php',\n",
        "                        proxies={'http': ip})\n",
        "        soup = BeautifulSoup(resp.text, 'html5lib')\n",
        "        print(soup.find('h1', id='ipd').text.strip())\n",
        "    except:\n",
        "        print('time out')\n",
        "        pass"
      ],
      "execution_count": null,
      "outputs": [
        {
          "output_type": "stream",
          "text": [
            "Use 202.29.237.211:3128\n",
            "time out\n",
            "Use 83.97.23.90:18080\n",
            "Your IP address: 83.97.23.90\n",
            "Use 54.38.218.212:6582\n",
            "time out\n",
            "Use 105.27.237.24:80\n",
            "Your IP address: 105.27.207.138\n",
            "Use 139.5.71.46:23500\n"
          ],
          "name": "stdout"
        }
      ]
    },
    {
      "cell_type": "code",
      "metadata": {
        "id": "W51zMoLNl7tr",
        "colab_type": "code",
        "colab": {}
      },
      "source": [
        ""
      ],
      "execution_count": null,
      "outputs": []
    }
  ]
}