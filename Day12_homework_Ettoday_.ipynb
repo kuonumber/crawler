{
  "nbformat": 4,
  "nbformat_minor": 0,
  "metadata": {
    "colab": {
      "name": "Day12_homework_Ettoday .ipynb",
      "provenance": [],
      "authorship_tag": "ABX9TyPagCf6NAmW8Uh3ROwhDkrx",
      "include_colab_link": true
    },
    "kernelspec": {
      "name": "python3",
      "display_name": "Python 3"
    }
  },
  "cells": [
    {
      "cell_type": "markdown",
      "metadata": {
        "id": "view-in-github",
        "colab_type": "text"
      },
      "source": [
        "<a href=\"https://colab.research.google.com/github/kuonumber/crawler/blob/master/Day12_homework_Ettoday_.ipynb\" target=\"_parent\"><img src=\"https://colab.research.google.com/assets/colab-badge.svg\" alt=\"Open In Colab\"/></a>"
      ]
    },
    {
      "cell_type": "code",
      "metadata": {
        "id": "lgPnUrTX9UZO",
        "colab_type": "code",
        "colab": {}
      },
      "source": [
        "import requests\n",
        "from bs4 import BeautifulSoup\n",
        "\n",
        "url = 'https://www.ettoday.net/news/news-list.htm'\n",
        "# url = 'https://www.ettoday.net/news/news-list-2020-9-2-1.htm'\n",
        "r = requests.get(url)\n",
        "\n",
        "soup = BeautifulSoup(r.text, \"html5lib\")\n",
        "\n",
        "for d in soup.find(class_=\"part_list_2\").find_all('h3'):\n",
        "    print(d.find(class_=\"date\").text, d.find_all('a')[-1].text)"
      ],
      "execution_count": null,
      "outputs": []
    },
    {
      "cell_type": "markdown",
      "metadata": {
        "id": "qJP1wzkoFmYT",
        "colab_type": "text"
      },
      "source": [
        "1. 取出今天所有的發文\n",
        "2. 如果想要依照類別分類，怎麼儲存會比較好？\n",
        "3. 哪一個類別的文章最多"
      ]
    },
    {
      "cell_type": "code",
      "metadata": {
        "id": "L8fXUB6OC_e7",
        "colab_type": "code",
        "colab": {}
      },
      "source": [
        " urls = [(url.text , 'https://www.ettoday.net/' + url['href']) for url in soup.select('.part_menu_2 ul a')]\n",
        "# print(url.text) subject"
      ],
      "execution_count": 37,
      "outputs": []
    },
    {
      "cell_type": "code",
      "metadata": {
        "id": "DJ2PVvgfD7iE",
        "colab_type": "code",
        "colab": {
          "base_uri": "https://localhost:8080/",
          "height": 656
        },
        "outputId": "605e314b-bd3a-47c8-d562-8666991ba374"
      },
      "source": [
        "urls"
      ],
      "execution_count": 38,
      "outputs": [
        {
          "output_type": "execute_result",
          "data": {
            "text/plain": [
              "[('總覽', 'https://www.ettoday.net//news/news-list-2020-09-02-0.htm'),\n",
              " ('政治', 'https://www.ettoday.net//news/news-list-2020-09-02-1.htm'),\n",
              " ('財經', 'https://www.ettoday.net//news/news-list-2020-09-02-17.htm'),\n",
              " ('論壇', 'https://www.ettoday.net//news/news-list-2020-09-02-13.htm'),\n",
              " ('國際', 'https://www.ettoday.net//news/news-list-2020-09-02-2.htm'),\n",
              " ('大陸', 'https://www.ettoday.net//news/news-list-2020-09-02-3.htm'),\n",
              " ('社會', 'https://www.ettoday.net//news/news-list-2020-09-02-6.htm'),\n",
              " ('地方', 'https://www.ettoday.net//news/news-list-2020-09-02-7.htm'),\n",
              " ('新奇', 'https://www.ettoday.net//news/news-list-2020-09-02-4.htm'),\n",
              " ('生活', 'https://www.ettoday.net//news/news-list-2020-09-02-5.htm'),\n",
              " ('寵物動物', 'https://www.ettoday.net//news/news-list-2020-09-02-8.htm'),\n",
              " ('影劇', 'https://www.ettoday.net//news/news-list-2020-09-02-9.htm'),\n",
              " ('體育', 'https://www.ettoday.net//news/news-list-2020-09-02-10.htm'),\n",
              " ('旅遊', 'https://www.ettoday.net//news/news-list-2020-09-02-11.htm'),\n",
              " ('消費', 'https://www.ettoday.net//news/news-list-2020-09-02-12.htm'),\n",
              " ('名家', 'https://www.ettoday.net//news/news-list-2020-09-02-15.htm'),\n",
              " ('ET來了', 'https://www.ettoday.net//news/news-list-2020-09-02-18.htm'),\n",
              " ('3C家電', 'https://www.ettoday.net//news/news-list-2020-09-02-20.htm'),\n",
              " ('健康', 'https://www.ettoday.net//news/news-list-2020-09-02-21.htm'),\n",
              " ('男女', 'https://www.ettoday.net//news/news-list-2020-09-02-22.htm'),\n",
              " ('公益', 'https://www.ettoday.net//news/news-list-2020-09-02-23.htm'),\n",
              " ('遊戲', 'https://www.ettoday.net//news/news-list-2020-09-02-24.htm'),\n",
              " ('電影', 'https://www.ettoday.net//news/news-list-2020-09-02-28.htm'),\n",
              " ('時尚', 'https://www.ettoday.net//news/news-list-2020-09-02-30.htm'),\n",
              " ('網搜', 'https://www.ettoday.net//news/news-list-2020-09-02-26.htm'),\n",
              " ('親子', 'https://www.ettoday.net//news/news-list-2020-09-02-32.htm'),\n",
              " ('房產雲', 'https://www.ettoday.net//news/news-list-2020-09-02-33.htm'),\n",
              " ('ET車雲', 'https://www.ettoday.net//news/news-list-2020-09-02-34.htm'),\n",
              " ('軍武', 'https://www.ettoday.net//news/news-list-2020-09-02-35.htm'),\n",
              " ('保險', 'https://www.ettoday.net//news/news-list-2020-09-02-36.htm'),\n",
              " ('法律', 'https://www.ettoday.net//news/news-list-2020-09-02-38.htm'),\n",
              " ('新連鎖', 'https://www.ettoday.net//news/news-list-2020-09-02-39.htm'),\n",
              " ('探索', 'https://www.ettoday.net//news/news-list-2020-09-02-40.htm'),\n",
              " ('電競', 'https://www.ettoday.net//news/news-list-2020-09-02-41.htm'),\n",
              " ('行銷雲', 'https://www.ettoday.net//news/news-list-2020-09-02-43.htm'),\n",
              " ('購物雲', 'https://www.ettoday.net//news/news-list-2020-09-02-31.htm')]"
            ]
          },
          "metadata": {
            "tags": []
          },
          "execution_count": 38
        }
      ]
    },
    {
      "cell_type": "code",
      "metadata": {
        "id": "VrxRCW0cErcX",
        "colab_type": "code",
        "colab": {}
      },
      "source": [
        "from collections import defaultdict"
      ],
      "execution_count": 39,
      "outputs": []
    },
    {
      "cell_type": "code",
      "metadata": {
        "id": "OaeRuycn9X9J",
        "colab_type": "code",
        "colab": {}
      },
      "source": [
        "d_news = defaultdict(list)\n",
        "for u in urls:\n",
        "    r = requests.get(u[1])\n",
        "    soup = BeautifulSoup(r.text, \"html5lib\")\n",
        "    for d in soup.find(class_=\"part_list_2\").find_all('h3'):\n",
        "        # print(d.find(class_=\"date\").text, d.find_all('a')[-1].text)\n",
        "        d_news[u[0]].append((d.find(class_=\"date\").text, d.find_all('a')[-1].text))"
      ],
      "execution_count": 46,
      "outputs": []
    },
    {
      "cell_type": "code",
      "metadata": {
        "id": "CqHDvHARFDAS",
        "colab_type": "code",
        "colab": {}
      },
      "source": [
        "length_dict = {key: len(value) for key, value in d_news.items()}\n"
      ],
      "execution_count": 55,
      "outputs": []
    },
    {
      "cell_type": "code",
      "metadata": {
        "id": "MsdlM6Vc-kzb",
        "colab_type": "code",
        "colab": {
          "base_uri": "https://localhost:8080/",
          "height": 621
        },
        "outputId": "7966e227-5a9f-43ae-c44c-aae6b2efa197"
      },
      "source": [
        "length_dict"
      ],
      "execution_count": 56,
      "outputs": [
        {
          "output_type": "execute_result",
          "data": {
            "text/plain": [
              "{'3C家電': 61,\n",
              " 'ET來了': 1,\n",
              " 'ET車雲': 69,\n",
              " '保險': 11,\n",
              " '健康': 100,\n",
              " '公益': 5,\n",
              " '名家': 5,\n",
              " '國際': 100,\n",
              " '地方': 100,\n",
              " '大陸': 100,\n",
              " '寵物動物': 100,\n",
              " '影劇': 100,\n",
              " '房產雲': 100,\n",
              " '探索': 17,\n",
              " '政治': 100,\n",
              " '新奇': 5,\n",
              " '新連鎖': 8,\n",
              " '旅遊': 100,\n",
              " '時尚': 100,\n",
              " '法律': 7,\n",
              " '消費': 54,\n",
              " '生活': 100,\n",
              " '男女': 1,\n",
              " '社會': 100,\n",
              " '網搜': 15,\n",
              " '總覽': 100,\n",
              " '行銷雲': 1,\n",
              " '親子': 1,\n",
              " '論壇': 55,\n",
              " '財經': 100,\n",
              " '軍武': 57,\n",
              " '遊戲': 22,\n",
              " '電競': 3,\n",
              " '體育': 100}"
            ]
          },
          "metadata": {
            "tags": []
          },
          "execution_count": 56
        }
      ]
    },
    {
      "cell_type": "code",
      "metadata": {
        "id": "6p_rz1i6GgLL",
        "colab_type": "code",
        "colab": {}
      },
      "source": [
        ""
      ],
      "execution_count": null,
      "outputs": []
    }
  ]
}