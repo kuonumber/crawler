{
  "nbformat": 4,
  "nbformat_minor": 0,
  "metadata": {
    "colab": {
      "name": "Day030_anti_crawler_HW.ipynb",
      "provenance": [],
      "collapsed_sections": [],
      "authorship_tag": "ABX9TyNFCWPvolsuRAs8DlqJe48M",
      "include_colab_link": true
    },
    "kernelspec": {
      "name": "python3",
      "display_name": "Python 3"
    }
  },
  "cells": [
    {
      "cell_type": "markdown",
      "metadata": {
        "id": "view-in-github",
        "colab_type": "text"
      },
      "source": [
        "<a href=\"https://colab.research.google.com/github/kuonumber/crawler/blob/master/Day030_anti_crawler_HW.ipynb\" target=\"_parent\"><img src=\"https://colab.research.google.com/assets/colab-badge.svg\" alt=\"Open In Colab\"/></a>"
      ]
    },
    {
      "cell_type": "markdown",
      "metadata": {
        "id": "RAS3SHpDiNlZ",
        "colab_type": "text"
      },
      "source": [
        "[5 Anti-Scraping Techniques](https://www.octoparse.com/blog/5-anti-scraping-techniques-you-may-encounter)"
      ]
    },
    {
      "cell_type": "markdown",
      "metadata": {
        "id": "Kknng38HlvDI",
        "colab_type": "text"
      },
      "source": [
        "* 實際上遇過的是IP被鎖住，新手很容易忘記\n",
        "* 再來就是會需要驗證，比如ptt的是否滿18歲\n",
        "* 圖片辨識的驗證機制\n",
        "* api總流量控管機制\n",
        "* 需要登入帳號的機制\n",
        "* 網頁動態更新機制"
      ]
    },
    {
      "cell_type": "code",
      "metadata": {
        "id": "oDkH01jxlhrC",
        "colab_type": "code",
        "colab": {}
      },
      "source": [
        ""
      ],
      "execution_count": null,
      "outputs": []
    }
  ]
}