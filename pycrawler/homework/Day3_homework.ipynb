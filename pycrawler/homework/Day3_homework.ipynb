{
  "nbformat": 4,
  "nbformat_minor": 0,
  "metadata": {
    "colab": {
      "name": "Day3_homework.ipynb",
      "provenance": [],
      "collapsed_sections": [],
      "authorship_tag": "ABX9TyOcktAo/I2hgxd2t+bFw9sO",
      "include_colab_link": true
    },
    "kernelspec": {
      "name": "python3",
      "display_name": "Python 3"
    }
  },
  "cells": [
    {
      "cell_type": "markdown",
      "metadata": {
        "id": "view-in-github",
        "colab_type": "text"
      },
      "source": [
        "<a href=\"https://colab.research.google.com/github/kuonumber/crawler/blob/master/Day3_homework.ipynb\" target=\"_parent\"><img src=\"https://colab.research.google.com/assets/colab-badge.svg\" alt=\"Open In Colab\"/></a>"
      ]
    },
    {
      "cell_type": "code",
      "metadata": {
        "id": "CUV4Um9GfmZr",
        "colab_type": "code",
        "colab": {
          "base_uri": "https://localhost:8080/"
        },
        "outputId": "403755ed-eaa9-4025-ccc7-1762bb333c91"
      },
      "source": [
        "from google.colab import drive\n",
        "drive.mount('/gdrive')\n",
        "%cd /gdrive/'My Drive'/'Colab Notebooks'"
      ],
      "execution_count": null,
      "outputs": [
        {
          "output_type": "stream",
          "text": [
            "Drive already mounted at /gdrive; to attempt to forcibly remount, call drive.mount(\"/gdrive\", force_remount=True).\n",
            "/gdrive/My Drive/Colab Notebooks\n"
          ],
          "name": "stdout"
        }
      ]
    },
    {
      "cell_type": "markdown",
      "metadata": {
        "id": "FC4kLCdzgu4d",
        "colab_type": "text"
      },
      "source": [
        "<img src=\"https://pycrawler-fileentity.cupoy.com/marathon/dailytask/1586233886780/1594201753538\">"
      ]
    },
    {
      "cell_type": "code",
      "metadata": {
        "id": "SZSJnGXJfs6j",
        "colab_type": "code",
        "colab": {}
      },
      "source": [
        "import xml.dom.minidom\n"
      ],
      "execution_count": null,
      "outputs": []
    },
    {
      "cell_type": "code",
      "metadata": {
        "id": "VEFcDngfjrgJ",
        "colab_type": "code",
        "colab": {
          "base_uri": "https://localhost:8080/",
          "height": 187
        },
        "outputId": "d757a081-0e7c-4441-aa70-e778bdc8d9a5"
      },
      "source": [
        "! head ./crawler/example/sample.xml"
      ],
      "execution_count": null,
      "outputs": [
        {
          "output_type": "stream",
          "text": [
            "<?xml version=\"1.0\" encoding=\"UTF-8\"?>\n",
            "<CUPOY>\n",
            "    <Title>爬蟲馬拉松</Title>\n",
            "    <Author>Wei</Author>\n",
            "    <Chapters>\n",
            "        <Chapter name=\"01\">資料來源與存取</Chapter>\n",
            "        <Chapter name=\"02\">靜態網頁爬蟲</Chapter>\n",
            "        <Chapter name=\"03\">動態網頁爬蟲</Chapter>\n",
            "    </Chapters>\n",
            "</CUPOY>"
          ],
          "name": "stdout"
        }
      ]
    },
    {
      "cell_type": "code",
      "metadata": {
        "id": "f_e33yr3gq9f",
        "colab_type": "code",
        "colab": {}
      },
      "source": [
        "doc = xml.dom.minidom.parse(\"./crawler/example/sample.xml\")\n"
      ],
      "execution_count": null,
      "outputs": []
    },
    {
      "cell_type": "code",
      "metadata": {
        "id": "9nHGrpFsgohs",
        "colab_type": "code",
        "colab": {
          "base_uri": "https://localhost:8080/",
          "height": 34
        },
        "outputId": "09d787dd-e1cc-4c79-c7f4-1f4f56c6468d"
      },
      "source": [
        "print(doc.getElementsByTagName(\"Title\")[0].firstChild.nodeValue)\n"
      ],
      "execution_count": null,
      "outputs": [
        {
          "output_type": "stream",
          "text": [
            "爬蟲馬拉松\n"
          ],
          "name": "stdout"
        }
      ]
    },
    {
      "cell_type": "code",
      "metadata": {
        "id": "OzzJqacQg1Lj",
        "colab_type": "code",
        "colab": {
          "base_uri": "https://localhost:8080/",
          "height": 68
        },
        "outputId": "b0949bc7-a134-4397-f998-b077c5722fbe"
      },
      "source": [
        "chapters = doc.getElementsByTagName(\"Chapter\")\n",
        "for chapter in chapters:\n",
        "    print (chapter.getAttribute('name'), chapter.firstChild.nodeValue)"
      ],
      "execution_count": null,
      "outputs": [
        {
          "output_type": "stream",
          "text": [
            "01 資料來源與存取\n",
            "02 靜態網頁爬蟲\n",
            "03 動態網頁爬蟲\n"
          ],
          "name": "stdout"
        }
      ]
    },
    {
      "cell_type": "markdown",
      "metadata": {
        "id": "q9tflE20lQ3C",
        "colab_type": "text"
      },
      "source": [
        ""
      ]
    },
    {
      "cell_type": "code",
      "metadata": {
        "id": "ud8Kfj8Aj8Bo",
        "colab_type": "code",
        "colab": {
          "base_uri": "https://localhost:8080/",
          "height": 85
        },
        "outputId": "abbe9a9a-05fd-4242-b4ee-ab209e161b6a"
      },
      "source": [
        "import xml.etree.ElementTree as ET \n",
        "\n",
        "# 存取檔案\n",
        "tree = ET.parse('./crawler/example/sample.xml') \n",
        "root = tree.getroot()\n",
        "\n",
        "# 存取我們的資訊\n",
        "print(root[0].text)\n",
        "\n",
        "# 用迴圈存取我們的資訊\n",
        "chapters = root[2]\n",
        "for chapter in chapters:\n",
        "    print (chapter.attrib['name'], chapter.text)"
      ],
      "execution_count": null,
      "outputs": [
        {
          "output_type": "stream",
          "text": [
            "爬蟲馬拉松\n",
            "01 資料來源與存取\n",
            "02 靜態網頁爬蟲\n",
            "03 動態網頁爬蟲\n"
          ],
          "name": "stdout"
        }
      ]
    },
    {
      "cell_type": "code",
      "metadata": {
        "id": "u2yRDSxxkLIZ",
        "colab_type": "code",
        "colab": {}
      },
      "source": [
        "# import urllib.request\n",
        "# import zipfile\n",
        "\n",
        "# res = \"https://pycrawler-fileentity.cupoy.com/marathon/homework/data/1586231146731/example.zip?t=1586231152502\"\n",
        "# urllib.request.urlretrieve(res, \"./data/example.zip\")\n",
        "# f = zipfile.ZipFile('./data/example.zip')\n",
        "# f.extractall('./data')"
      ],
      "execution_count": null,
      "outputs": []
    },
    {
      "cell_type": "code",
      "metadata": {
        "id": "DSe3bIU8k1j6",
        "colab_type": "code",
        "colab": {
          "base_uri": "https://localhost:8080/",
          "height": 187
        },
        "outputId": "ecb9813a-d9df-40b7-8262-bcde7ae758f3"
      },
      "source": [
        "!head ./crawler/example/64_72hr_CH.xml"
      ],
      "execution_count": null,
      "outputs": [
        {
          "output_type": "stream",
          "text": [
            "<?xml version=\"1.0\" encoding=\"utf-8\"?>\n",
            "<cwbopendata xmlns=\"urn:cwb:gov:tw:cwbcommon:0.1\">\n",
            "  <identifier>ee2e9d7d-647c-4634-9027-7c822bde7bc0</identifier>\n",
            "  <sender>weather@cwb.gov.tw</sender>\n",
            "  <sent>2019-06-28T12:20:35+08:00</sent>\n",
            "  <status>Actual</status>\n",
            "  <scope>Public</scope>\n",
            "  <msgType>Issue</msgType>\n",
            "  <dataid>D0047-065</dataid>\n",
            "  <source>MFC</source>\n"
          ],
          "name": "stdout"
        }
      ]
    },
    {
      "cell_type": "code",
      "metadata": {
        "id": "3r7U9W4Kl20r",
        "colab_type": "code",
        "colab": {
          "base_uri": "https://localhost:8080/",
          "height": 87
        },
        "outputId": "b496bdc6-c9da-4cce-f1a3-0afa62cd5f2f"
      },
      "source": [
        "! pip install xmltodict"
      ],
      "execution_count": null,
      "outputs": [
        {
          "output_type": "stream",
          "text": [
            "Collecting xmltodict\n",
            "  Downloading https://files.pythonhosted.org/packages/28/fd/30d5c1d3ac29ce229f6bdc40bbc20b28f716e8b363140c26eff19122d8a5/xmltodict-0.12.0-py2.py3-none-any.whl\n",
            "Installing collected packages: xmltodict\n",
            "Successfully installed xmltodict-0.12.0\n"
          ],
          "name": "stdout"
        }
      ]
    },
    {
      "cell_type": "code",
      "metadata": {
        "id": "PRDxQgDmk5pp",
        "colab_type": "code",
        "colab": {}
      },
      "source": [
        "# ./crawler/example/\n",
        "import xmltodict\n",
        "f =  open('./crawler/example/64_72hr_CH.xml', 'rb')\n",
        "d = dict(xmltodict.parse( f))\n",
        "f.close()\n"
      ],
      "execution_count": null,
      "outputs": []
    },
    {
      "cell_type": "code",
      "metadata": {
        "id": "I4SKP6Xylgk2",
        "colab_type": "code",
        "colab": {}
      },
      "source": [
        "datasetDescription = d['cwbopendata']['dataset']['datasetInfo']['datasetDescription']\n"
      ],
      "execution_count": null,
      "outputs": []
    },
    {
      "cell_type": "code",
      "metadata": {
        "id": "4GUOm4eDm__e",
        "colab_type": "code",
        "colab": {
          "base_uri": "https://localhost:8080/",
          "height": 34
        },
        "outputId": "b35a8957-9e1d-490f-bad0-a5fa3f9aa2c1"
      },
      "source": [
        "print(datasetDescription)\n"
      ],
      "execution_count": null,
      "outputs": [
        {
          "output_type": "stream",
          "text": [
            "臺灣各縣市鄉鎮未來3天(72小時)逐3小時天氣預報\n"
          ],
          "name": "stdout"
        }
      ]
    },
    {
      "cell_type": "code",
      "metadata": {
        "id": "k3Lbm3FMnD0Y",
        "colab_type": "code",
        "colab": {}
      },
      "source": [
        "from bs4 import BeautifulSoup"
      ],
      "execution_count": null,
      "outputs": []
    },
    {
      "cell_type": "code",
      "metadata": {
        "id": "cJb6kl5anHQ8",
        "colab_type": "code",
        "colab": {}
      },
      "source": [
        "f =  open('./crawler/example/64_72hr_CH.xml', 'rb')\n",
        "soup = BeautifulSoup(f)\n",
        "f.close()"
      ],
      "execution_count": null,
      "outputs": []
    },
    {
      "cell_type": "code",
      "metadata": {
        "id": "jI5mVI8pnhCF",
        "colab_type": "code",
        "colab": {}
      },
      "source": [
        "# soup.select('locations')"
      ],
      "execution_count": null,
      "outputs": []
    },
    {
      "cell_type": "code",
      "metadata": {
        "id": "Q48FWoeJnihM",
        "colab_type": "code",
        "colab": {}
      },
      "source": [
        "# 請問高雄市有多少地區有溫度資料？\n",
        "# 請取出每一個地區所記錄的第一個時間點跟溫度\n",
        "# 請取出第一個地區所記錄的每一個時間點跟溫度"
      ],
      "execution_count": null,
      "outputs": []
    },
    {
      "cell_type": "code",
      "metadata": {
        "id": "LuTN3ykA05f3",
        "colab_type": "code",
        "colab": {
          "base_uri": "https://localhost:8080/",
          "height": 34
        },
        "outputId": "e78d6547-a4c7-4277-cb64-f2748bf48084"
      },
      "source": [
        "len(d['cwbopendata']['dataset']['locations']['location'])"
      ],
      "execution_count": null,
      "outputs": [
        {
          "output_type": "execute_result",
          "data": {
            "text/plain": [
              "38"
            ]
          },
          "metadata": {
            "tags": []
          },
          "execution_count": 23
        }
      ]
    },
    {
      "cell_type": "code",
      "metadata": {
        "id": "PAp0KeKc03i6",
        "colab_type": "code",
        "colab": {
          "base_uri": "https://localhost:8080/",
          "height": 692
        },
        "outputId": "6832f41c-e57c-47bf-c57d-44f7d8c31cf4"
      },
      "source": [
        "# d['cwbopendata']['dataset']['locations']['location'][0]['weatherElement'][0]['time'][0]['elementValue']\n",
        "[d['cwbopendata']['dataset']['locations']['location'][i]['weatherElement'][0]['time'][0]['elementValue'] for i in range(0,38)]"
      ],
      "execution_count": null,
      "outputs": [
        {
          "output_type": "execute_result",
          "data": {
            "text/plain": [
              "[OrderedDict([('value', '33'), ('measures', '攝氏度')]),\n",
              " OrderedDict([('value', '33'), ('measures', '攝氏度')]),\n",
              " OrderedDict([('value', '33'), ('measures', '攝氏度')]),\n",
              " OrderedDict([('value', '34'), ('measures', '攝氏度')]),\n",
              " OrderedDict([('value', '32'), ('measures', '攝氏度')]),\n",
              " OrderedDict([('value', '33'), ('measures', '攝氏度')]),\n",
              " OrderedDict([('value', '33'), ('measures', '攝氏度')]),\n",
              " OrderedDict([('value', '33'), ('measures', '攝氏度')]),\n",
              " OrderedDict([('value', '33'), ('measures', '攝氏度')]),\n",
              " OrderedDict([('value', '32'), ('measures', '攝氏度')]),\n",
              " OrderedDict([('value', '33'), ('measures', '攝氏度')]),\n",
              " OrderedDict([('value', '34'), ('measures', '攝氏度')]),\n",
              " OrderedDict([('value', '33'), ('measures', '攝氏度')]),\n",
              " OrderedDict([('value', '34'), ('measures', '攝氏度')]),\n",
              " OrderedDict([('value', '34'), ('measures', '攝氏度')]),\n",
              " OrderedDict([('value', '34'), ('measures', '攝氏度')]),\n",
              " OrderedDict([('value', '33'), ('measures', '攝氏度')]),\n",
              " OrderedDict([('value', '34'), ('measures', '攝氏度')]),\n",
              " OrderedDict([('value', '34'), ('measures', '攝氏度')]),\n",
              " OrderedDict([('value', '35'), ('measures', '攝氏度')]),\n",
              " OrderedDict([('value', '34'), ('measures', '攝氏度')]),\n",
              " OrderedDict([('value', '34'), ('measures', '攝氏度')]),\n",
              " OrderedDict([('value', '34'), ('measures', '攝氏度')]),\n",
              " OrderedDict([('value', '33'), ('measures', '攝氏度')]),\n",
              " OrderedDict([('value', '33'), ('measures', '攝氏度')]),\n",
              " OrderedDict([('value', '33'), ('measures', '攝氏度')]),\n",
              " OrderedDict([('value', '32'), ('measures', '攝氏度')]),\n",
              " OrderedDict([('value', '32'), ('measures', '攝氏度')]),\n",
              " OrderedDict([('value', '32'), ('measures', '攝氏度')]),\n",
              " OrderedDict([('value', '34'), ('measures', '攝氏度')]),\n",
              " OrderedDict([('value', '34'), ('measures', '攝氏度')]),\n",
              " OrderedDict([('value', '34'), ('measures', '攝氏度')]),\n",
              " OrderedDict([('value', '33'), ('measures', '攝氏度')]),\n",
              " OrderedDict([('value', '36'), ('measures', '攝氏度')]),\n",
              " OrderedDict([('value', '34'), ('measures', '攝氏度')]),\n",
              " OrderedDict([('value', '34'), ('measures', '攝氏度')]),\n",
              " OrderedDict([('value', '31'), ('measures', '攝氏度')]),\n",
              " OrderedDict([('value', '29'), ('measures', '攝氏度')])]"
            ]
          },
          "metadata": {
            "tags": []
          },
          "execution_count": 25
        }
      ]
    },
    {
      "cell_type": "code",
      "metadata": {
        "id": "nwW6lfuq2Tbl",
        "colab_type": "code",
        "colab": {
          "base_uri": "https://localhost:8080/",
          "height": 443
        },
        "outputId": "14b3ddb4-d857-4307-e4da-41dd2a72fdbd"
      },
      "source": [
        "# len(d['cwbopendata']['dataset']['locations']['location'][0]['weatherElement'][0]['time'])\n",
        "\n",
        "[d['cwbopendata']['dataset']['locations']['location'][0]['weatherElement'][0]['time'][i]['elementValue'] for i in range(0,24)]"
      ],
      "execution_count": null,
      "outputs": [
        {
          "output_type": "execute_result",
          "data": {
            "text/plain": [
              "[OrderedDict([('value', '33'), ('measures', '攝氏度')]),\n",
              " OrderedDict([('value', '33'), ('measures', '攝氏度')]),\n",
              " OrderedDict([('value', '32'), ('measures', '攝氏度')]),\n",
              " OrderedDict([('value', '30'), ('measures', '攝氏度')]),\n",
              " OrderedDict([('value', '30'), ('measures', '攝氏度')]),\n",
              " OrderedDict([('value', '29'), ('measures', '攝氏度')]),\n",
              " OrderedDict([('value', '28'), ('measures', '攝氏度')]),\n",
              " OrderedDict([('value', '31'), ('measures', '攝氏度')]),\n",
              " OrderedDict([('value', '32'), ('measures', '攝氏度')]),\n",
              " OrderedDict([('value', '32'), ('measures', '攝氏度')]),\n",
              " OrderedDict([('value', '31'), ('measures', '攝氏度')]),\n",
              " OrderedDict([('value', '30'), ('measures', '攝氏度')]),\n",
              " OrderedDict([('value', '29'), ('measures', '攝氏度')]),\n",
              " OrderedDict([('value', '28'), ('measures', '攝氏度')]),\n",
              " OrderedDict([('value', '28'), ('measures', '攝氏度')]),\n",
              " OrderedDict([('value', '31'), ('measures', '攝氏度')]),\n",
              " OrderedDict([('value', '32'), ('measures', '攝氏度')]),\n",
              " OrderedDict([('value', '32'), ('measures', '攝氏度')]),\n",
              " OrderedDict([('value', '31'), ('measures', '攝氏度')]),\n",
              " OrderedDict([('value', '30'), ('measures', '攝氏度')]),\n",
              " OrderedDict([('value', '29'), ('measures', '攝氏度')]),\n",
              " OrderedDict([('value', '29'), ('measures', '攝氏度')]),\n",
              " OrderedDict([('value', '28'), ('measures', '攝氏度')]),\n",
              " OrderedDict([('value', '31'), ('measures', '攝氏度')])]"
            ]
          },
          "metadata": {
            "tags": []
          },
          "execution_count": 31
        }
      ]
    },
    {
      "cell_type": "code",
      "metadata": {
        "id": "HDcPpao32VDY",
        "colab_type": "code",
        "colab": {}
      },
      "source": [
        ""
      ],
      "execution_count": null,
      "outputs": []
    }
  ]
}