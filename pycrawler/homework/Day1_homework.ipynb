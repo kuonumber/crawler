{
 "cells": [
  {
   "cell_type": "markdown",
   "metadata": {},
   "source": [
    "# 資料來源與檔案存取\n",
    "\n",
    "* 資料來源與取得\n",
    "* 開放資料\n",
    "* 資料儲存格式\n",
    "* Python 存取檔案"
   ]
  },
  {
   "cell_type": "markdown",
   "metadata": {},
   "source": [
    "## 作業目標\n",
    "\n",
    "* 1.（簡答題）檔案、API、爬蟲三種取得資料方式有什麼不同？\n",
    "* 2.（實作）完成一個程式，需滿足下列需求：\n",
    "    * 下載指定檔案到 Data 資料夾，存成檔名 Homework.txt\n",
    "    * 檢查 Data 資料夾是否有 Homework.txt 檔名之檔案\n",
    "    * 將「Hello World」字串覆寫到 Homework.txt 檔案\n",
    "    * 檢查 Homework.txt 檔案字數是否符合 Hello World 字數\n"
   ]
  },
  {
   "cell_type": "markdown",
   "metadata": {},
   "source": [
    "### 1.（簡答題）檔案、API、爬蟲三種取得資料方式有什麼不同？"
   ]
  },
  {
   "cell_type": "markdown",
   "metadata": {},
   "source": [
    "1. File and api are the owner provided for users.\n",
    "2. Web crawling is users have to parse data by hard code. \n"
   ]
  },
  {
   "cell_type": "code",
   "execution_count": 2,
   "metadata": {},
   "outputs": [],
   "source": [
    "# 根據需求引入正確的 Library\n",
    "\n",
    "import requests\n",
    "import os"
   ]
  },
  {
   "cell_type": "code",
   "execution_count": 12,
   "metadata": {},
   "outputs": [
    {
     "output_type": "execute_result",
     "data": {
      "text/plain": "'c:\\\\Users\\\\USER\\\\Documents\\\\kuo_repos\\\\crawler\\\\pycrawler\\\\homework'"
     },
     "metadata": {},
     "execution_count": 12
    }
   ],
   "source": [
    "os.path.abspath(os.getcwd())\n"
   ]
  },
  {
   "cell_type": "code",
   "execution_count": 14,
   "metadata": {},
   "outputs": [
    {
     "output_type": "stream",
     "name": "stdout",
     "text": "already created data folder\n"
    }
   ],
   "source": [
    "if os.path.exists('../data'):\n",
    "    print('already created data folder')"
   ]
  },
  {
   "cell_type": "code",
   "execution_count": 15,
   "metadata": {},
   "outputs": [],
   "source": [
    "url = 'https://www.w3.org/TR/PNG/iso_8859-1.txt'"
   ]
  },
  {
   "cell_type": "code",
   "execution_count": 16,
   "metadata": {},
   "outputs": [],
   "source": [
    "r = requests.get(url )"
   ]
  },
  {
   "cell_type": "code",
   "execution_count": 25,
   "metadata": {},
   "outputs": [],
   "source": [
    "with open('../data/Homework.txt', 'w') as f:\n",
    "    f.write(r.text)"
   ]
  },
  {
   "cell_type": "code",
   "execution_count": 26,
   "metadata": {},
   "outputs": [
    {
     "output_type": "execute_result",
     "data": {
      "text/plain": "['1.txt', '2.txt', 'Day001_Sample.ipynb', 'Homework.txt']"
     },
     "metadata": {},
     "execution_count": 26
    }
   ],
   "source": [
    "os.listdir('../data')"
   ]
  },
  {
   "cell_type": "code",
   "execution_count": 27,
   "metadata": {},
   "outputs": [
    {
     "output_type": "stream",
     "name": "stdout",
     "text": "[O] 檢查 Data 資料夾是否有 Homework.txt 檔名之檔案\n"
    }
   ],
   "source": [
    "# 檢查 Data 資料夾是否有 Homework.txt 檔名之檔案\n",
    "\n",
    "files = os.listdir('../data')\n",
    "\n",
    "\n",
    "if 'Homework.txt' in files:\n",
    "    print('[O] 檢查 Data 資料夾是否有 Homework.txt 檔名之檔案')\n",
    "else:\n",
    "    print('[X] 檢查 Data 資料夾是否有 Homework.txt 檔名之檔案')"
   ]
  },
  {
   "cell_type": "code",
   "execution_count": 28,
   "metadata": {},
   "outputs": [
    {
     "output_type": "stream",
     "name": "stdout",
     "text": "The following are the graphical (non-control) characters defined by\nISO 8859-1 (1987).  Descriptions in words aren't all that helpful,\nbut they're the best we can do in text.  A graphics file illustrating\nthe character set should be available from the same archive as this\nfile.\n\nHex Description                 Hex Description\n\n20  SPACE\n21  EXCLAMATION MARK            A1  INVERTED EXCLAMATION MARK\n22  QUOTATION MARK              A2  CENT SIGN\n23  NUMBER SIGN                 A3  POUND SIGN\n24  DOLLAR SIGN                 A4  CURRENCY SIGN\n25  PERCENT SIGN                A5  YEN SIGN\n26  AMPERSAND                   A6  BROKEN BAR\n27  APOSTROPHE                  A7  SECTION SIGN\n28  LEFT PARENTHESIS            A8  DIAERESIS\n29  RIGHT PARENTHESIS           A9  COPYRIGHT SIGN\n2A  ASTERISK                    AA  FEMININE ORDINAL INDICATOR\n2B  PLUS SIGN                   AB  LEFT-POINTING DOUBLE ANGLE QUOTATION MARK\n2C  COMMA                       AC  NOT SIGN\n2D  HYPHEN-MINUS                AD  SOFT HYPHEN\n2E  FULL STOP                   AE  REGISTERED SIGN\n2F  SOLIDUS                     AF  OVERLINE\n30  DIGIT ZERO                  B0  DEGREE SIGN\n31  DIGIT ONE                   B1  PLUS-MINUS SIGN\n32  DIGIT TWO                   B2  SUPERSCRIPT TWO\n33  DIGIT THREE                 B3  SUPERSCRIPT THREE\n34  DIGIT FOUR                  B4  ACUTE ACCENT\n35  DIGIT FIVE                  B5  MICRO SIGN\n36  DIGIT SIX                   B6  PILCROW SIGN\n37  DIGIT SEVEN                 B7  MIDDLE DOT\n38  DIGIT EIGHT                 B8  CEDILLA\n39  DIGIT NINE                  B9  SUPERSCRIPT ONE\n3A  COLON                       BA  MASCULINE ORDINAL INDICATOR\n3B  SEMICOLON                   BB  RIGHT-POINTING DOUBLE ANGLE QUOTATION MARK\n3C  LESS-THAN SIGN              BC  VULGAR FRACTION ONE QUARTER\n3D  EQUALS SIGN                 BD  VULGAR FRACTION ONE HALF\n3E  GREATER-THAN SIGN           BE  VULGAR FRACTION THREE QUARTERS\n3F  QUESTION MARK               BF  INVERTED QUESTION MARK\n40  COMMERCIAL AT               C0  CAPITAL LETTER A WITH GRAVE\n41  CAPITAL LETTER A            C1  CAPITAL LETTER A WITH ACUTE\n42  CAPITAL LETTER B            C2  CAPITAL LETTER A WITH CIRCUMFLEX\n43  CAPITAL LETTER C            C3  CAPITAL LETTER A WITH TILDE\n44  CAPITAL LETTER D            C4  CAPITAL LETTER A WITH DIAERESIS\n45  CAPITAL LETTER E            C5  CAPITAL LETTER A WITH RING ABOVE\n46  CAPITAL LETTER F            C6  CAPITAL LETTER AE\n47  CAPITAL LETTER G            C7  CAPITAL LETTER C WITH CEDILLA\n48  CAPITAL LETTER H            C8  CAPITAL LETTER E WITH GRAVE\n49  CAPITAL LETTER I            C9  CAPITAL LETTER E WITH ACUTE\n4A  CAPITAL LETTER J            CA  CAPITAL LETTER E WITH CIRCUMFLEX\n4B  CAPITAL LETTER K            CB  CAPITAL LETTER E WITH DIAERESIS\n4C  CAPITAL LETTER L            CC  CAPITAL LETTER I WITH GRAVE\n4D  CAPITAL LETTER M            CD  CAPITAL LETTER I WITH ACUTE\n4E  CAPITAL LETTER N            CE  CAPITAL LETTER I WITH CIRCUMFLEX\n4F  CAPITAL LETTER O            CF  CAPITAL LETTER I WITH DIAERESIS\n50  CAPITAL LETTER P            D0  CAPITAL LETTER ETH (Icelandic)\n51  CAPITAL LETTER Q            D1  CAPITAL LETTER N WITH TILDE\n52  CAPITAL LETTER R            D2  CAPITAL LETTER O WITH GRAVE\n53  CAPITAL LETTER S            D3  CAPITAL LETTER O WITH ACUTE\n54  CAPITAL LETTER T            D4  CAPITAL LETTER O WITH CIRCUMFLEX\n55  CAPITAL LETTER U            D5  CAPITAL LETTER O WITH TILDE\n56  CAPITAL LETTER V            D6  CAPITAL LETTER O WITH DIAERESIS\n57  CAPITAL LETTER W            D7  MULTIPLICATION SIGN\n58  CAPITAL LETTER X            D8  CAPITAL LETTER O WITH STROKE\n59  CAPITAL LETTER Y            D9  CAPITAL LETTER U WITH GRAVE\n5A  CAPITAL LETTER Z            DA  CAPITAL LETTER U WITH ACUTE\n5B  LEFT SQUARE BRACKET         DB  CAPITAL LETTER U WITH CIRCUMFLEX\n5C  REVERSE SOLIDUS             DC  CAPITAL LETTER U WITH DIAERESIS\n5D  RIGHT SQUARE BRACKET        DD  CAPITAL LETTER Y WITH ACUTE\n5E  CIRCUMFLEX ACCENT           DE  CAPITAL LETTER THORN (Icelandic)\n5F  LOW LINE                    DF  SMALL LETTER SHARP S (German)\n60  GRAVE ACCENT                E0  SMALL LETTER A WITH GRAVE\n61  SMALL LETTER A              E1  SMALL LETTER A WITH ACUTE\n62  SMALL LETTER B              E2  SMALL LETTER A WITH CIRCUMFLEX\n63  SMALL LETTER C              E3  SMALL LETTER A WITH TILDE\n64  SMALL LETTER D              E4  SMALL LETTER A WITH DIAERESIS\n65  SMALL LETTER E              E5  SMALL LETTER A WITH RING ABOVE\n66  SMALL LETTER F              E6  SMALL LETTER AE\n67  SMALL LETTER G              E7  SMALL LETTER C WITH CEDILLA\n68  SMALL LETTER H              E8  SMALL LETTER E WITH GRAVE\n69  SMALL LETTER I              E9  SMALL LETTER E WITH ACUTE\n6A  SMALL LETTER J              EA  SMALL LETTER E WITH CIRCUMFLEX\n6B  SMALL LETTER K              EB  SMALL LETTER E WITH DIAERESIS\n6C  SMALL LETTER L              EC  SMALL LETTER I WITH GRAVE\n6D  SMALL LETTER M              ED  SMALL LETTER I WITH ACUTE\n6E  SMALL LETTER N              EE  SMALL LETTER I WITH CIRCUMFLEX\n6F  SMALL LETTER O              EF  SMALL LETTER I WITH DIAERESIS\n70  SMALL LETTER P              F0  SMALL LETTER ETH (Icelandic)\n71  SMALL LETTER Q              F1  SMALL LETTER N WITH TILDE\n72  SMALL LETTER R              F2  SMALL LETTER O WITH GRAVE\n73  SMALL LETTER S              F3  SMALL LETTER O WITH ACUTE\n74  SMALL LETTER T              F4  SMALL LETTER O WITH CIRCUMFLEX\n75  SMALL LETTER U              F5  SMALL LETTER O WITH TILDE\n76  SMALL LETTER V              F6  SMALL LETTER O WITH DIAERESIS\n77  SMALL LETTER W              F7  DIVISION SIGN\n78  SMALL LETTER X              F8  SMALL LETTER O WITH STROKE\n79  SMALL LETTER Y              F9  SMALL LETTER U WITH GRAVE\n7A  SMALL LETTER Z              FA  SMALL LETTER U WITH ACUTE\n7B  LEFT CURLY BRACKET          FB  SMALL LETTER U WITH CIRCUMFLEX\n7C  VERTICAL LINE               FC  SMALL LETTER U WITH DIAERESIS\n7D  RIGHT CURLY BRACKET         FD  SMALL LETTER Y WITH ACUTE\n7E  TILDE                       FE  SMALL LETTER THORN (Icelandic)\n                                FF  SMALL LETTER Y WITH DIAERESIS\nhello world \n\n"
    }
   ],
   "source": [
    "# 將「Hello World」字串覆寫到 Homework.txt 檔案\n",
    "\n",
    "w = 'hello world \\n'\n",
    "\n",
    "with open(\"../data/Homework.txt\", \"a\") as f:\n",
    "    f.write(w)\n",
    "\n",
    "try:\n",
    "    with open(\"../data/Homework.txt\", \"r\") as f:\n",
    "        print(f.read())\n",
    "except EnvironmentError: # parent of IOError, OSError *and* WindowsError where available\n",
    "    pass    \n",
    "    \n"
   ]
  },
  {
   "cell_type": "code",
   "execution_count": 30,
   "metadata": {
    "scrolled": true
   },
   "outputs": [
    {
     "output_type": "stream",
     "name": "stdout",
     "text": "[X] 檢查 Homework.txt 檔案字數是否符合 Hello World 字數\n"
    }
   ],
   "source": [
    "# 檢查 Homework.txt 檔案字數是否符合 Hello World 字數\n",
    "\n",
    "if len('Hello World') == len(w):\n",
    "    print('[O] 檢查 Homework.txt 檔案字數是否符合 Hello World 字數')\n",
    "else:\n",
    "    print('[X] 檢查 Homework.txt 檔案字數是否符合 Hello World 字數')"
   ]
  }
 ],
 "metadata": {
  "kernelspec": {
   "display_name": "Python 3",
   "language": "python",
   "name": "python3"
  },
  "language_info": {
   "codemirror_mode": {
    "name": "ipython",
    "version": 3
   },
   "file_extension": ".py",
   "mimetype": "text/x-python",
   "name": "python",
   "nbconvert_exporter": "python",
   "pygments_lexer": "ipython3",
   "version": "3.7.7-final"
  }
 },
 "nbformat": 4,
 "nbformat_minor": 2
}