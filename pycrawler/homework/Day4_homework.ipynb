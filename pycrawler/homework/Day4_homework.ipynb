{
  "nbformat": 4,
  "nbformat_minor": 0,
  "metadata": {
    "colab": {
      "name": "Day4_homework.ipynb",
      "provenance": [],
      "collapsed_sections": [],
      "authorship_tag": "ABX9TyNDWhyCcwjoyAN3LyOSFW+e",
      "include_colab_link": true
    },
    "kernelspec": {
      "name": "python3",
      "display_name": "Python 3"
    }
  },
  "cells": [
    {
      "cell_type": "markdown",
      "metadata": {
        "id": "view-in-github",
        "colab_type": "text"
      },
      "source": [
        "<a href=\"https://colab.research.google.com/github/kuonumber/crawler/blob/master/Day4_homework.ipynb\" target=\"_parent\"><img src=\"https://colab.research.google.com/assets/colab-badge.svg\" alt=\"Open In Colab\"/></a>"
      ]
    },
    {
      "cell_type": "code",
      "metadata": {
        "id": "4zLvNuoj4oaY",
        "colab_type": "code",
        "colab": {}
      },
      "source": [
        "import requests\n",
        "\n",
        "r = requests.get('https://api.github.com/events')\n",
        "r.text"
      ],
      "execution_count": null,
      "outputs": []
    },
    {
      "cell_type": "code",
      "metadata": {
        "id": "l6N2I4tK9gUX",
        "colab_type": "code",
        "colab": {}
      },
      "source": [
        "import json\n",
        "\n",
        "json.loads(r.text)"
      ],
      "execution_count": null,
      "outputs": []
    },
    {
      "cell_type": "code",
      "metadata": {
        "id": "Va3Me3qU9kzi",
        "colab_type": "code",
        "colab": {}
      },
      "source": [
        "payload = {'key1': 'value1', 'key2': 'value2'}\n",
        "r = requests.get(\"http://httpbin.org/get\", params=payload)\n",
        "json.loads(r.text)"
      ],
      "execution_count": null,
      "outputs": []
    },
    {
      "cell_type": "code",
      "metadata": {
        "id": "OeuN9Qo49sr7",
        "colab_type": "code",
        "colab": {}
      },
      "source": [
        "r = requests.get(\"http://httpbin.org/get\")\n",
        "json.loads(r.text)"
      ],
      "execution_count": null,
      "outputs": []
    },
    {
      "cell_type": "code",
      "metadata": {
        "id": "Dhl7VwfC9xid",
        "colab_type": "code",
        "colab": {}
      },
      "source": [
        "r = requests.post('http://httpbin.org/post', data = {'key':'value'})\n",
        "json.loads(r.text)"
      ],
      "execution_count": null,
      "outputs": []
    },
    {
      "cell_type": "code",
      "metadata": {
        "id": "r_eNpq9r98So",
        "colab_type": "code",
        "colab": {}
      },
      "source": [
        "url = 'https://cat-fact.herokuapp.com/facts'\n"
      ],
      "execution_count": null,
      "outputs": []
    },
    {
      "cell_type": "code",
      "metadata": {
        "id": "ehW6Ibvn-Sgm",
        "colab_type": "code",
        "colab": {}
      },
      "source": [
        "r = requests.get(url)\n",
        "json.loads(r.text)"
      ],
      "execution_count": null,
      "outputs": []
    },
    {
      "cell_type": "code",
      "metadata": {
        "id": "mVqQdxH9-WyQ",
        "colab_type": "code",
        "colab": {}
      },
      "source": [
        "r.text"
      ],
      "execution_count": null,
      "outputs": []
    },
    {
      "cell_type": "code",
      "metadata": {
        "id": "o78RUgcc-ZwB",
        "colab_type": "code",
        "colab": {}
      },
      "source": [
        ""
      ],
      "execution_count": null,
      "outputs": []
    }
  ]
}