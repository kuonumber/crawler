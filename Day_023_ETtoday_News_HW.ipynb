{
  "nbformat": 4,
  "nbformat_minor": 0,
  "metadata": {
    "colab": {
      "name": "Day_023_ETtoday_News_HW.ipynb",
      "provenance": [],
      "authorship_tag": "ABX9TyNdcLPu+RePvyehI95iFpWS",
      "include_colab_link": true
    },
    "kernelspec": {
      "name": "python3",
      "display_name": "Python 3"
    }
  },
  "cells": [
    {
      "cell_type": "markdown",
      "metadata": {
        "id": "view-in-github",
        "colab_type": "text"
      },
      "source": [
        "<a href=\"https://colab.research.google.com/github/kuonumber/crawler/blob/master/Day_023_ETtoday_News_HW.ipynb\" target=\"_parent\"><img src=\"https://colab.research.google.com/assets/colab-badge.svg\" alt=\"Open In Colab\"/></a>"
      ]
    },
    {
      "cell_type": "code",
      "metadata": {
        "id": "Acp6f0dXuD9z",
        "colab_type": "code",
        "colab": {}
      },
      "source": [
        ""
      ],
      "execution_count": null,
      "outputs": []
    },
    {
      "cell_type": "code",
      "metadata": {
        "id": "UJP8CuFEujDG",
        "colab_type": "code",
        "colab": {
          "base_uri": "https://localhost:8080/",
          "height": 1000
        },
        "outputId": "114a7f4e-92ba-49a4-ee49-f8efd325c6d4"
      },
      "source": [
        "!pip install selenium\n",
        "!apt-get update # to update ubuntu to correctly run apt install\n",
        "!apt install chromium-chromedriver\n",
        "!cp /usr/lib/chromium-browser/chromedriver /usr/bin\n",
        "import sys\n",
        "sys.path.insert(0,'/usr/lib/chromium-browser/chromedriver')\n",
        "from selenium import webdriver\n",
        "chrome_options = webdriver.ChromeOptions()\n",
        "chrome_options.add_argument('--headless')\n",
        "chrome_options.add_argument('--no-sandbox')\n",
        "chrome_options.add_argument('--disable-dev-shm-usage')\n",
        "wd = webdriver.Chrome('chromedriver',chrome_options=chrome_options)\n"
      ],
      "execution_count": 1,
      "outputs": [
        {
          "output_type": "stream",
          "text": [
            "Collecting selenium\n",
            "\u001b[?25l  Downloading https://files.pythonhosted.org/packages/80/d6/4294f0b4bce4de0abf13e17190289f9d0613b0a44e5dd6a7f5ca98459853/selenium-3.141.0-py2.py3-none-any.whl (904kB)\n",
            "\u001b[K     |████████████████████████████████| 911kB 2.7MB/s \n",
            "\u001b[?25hRequirement already satisfied: urllib3 in /usr/local/lib/python3.6/dist-packages (from selenium) (1.24.3)\n",
            "Installing collected packages: selenium\n",
            "Successfully installed selenium-3.141.0\n",
            "Get:1 http://security.ubuntu.com/ubuntu bionic-security InRelease [88.7 kB]\n",
            "Ign:2 https://developer.download.nvidia.com/compute/cuda/repos/ubuntu1804/x86_64  InRelease\n",
            "Get:3 https://cloud.r-project.org/bin/linux/ubuntu bionic-cran35/ InRelease [3,626 B]\n",
            "Hit:4 http://archive.ubuntu.com/ubuntu bionic InRelease\n",
            "Get:5 http://ppa.launchpad.net/graphics-drivers/ppa/ubuntu bionic InRelease [21.3 kB]\n",
            "Ign:6 https://developer.download.nvidia.com/compute/machine-learning/repos/ubuntu1804/x86_64  InRelease\n",
            "Hit:7 https://developer.download.nvidia.com/compute/cuda/repos/ubuntu1804/x86_64  Release\n",
            "Get:8 https://developer.download.nvidia.com/compute/machine-learning/repos/ubuntu1804/x86_64  Release [564 B]\n",
            "Get:9 https://developer.download.nvidia.com/compute/machine-learning/repos/ubuntu1804/x86_64  Release.gpg [833 B]\n",
            "Get:10 http://archive.ubuntu.com/ubuntu bionic-updates InRelease [88.7 kB]\n",
            "Get:11 http://security.ubuntu.com/ubuntu bionic-security/universe amd64 Packages [897 kB]\n",
            "Get:12 http://ppa.launchpad.net/marutter/c2d4u3.5/ubuntu bionic InRelease [15.4 kB]\n",
            "Get:13 http://archive.ubuntu.com/ubuntu bionic-backports InRelease [74.6 kB]\n",
            "Get:14 http://security.ubuntu.com/ubuntu bionic-security/restricted amd64 Packages [116 kB]\n",
            "Get:15 http://security.ubuntu.com/ubuntu bionic-security/multiverse amd64 Packages [10.1 kB]\n",
            "Get:16 http://security.ubuntu.com/ubuntu bionic-security/main amd64 Packages [1,089 kB]\n",
            "Get:17 https://cloud.r-project.org/bin/linux/ubuntu bionic-cran35/ Packages [95.7 kB]\n",
            "Get:19 https://developer.download.nvidia.com/compute/machine-learning/repos/ubuntu1804/x86_64  Packages [47.5 kB]\n",
            "Get:20 http://ppa.launchpad.net/graphics-drivers/ppa/ubuntu bionic/main amd64 Packages [43.0 kB]\n",
            "Get:21 http://archive.ubuntu.com/ubuntu bionic-updates/multiverse amd64 Packages [27.7 kB]\n",
            "Get:22 http://ppa.launchpad.net/marutter/c2d4u3.5/ubuntu bionic/main Sources [1,864 kB]\n",
            "Get:23 http://archive.ubuntu.com/ubuntu bionic-updates/universe amd64 Packages [1,425 kB]\n",
            "Get:24 http://archive.ubuntu.com/ubuntu bionic-updates/restricted amd64 Packages [132 kB]\n",
            "Get:25 http://archive.ubuntu.com/ubuntu bionic-updates/main amd64 Packages [1,384 kB]\n",
            "Get:26 http://ppa.launchpad.net/marutter/c2d4u3.5/ubuntu bionic/main amd64 Packages [900 kB]\n",
            "Fetched 8,326 kB in 3s (2,399 kB/s)\n",
            "Reading package lists... Done\n",
            "Reading package lists... Done\n",
            "Building dependency tree       \n",
            "Reading state information... Done\n",
            "The following package was automatically installed and is no longer required:\n",
            "  libnvidia-common-440\n",
            "Use 'apt autoremove' to remove it.\n",
            "The following additional packages will be installed:\n",
            "  chromium-browser chromium-browser-l10n chromium-codecs-ffmpeg-extra\n",
            "Suggested packages:\n",
            "  webaccounts-chromium-extension unity-chromium-extension adobe-flashplugin\n",
            "The following NEW packages will be installed:\n",
            "  chromium-browser chromium-browser-l10n chromium-chromedriver\n",
            "  chromium-codecs-ffmpeg-extra\n",
            "0 upgraded, 4 newly installed, 0 to remove and 77 not upgraded.\n",
            "Need to get 79.2 MB of archives.\n",
            "After this operation, 268 MB of additional disk space will be used.\n",
            "Get:1 http://archive.ubuntu.com/ubuntu bionic-updates/universe amd64 chromium-codecs-ffmpeg-extra amd64 85.0.4183.83-0ubuntu0.18.04.2 [1,118 kB]\n",
            "Get:2 http://archive.ubuntu.com/ubuntu bionic-updates/universe amd64 chromium-browser amd64 85.0.4183.83-0ubuntu0.18.04.2 [70.3 MB]\n",
            "Get:3 http://archive.ubuntu.com/ubuntu bionic-updates/universe amd64 chromium-browser-l10n all 85.0.4183.83-0ubuntu0.18.04.2 [3,431 kB]\n",
            "Get:4 http://archive.ubuntu.com/ubuntu bionic-updates/universe amd64 chromium-chromedriver amd64 85.0.4183.83-0ubuntu0.18.04.2 [4,412 kB]\n",
            "Fetched 79.2 MB in 3s (24.1 MB/s)\n",
            "Selecting previously unselected package chromium-codecs-ffmpeg-extra.\n",
            "(Reading database ... 144579 files and directories currently installed.)\n",
            "Preparing to unpack .../chromium-codecs-ffmpeg-extra_85.0.4183.83-0ubuntu0.18.04.2_amd64.deb ...\n",
            "Unpacking chromium-codecs-ffmpeg-extra (85.0.4183.83-0ubuntu0.18.04.2) ...\n",
            "Selecting previously unselected package chromium-browser.\n",
            "Preparing to unpack .../chromium-browser_85.0.4183.83-0ubuntu0.18.04.2_amd64.deb ...\n",
            "Unpacking chromium-browser (85.0.4183.83-0ubuntu0.18.04.2) ...\n",
            "Selecting previously unselected package chromium-browser-l10n.\n",
            "Preparing to unpack .../chromium-browser-l10n_85.0.4183.83-0ubuntu0.18.04.2_all.deb ...\n",
            "Unpacking chromium-browser-l10n (85.0.4183.83-0ubuntu0.18.04.2) ...\n",
            "Selecting previously unselected package chromium-chromedriver.\n",
            "Preparing to unpack .../chromium-chromedriver_85.0.4183.83-0ubuntu0.18.04.2_amd64.deb ...\n",
            "Unpacking chromium-chromedriver (85.0.4183.83-0ubuntu0.18.04.2) ...\n",
            "Setting up chromium-codecs-ffmpeg-extra (85.0.4183.83-0ubuntu0.18.04.2) ...\n",
            "Setting up chromium-browser (85.0.4183.83-0ubuntu0.18.04.2) ...\n",
            "update-alternatives: using /usr/bin/chromium-browser to provide /usr/bin/x-www-browser (x-www-browser) in auto mode\n",
            "update-alternatives: using /usr/bin/chromium-browser to provide /usr/bin/gnome-www-browser (gnome-www-browser) in auto mode\n",
            "Setting up chromium-chromedriver (85.0.4183.83-0ubuntu0.18.04.2) ...\n",
            "Setting up chromium-browser-l10n (85.0.4183.83-0ubuntu0.18.04.2) ...\n",
            "Processing triggers for hicolor-icon-theme (0.17-2) ...\n",
            "Processing triggers for mime-support (3.60ubuntu1) ...\n",
            "Processing triggers for man-db (2.8.3-2ubuntu0.1) ...\n",
            "cp: '/usr/lib/chromium-browser/chromedriver' and '/usr/bin/chromedriver' are the same file\n"
          ],
          "name": "stdout"
        },
        {
          "output_type": "stream",
          "text": [
            "/usr/local/lib/python3.6/dist-packages/ipykernel_launcher.py:12: DeprecationWarning: use options instead of chrome_options\n",
            "  if sys.path[0] == '':\n"
          ],
          "name": "stderr"
        }
      ]
    },
    {
      "cell_type": "code",
      "metadata": {
        "id": "_sR6HBB7ujCw",
        "colab_type": "code",
        "colab": {}
      },
      "source": [
        "import requests\n",
        "import time\n",
        "from bs4 import BeautifulSoup\n",
        "from selenium import webdriver\n",
        "from selenium.webdriver.common.keys import Keys"
      ],
      "execution_count": 2,
      "outputs": []
    },
    {
      "cell_type": "code",
      "metadata": {
        "id": "Tq3vO4k8u1kR",
        "colab_type": "code",
        "colab": {}
      },
      "source": [
        "ETtoday_url = \"https://www.ettoday.net/news/focus/%E8%B2%A1%E7%B6%93/\"  #財經新聞\n"
      ],
      "execution_count": 3,
      "outputs": []
    },
    {
      "cell_type": "code",
      "metadata": {
        "id": "OB4jsCQmu2ve",
        "colab_type": "code",
        "colab": {}
      },
      "source": [
        "wd = webdriver.Chrome('chromedriver', options=chrome_options)\n",
        "\n",
        "wd.get(ETtoday_url)  # 打開瀏覽器並連到東森新聞雲網頁\n",
        "\n",
        "#\n",
        "# 以下是用Selenium模擬下拉網頁動作，讓網頁更新\n",
        "#\n",
        "last_height = wd.execute_script(\"window.scrollTo(0, document.body.scrollHeight);\")\n",
        "\n",
        "while True:\n",
        "    '''\n",
        "    Your code here\n",
        "    \n",
        "    提示：可參考以下的Stack Overflow: \n",
        "    https://stackoverflow.com/questions/48850974/selenium-scroll-to-end-of-page-indynamically-loading-webpage/48851166\n",
        "    '''\n",
        "\n",
        "    # wd.set_page_load_timeout(3)\n",
        "    time.sleep(2)\n",
        "\n",
        "\n",
        "    wd.execute_script(\"window.scrollTo(0, document.body.scrollHeight);\")\n",
        "\n",
        "        # Wait to load the page.\n",
        "\n",
        "        # Calculate new scroll height and compare with last scroll height.\n",
        "    new_height = wd.execute_script(\"return document.body.scrollHeight\")\n",
        "    \n",
        "    print('網頁更新中...')\n",
        "\n",
        "    if new_height == last_height:\n",
        "        print('到達頁面底端')\n",
        "        break\n",
        "\n",
        "    last_height = new_height"
      ],
      "execution_count": null,
      "outputs": []
    },
    {
      "cell_type": "code",
      "metadata": {
        "id": "TrXhI4pXwDs0",
        "colab_type": "code",
        "colab": {}
      },
      "source": [
        "# 這裡先建立一個函數，其功能是連到外部連結，並爬取新聞內容。\n",
        "#\n",
        "def getNewsDetailContent(link_url):\n",
        "    resp = requests.get(link_url)\n",
        "    resp.encoding = 'utf-8'\n",
        "    #print(resp.text)\n",
        "\n",
        "    soup = BeautifulSoup(resp.text, 'lxml')\n",
        "    news_content = soup.find(\"div\", attrs={'class':'story'}).find_all(\"p\")\n",
        "    for p in news_content:\n",
        "        \"\"\"\n",
        "        .string屬性說明：\n",
        "        (1) 若當前tag節點底下沒有其他tag子節點，會直接抓取內容(返回\"NavigableString\")\n",
        "        (2) 若當前tag節點底下只有唯一的一個tag子節點，也會直接抓取tag子節點的內容(返回\"NavigableString\")\n",
        "        (3) 但若當前tag節點底下還有很多個tag子節點，.string就無法判斷，(返回\"None\")\n",
        "        \"\"\"\n",
        "        if ((p.string) is not None):\n",
        "            print(p.string)"
      ],
      "execution_count": 12,
      "outputs": []
    },
    {
      "cell_type": "code",
      "metadata": {
        "id": "OR8EeqbYwMUj",
        "colab_type": "code",
        "colab": {}
      },
      "source": [
        "# 爬取網頁內容，解析後萃取新聞摘要\n",
        "html = wd.page_source\n",
        "soup = BeautifulSoup(html, \"lxml\")\n",
        "all_news = soup.find(\"div\", attrs={'class':'block block_1 infinite_scroll'})\n",
        "\n",
        "news_block = all_news.find_all('div', attrs={'class':'piece clearfix'})\n",
        "\n",
        "for i, news_item in enumerate(news_block):\n",
        "    print(\"----------------------------------------------------------------------\")\n",
        "    news_body = news_item.find('h3')\n",
        "    print(\"\\n[%d] %s\\n\" % (i, news_body.a.string))\n",
        "    \n",
        "    # \n",
        "    # 連到外部連結，擷取詳細新聞內容\n",
        "    #\n",
        "    externalLink = \"https://www.ettoday.net\" + news_body.a[\"href\"]\n",
        "    getNewsDetailContent(externalLink)"
      ],
      "execution_count": null,
      "outputs": []
    },
    {
      "cell_type": "code",
      "metadata": {
        "id": "MFl-VVNGxl21",
        "colab_type": "code",
        "colab": {}
      },
      "source": [
        ""
      ],
      "execution_count": null,
      "outputs": []
    }
  ]
}