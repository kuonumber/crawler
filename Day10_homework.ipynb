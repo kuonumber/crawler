{
  "nbformat": 4,
  "nbformat_minor": 0,
  "metadata": {
    "colab": {
      "name": "Day10_homework.ipynb",
      "provenance": [],
      "collapsed_sections": [],
      "authorship_tag": "ABX9TyM4u918d2m3dqNWTW0b7FtW",
      "include_colab_link": true
    },
    "kernelspec": {
      "name": "python3",
      "display_name": "Python 3"
    }
  },
  "cells": [
    {
      "cell_type": "markdown",
      "metadata": {
        "id": "view-in-github",
        "colab_type": "text"
      },
      "source": [
        "<a href=\"https://colab.research.google.com/github/kuonumber/crawler/blob/master/Day10_homework.ipynb\" target=\"_parent\"><img src=\"https://colab.research.google.com/assets/colab-badge.svg\" alt=\"Open In Colab\"/></a>"
      ]
    },
    {
      "cell_type": "code",
      "metadata": {
        "id": "67XxKVwycqAN",
        "colab_type": "code",
        "colab": {}
      },
      "source": [
        "!pip install pyquery\n",
        "!pip install grab"
      ],
      "execution_count": null,
      "outputs": []
    },
    {
      "cell_type": "code",
      "metadata": {
        "id": "LG_fwdaqclzM",
        "colab_type": "code",
        "colab": {}
      },
      "source": [
        "from pyquery import PyQuery as pq\n",
        "from grab import Grab\n",
        "from bs4 import BeautifulSoup"
      ],
      "execution_count": null,
      "outputs": []
    },
    {
      "cell_type": "code",
      "metadata": {
        "id": "Tgb_IFrggr_0",
        "colab_type": "code",
        "colab": {}
      },
      "source": [
        "g = Grab()\n",
        "res = g.go('https://google.com')\n",
        "res.body"
      ],
      "execution_count": null,
      "outputs": []
    },
    {
      "cell_type": "code",
      "metadata": {
        "id": "p0IOagwVgyx3",
        "colab_type": "code",
        "colab": {}
      },
      "source": [
        "res.body"
      ],
      "execution_count": null,
      "outputs": []
    },
    {
      "cell_type": "code",
      "metadata": {
        "id": "NgHvlidXg6LK",
        "colab_type": "code",
        "colab": {}
      },
      "source": [
        "doc = pq(resp.body)\n"
      ],
      "execution_count": null,
      "outputs": []
    },
    {
      "cell_type": "code",
      "metadata": {
        "id": "uTj3YC6fhH4G",
        "colab_type": "code",
        "colab": {}
      },
      "source": [
        "doc.text()"
      ],
      "execution_count": null,
      "outputs": []
    },
    {
      "cell_type": "code",
      "metadata": {
        "id": "2K8OGTNVhqwp",
        "colab_type": "code",
        "colab": {}
      },
      "source": [
        "doc"
      ],
      "execution_count": null,
      "outputs": []
    },
    {
      "cell_type": "code",
      "metadata": {
        "id": "xcTDXGtphI1y",
        "colab_type": "code",
        "colab": {}
      },
      "source": [
        "title = doc('title')\n",
        "print(type(title), title.text())"
      ],
      "execution_count": null,
      "outputs": []
    },
    {
      "cell_type": "code",
      "metadata": {
        "id": "6m3YvyzOhzSh",
        "colab_type": "code",
        "colab": {}
      },
      "source": [
        "BeautifulSoup(res.body)"
      ],
      "execution_count": null,
      "outputs": []
    },
    {
      "cell_type": "code",
      "metadata": {
        "id": "hQh_DgG-hNor",
        "colab_type": "code",
        "colab": {}
      },
      "source": [
        "BeautifulSoup(doc.text())"
      ],
      "execution_count": null,
      "outputs": []
    },
    {
      "cell_type": "code",
      "metadata": {
        "id": "cUNrP6nShipl",
        "colab_type": "code",
        "colab": {}
      },
      "source": [
        ""
      ],
      "execution_count": null,
      "outputs": []
    }
  ]
}