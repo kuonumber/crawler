{
  "nbformat": 4,
  "nbformat_minor": 0,
  "metadata": {
    "colab": {
      "name": "Day027_Scrapy_XPath_item_Pipeline.ipynb",
      "provenance": [],
      "toc_visible": true,
      "authorship_tag": "ABX9TyO0vzicr2jrLkg0JzWhvf7S",
      "include_colab_link": true
    },
    "kernelspec": {
      "name": "python3",
      "display_name": "Python 3"
    }
  },
  "cells": [
    {
      "cell_type": "markdown",
      "metadata": {
        "id": "view-in-github",
        "colab_type": "text"
      },
      "source": [
        "<a href=\"https://colab.research.google.com/github/kuonumber/crawler/blob/master/Day027_Scrapy_XPath_item_Pipeline.ipynb\" target=\"_parent\"><img src=\"https://colab.research.google.com/assets/colab-badge.svg\" alt=\"Open In Colab\"/></a>"
      ]
    },
    {
      "cell_type": "code",
      "metadata": {
        "id": "Ru7BFAo-ImFE",
        "colab_type": "code",
        "colab": {}
      },
      "source": [
        "import requests"
      ],
      "execution_count": 1,
      "outputs": []
    },
    {
      "cell_type": "code",
      "metadata": {
        "id": "6CxAAh_uLusW",
        "colab_type": "code",
        "colab": {}
      },
      "source": [
        "import requests, zipfile, io"
      ],
      "execution_count": 2,
      "outputs": []
    },
    {
      "cell_type": "code",
      "metadata": {
        "id": "HfC8sdFKUkpf",
        "colab_type": "code",
        "colab": {
          "base_uri": "https://localhost:8080/",
          "height": 1000
        },
        "outputId": "4e051a9a-a2bd-44d6-d338-af9dc5377b7d"
      },
      "source": [
        "! pip install Scrapy\n"
      ],
      "execution_count": 3,
      "outputs": [
        {
          "output_type": "stream",
          "text": [
            "Collecting Scrapy\n",
            "\u001b[?25l  Downloading https://files.pythonhosted.org/packages/58/59/a942878de3fb03481207a32bea488d7c3bd6bd8deecdbf90b6746dfa2da0/Scrapy-2.3.0-py2.py3-none-any.whl (237kB)\n",
            "\u001b[K     |████████████████████████████████| 245kB 2.8MB/s \n",
            "\u001b[?25hRequirement already satisfied: lxml>=3.5.0; platform_python_implementation == \"CPython\" in /usr/local/lib/python3.6/dist-packages (from Scrapy) (4.2.6)\n",
            "Collecting zope.interface>=4.1.3\n",
            "\u001b[?25l  Downloading https://files.pythonhosted.org/packages/57/33/565274c28a11af60b7cfc0519d46bde4125fcd7d32ebc0a81b480d0e8da6/zope.interface-5.1.0-cp36-cp36m-manylinux2010_x86_64.whl (234kB)\n",
            "\u001b[K     |████████████████████████████████| 235kB 8.6MB/s \n",
            "\u001b[?25hCollecting PyDispatcher>=2.0.5\n",
            "  Downloading https://files.pythonhosted.org/packages/cd/37/39aca520918ce1935bea9c356bcbb7ed7e52ad4e31bff9b943dfc8e7115b/PyDispatcher-2.0.5.tar.gz\n",
            "Collecting cryptography>=2.0\n",
            "\u001b[?25l  Downloading https://files.pythonhosted.org/packages/c0/9c/647e559a6e8be493dc2a7a5d15d26cb501ca60ec299b356f23839a673a83/cryptography-3.1-cp35-abi3-manylinux2010_x86_64.whl (2.6MB)\n",
            "\u001b[K     |████████████████████████████████| 2.6MB 9.2MB/s \n",
            "\u001b[?25hCollecting itemloaders>=1.0.1\n",
            "  Downloading https://files.pythonhosted.org/packages/b9/c5/bd4d083c6d5368885cb8d10ea8355d38a958a57e5bc73945fc3905a7e1ca/itemloaders-1.0.3-py3-none-any.whl\n",
            "Collecting w3lib>=1.17.0\n",
            "  Downloading https://files.pythonhosted.org/packages/a3/59/b6b14521090e7f42669cafdb84b0ab89301a42f1f1a82fcf5856661ea3a7/w3lib-1.22.0-py2.py3-none-any.whl\n",
            "Collecting parsel>=1.5.0\n",
            "  Downloading https://files.pythonhosted.org/packages/23/1e/9b39d64cbab79d4362cdd7be7f5e9623d45c4a53b3f7522cd8210df52d8e/parsel-1.6.0-py2.py3-none-any.whl\n",
            "Collecting pyOpenSSL>=16.2.0\n",
            "\u001b[?25l  Downloading https://files.pythonhosted.org/packages/9e/de/f8342b68fa9e981d348039954657bdf681b2ab93de27443be51865ffa310/pyOpenSSL-19.1.0-py2.py3-none-any.whl (53kB)\n",
            "\u001b[K     |████████████████████████████████| 61kB 2.9MB/s \n",
            "\u001b[?25hCollecting queuelib>=1.4.2\n",
            "  Downloading https://files.pythonhosted.org/packages/4c/85/ae64e9145f39dd6d14f8af3fa809a270ef3729f3b90b3c0cf5aa242ab0d4/queuelib-1.5.0-py2.py3-none-any.whl\n",
            "Collecting service-identity>=16.0.0\n",
            "  Downloading https://files.pythonhosted.org/packages/e9/7c/2195b890023e098f9618d43ebc337d83c8b38d414326685339eb024db2f6/service_identity-18.1.0-py2.py3-none-any.whl\n",
            "Collecting Twisted>=17.9.0\n",
            "\u001b[?25l  Downloading https://files.pythonhosted.org/packages/b7/04/1a664c9e5ec0224a1c1a154ddecaa4dc7b8967521bba225efcc41a03d5f3/Twisted-20.3.0-cp36-cp36m-manylinux1_x86_64.whl (3.1MB)\n",
            "\u001b[K     |████████████████████████████████| 3.1MB 35.6MB/s \n",
            "\u001b[?25hCollecting itemadapter>=0.1.0\n",
            "  Downloading https://files.pythonhosted.org/packages/7d/fb/92f848fcfa85dc9f95370eaecb5c99b5230dd4fc5c6bae684f4ca59df973/itemadapter-0.1.0-py3-none-any.whl\n",
            "Collecting protego>=0.1.15\n",
            "\u001b[?25l  Downloading https://files.pythonhosted.org/packages/db/6e/bf6d5e4d7cf233b785719aaec2c38f027b9c2ed980a0015ec1a1cced4893/Protego-0.1.16.tar.gz (3.2MB)\n",
            "\u001b[K     |████████████████████████████████| 3.2MB 38.0MB/s \n",
            "\u001b[?25hCollecting cssselect>=0.9.1\n",
            "  Downloading https://files.pythonhosted.org/packages/3b/d4/3b5c17f00cce85b9a1e6f91096e1cc8e8ede2e1be8e96b87ce1ed09e92c5/cssselect-1.1.0-py2.py3-none-any.whl\n",
            "Requirement already satisfied: setuptools in /usr/local/lib/python3.6/dist-packages (from zope.interface>=4.1.3->Scrapy) (50.3.0)\n",
            "Requirement already satisfied: cffi!=1.11.3,>=1.8 in /usr/local/lib/python3.6/dist-packages (from cryptography>=2.0->Scrapy) (1.14.2)\n",
            "Requirement already satisfied: six>=1.4.1 in /usr/local/lib/python3.6/dist-packages (from cryptography>=2.0->Scrapy) (1.15.0)\n",
            "Requirement already satisfied: jmespath>=0.9.5 in /usr/local/lib/python3.6/dist-packages (from itemloaders>=1.0.1->Scrapy) (0.10.0)\n",
            "Requirement already satisfied: attrs>=16.0.0 in /usr/local/lib/python3.6/dist-packages (from service-identity>=16.0.0->Scrapy) (20.2.0)\n",
            "Requirement already satisfied: pyasn1-modules in /usr/local/lib/python3.6/dist-packages (from service-identity>=16.0.0->Scrapy) (0.2.8)\n",
            "Requirement already satisfied: pyasn1 in /usr/local/lib/python3.6/dist-packages (from service-identity>=16.0.0->Scrapy) (0.4.8)\n",
            "Collecting Automat>=0.3.0\n",
            "  Downloading https://files.pythonhosted.org/packages/dd/83/5f6f3c1a562674d65efc320257bdc0873ec53147835aeef7762fe7585273/Automat-20.2.0-py2.py3-none-any.whl\n",
            "Collecting incremental>=16.10.1\n",
            "  Downloading https://files.pythonhosted.org/packages/f5/1d/c98a587dc06e107115cf4a58b49de20b19222c83d75335a192052af4c4b7/incremental-17.5.0-py2.py3-none-any.whl\n",
            "Collecting hyperlink>=17.1.1\n",
            "\u001b[?25l  Downloading https://files.pythonhosted.org/packages/88/a5/74f77547e9b175eb894d4fec5c76b0c8176c045e5bf3ac6a4d4d3feab4bb/hyperlink-20.0.1-py2.py3-none-any.whl (48kB)\n",
            "\u001b[K     |████████████████████████████████| 51kB 4.7MB/s \n",
            "\u001b[?25hCollecting constantly>=15.1\n",
            "  Downloading https://files.pythonhosted.org/packages/b9/65/48c1909d0c0aeae6c10213340ce682db01b48ea900a7d9fce7a7910ff318/constantly-15.1.0-py2.py3-none-any.whl\n",
            "Collecting PyHamcrest!=1.10.0,>=1.9.0\n",
            "\u001b[?25l  Downloading https://files.pythonhosted.org/packages/40/16/e54cc65891f01cb62893540f44ffd3e8dab0a22443e1b438f1a9f5574bee/PyHamcrest-2.0.2-py3-none-any.whl (52kB)\n",
            "\u001b[K     |████████████████████████████████| 61kB 3.6MB/s \n",
            "\u001b[?25hRequirement already satisfied: pycparser in /usr/local/lib/python3.6/dist-packages (from cffi!=1.11.3,>=1.8->cryptography>=2.0->Scrapy) (2.20)\n",
            "Requirement already satisfied: idna>=2.5 in /usr/local/lib/python3.6/dist-packages (from hyperlink>=17.1.1->Twisted>=17.9.0->Scrapy) (2.10)\n",
            "Building wheels for collected packages: PyDispatcher, protego\n",
            "  Building wheel for PyDispatcher (setup.py) ... \u001b[?25l\u001b[?25hdone\n",
            "  Created wheel for PyDispatcher: filename=PyDispatcher-2.0.5-cp36-none-any.whl size=11517 sha256=f765f36d933891d35f6e9890d50a4858781e2a84dd51abcaa73563abb6f830db\n",
            "  Stored in directory: /root/.cache/pip/wheels/88/99/96/cfef6665f9cb1522ee6757ae5955feedf2fe25f1737f91fa7f\n",
            "  Building wheel for protego (setup.py) ... \u001b[?25l\u001b[?25hdone\n",
            "  Created wheel for protego: filename=Protego-0.1.16-cp36-none-any.whl size=7765 sha256=730102a0e4d3229f1776a7547d65af23888dc47ca568494e662736238fea560f\n",
            "  Stored in directory: /root/.cache/pip/wheels/51/01/d1/4a2286a976dccd025ba679acacfe37320540df0f2283ecab12\n",
            "Successfully built PyDispatcher protego\n",
            "Installing collected packages: zope.interface, PyDispatcher, cryptography, w3lib, cssselect, parsel, itemadapter, itemloaders, pyOpenSSL, queuelib, service-identity, Automat, incremental, hyperlink, constantly, PyHamcrest, Twisted, protego, Scrapy\n",
            "Successfully installed Automat-20.2.0 PyDispatcher-2.0.5 PyHamcrest-2.0.2 Scrapy-2.3.0 Twisted-20.3.0 constantly-15.1.0 cryptography-3.1 cssselect-1.1.0 hyperlink-20.0.1 incremental-17.5.0 itemadapter-0.1.0 itemloaders-1.0.3 parsel-1.6.0 protego-0.1.16 pyOpenSSL-19.1.0 queuelib-1.5.0 service-identity-18.1.0 w3lib-1.22.0 zope.interface-5.1.0\n"
          ],
          "name": "stdout"
        }
      ]
    },
    {
      "cell_type": "code",
      "metadata": {
        "id": "qxHykIVZJFKw",
        "colab_type": "code",
        "colab": {}
      },
      "source": [
        "zip_file_url = 'https://pycrawler-fileentity.cupoy.com/marathon/homework/data/1586231273245/Day027_Scrapy_item.zip?t=1586231283211'"
      ],
      "execution_count": 4,
      "outputs": []
    },
    {
      "cell_type": "code",
      "metadata": {
        "id": "HFXiBzgEJt7P",
        "colab_type": "code",
        "colab": {
          "base_uri": "https://localhost:8080/",
          "height": 237
        },
        "outputId": "86fe0c08-a9ba-4916-f47a-5f00d0362d88"
      },
      "source": [
        "! wget $zip_file_url"
      ],
      "execution_count": 5,
      "outputs": [
        {
          "output_type": "stream",
          "text": [
            "--2020-09-18 23:23:15--  https://pycrawler-fileentity.cupoy.com/marathon/homework/data/1586231273245/Day027_Scrapy_item.zip?t=1586231283211\n",
            "Resolving pycrawler-fileentity.cupoy.com (pycrawler-fileentity.cupoy.com)... 13.226.45.41, 13.226.45.114, 13.226.45.101, ...\n",
            "Connecting to pycrawler-fileentity.cupoy.com (pycrawler-fileentity.cupoy.com)|13.226.45.41|:443... connected.\n",
            "HTTP request sent, awaiting response... 200 OK\n",
            "Length: 22685 (22K) [application/octet-stream]\n",
            "Saving to: ‘Day027_Scrapy_item.zip?t=1586231283211’\n",
            "\n",
            "Day027_Scrapy_item. 100%[===================>]  22.15K  --.-KB/s    in 0.07s   \n",
            "\n",
            "2020-09-18 23:23:16 (333 KB/s) - ‘Day027_Scrapy_item.zip?t=1586231283211’ saved [22685/22685]\n",
            "\n"
          ],
          "name": "stdout"
        }
      ]
    },
    {
      "cell_type": "code",
      "metadata": {
        "id": "B52Igz1PJuA1",
        "colab_type": "code",
        "colab": {
          "base_uri": "https://localhost:8080/",
          "height": 35
        },
        "outputId": "5c0abcb2-3772-44da-fb30-52dc7c79dded"
      },
      "source": [
        "!ls"
      ],
      "execution_count": 6,
      "outputs": [
        {
          "output_type": "stream",
          "text": [
            "'Day027_Scrapy_item.zip?t=1586231283211'   sample_data\n"
          ],
          "name": "stdout"
        }
      ]
    },
    {
      "cell_type": "code",
      "metadata": {
        "id": "ugZzNSvOKBUb",
        "colab_type": "code",
        "colab": {
          "base_uri": "https://localhost:8080/",
          "height": 35
        },
        "outputId": "b73953cb-4ac9-4751-c866-55e28183b765"
      },
      "source": [
        "zipfile.is_zipfile('./Day027_Scrapy_item.zip?t=1586231283211')"
      ],
      "execution_count": 7,
      "outputs": [
        {
          "output_type": "execute_result",
          "data": {
            "text/plain": [
              "True"
            ]
          },
          "metadata": {
            "tags": []
          },
          "execution_count": 7
        }
      ]
    },
    {
      "cell_type": "code",
      "metadata": {
        "id": "nd8mak84KWVD",
        "colab_type": "code",
        "colab": {}
      },
      "source": [
        "zip = zipfile.ZipFile('Day027_Scrapy_item.zip?t=1586231283211')"
      ],
      "execution_count": 8,
      "outputs": []
    },
    {
      "cell_type": "code",
      "metadata": {
        "id": "79mzlqB5Ki_w",
        "colab_type": "code",
        "colab": {
          "base_uri": "https://localhost:8080/",
          "height": 526
        },
        "outputId": "3276adaa-5e00-4083-95f9-5884f8574cab"
      },
      "source": [
        "zip.namelist()"
      ],
      "execution_count": 9,
      "outputs": [
        {
          "output_type": "execute_result",
          "data": {
            "text/plain": [
              "['Day027_Scrapy_item/',\n",
              " '__MACOSX/._Day027_Scrapy_item',\n",
              " 'Day027_Scrapy_item/myproject/',\n",
              " '__MACOSX/Day027_Scrapy_item/._myproject',\n",
              " 'Day027_Scrapy_item/Pipfile',\n",
              " '__MACOSX/Day027_Scrapy_item/._Pipfile',\n",
              " 'Day027_Scrapy_item/Pipfile.lock',\n",
              " '__MACOSX/Day027_Scrapy_item/._Pipfile.lock',\n",
              " 'Day027_Scrapy_item/myproject/myproject/',\n",
              " '__MACOSX/Day027_Scrapy_item/myproject/._myproject',\n",
              " 'Day027_Scrapy_item/myproject/scrapy.cfg',\n",
              " '__MACOSX/Day027_Scrapy_item/myproject/._scrapy.cfg',\n",
              " 'Day027_Scrapy_item/myproject/myproject/spiders/',\n",
              " '__MACOSX/Day027_Scrapy_item/myproject/myproject/._spiders',\n",
              " 'Day027_Scrapy_item/myproject/myproject/__init__.py',\n",
              " '__MACOSX/Day027_Scrapy_item/myproject/myproject/.___init__.py',\n",
              " 'Day027_Scrapy_item/myproject/myproject/middlewares.py',\n",
              " '__MACOSX/Day027_Scrapy_item/myproject/myproject/._middlewares.py',\n",
              " 'Day027_Scrapy_item/myproject/myproject/settings.py',\n",
              " '__MACOSX/Day027_Scrapy_item/myproject/myproject/._settings.py',\n",
              " 'Day027_Scrapy_item/myproject/myproject/items.py',\n",
              " '__MACOSX/Day027_Scrapy_item/myproject/myproject/._items.py',\n",
              " 'Day027_Scrapy_item/myproject/myproject/pipelines.py',\n",
              " '__MACOSX/Day027_Scrapy_item/myproject/myproject/._pipelines.py',\n",
              " 'Day027_Scrapy_item/myproject/myproject/spiders/PTTCrawler.py',\n",
              " '__MACOSX/Day027_Scrapy_item/myproject/myproject/spiders/._PTTCrawler.py',\n",
              " 'Day027_Scrapy_item/myproject/myproject/spiders/__init__.py',\n",
              " '__MACOSX/Day027_Scrapy_item/myproject/myproject/spiders/.___init__.py']"
            ]
          },
          "metadata": {
            "tags": []
          },
          "execution_count": 9
        }
      ]
    },
    {
      "cell_type": "code",
      "metadata": {
        "id": "4CWb2AH1I6pb",
        "colab_type": "code",
        "colab": {}
      },
      "source": [
        "zip.extractall()"
      ],
      "execution_count": 10,
      "outputs": []
    },
    {
      "cell_type": "code",
      "metadata": {
        "id": "-imEqNZpKyT7",
        "colab_type": "code",
        "colab": {
          "base_uri": "https://localhost:8080/",
          "height": 54
        },
        "outputId": "162f78da-bb27-4dbb-fca5-cb6bba42c7c1"
      },
      "source": [
        "!ls "
      ],
      "execution_count": 11,
      "outputs": [
        {
          "output_type": "stream",
          "text": [
            " Day027_Scrapy_item\t\t\t   __MACOSX\n",
            "'Day027_Scrapy_item.zip?t=1586231283211'   sample_data\n"
          ],
          "name": "stdout"
        }
      ]
    },
    {
      "cell_type": "markdown",
      "metadata": {
        "id": "CnQGXi1QMtk2",
        "colab_type": "text"
      },
      "source": [
        "# my own code"
      ]
    },
    {
      "cell_type": "markdown",
      "metadata": {
        "id": "mWrtYXurMeW6",
        "colab_type": "text"
      },
      "source": [
        "## use shell in cell\n"
      ]
    },
    {
      "cell_type": "code",
      "metadata": {
        "id": "PdJvqnvTctRS",
        "colab_type": "code",
        "colab": {}
      },
      "source": [
        "!pip install kora"
      ],
      "execution_count": null,
      "outputs": []
    },
    {
      "cell_type": "code",
      "metadata": {
        "id": "sxG13nuQhNt7",
        "colab_type": "code",
        "colab": {}
      },
      "source": [
        "\n",
        "from kora import console\n"
      ],
      "execution_count": null,
      "outputs": []
    },
    {
      "cell_type": "code",
      "metadata": {
        "id": "R6E1ZbEWkQPt",
        "colab_type": "code",
        "colab": {
          "base_uri": "https://localhost:8080/",
          "height": 34
        },
        "outputId": "a3e9de88-c5ad-4679-9044-e70f7fadccb0"
      },
      "source": [
        "console.start( ) "
      ],
      "execution_count": null,
      "outputs": [
        {
          "output_type": "stream",
          "text": [
            "Console URL: https://teleconsole.com/s/de4128a7d243963678fd5cbb22d666e665b1d82b\n"
          ],
          "name": "stdout"
        }
      ]
    },
    {
      "cell_type": "code",
      "metadata": {
        "id": "MwmzJEvJdEWm",
        "colab_type": "code",
        "colab": {}
      },
      "source": [
        "from IPython.display import JSON\n",
        "from google.colab import output\n",
        "from subprocess import getoutput\n",
        "import os\n",
        "\n",
        "def shell(command):\n",
        "  if command.startswith('cd'):\n",
        "    path = command.strip().split(maxsplit=1)[1]\n",
        "    os.chdir(path)\n",
        "    return JSON([''])\n",
        "  return JSON([getoutput(command)])\n",
        "output.register_callback('shell', shell)"
      ],
      "execution_count": null,
      "outputs": []
    },
    {
      "cell_type": "code",
      "metadata": {
        "id": "r92Fbb0wdK3F",
        "colab_type": "code",
        "colab": {}
      },
      "source": [
        "#@title Colab Shell\n",
        "%%html\n",
        "<div id=term_demo></div>\n",
        "<script src=\"https://code.jquery.com/jquery-latest.js\"></script>\n",
        "<script src=\"https://cdn.jsdelivr.net/npm/jquery.terminal/js/jquery.terminal.min.js\"></script>\n",
        "<link href=\"https://cdn.jsdelivr.net/npm/jquery.terminal/css/jquery.terminal.min.css\" rel=\"stylesheet\"/>\n",
        "<script>\n",
        "  $('#term_demo').terminal(async function(command) {\n",
        "      if (command !== '') {\n",
        "          try {\n",
        "              let res = await google.colab.kernel.invokeFunction('shell', [command])\n",
        "              let out = res.data['application/json'][0]\n",
        "              this.echo(new String(out))\n",
        "          } catch(e) {\n",
        "              this.error(new String(e));\n",
        "          }\n",
        "      } else {\n",
        "          this.echo('');\n",
        "      }\n",
        "  }, {\n",
        "      greetings: 'Welcome to Colab Shell',\n",
        "      name: 'colab_demo',\n",
        "      height: 250,\n",
        "      prompt: 'colab > '\n",
        "  });"
      ],
      "execution_count": null,
      "outputs": []
    },
    {
      "cell_type": "code",
      "metadata": {
        "id": "CDabU1AOuQyi",
        "colab_type": "code",
        "colab": {}
      },
      "source": [
        "!bash "
      ],
      "execution_count": null,
      "outputs": []
    },
    {
      "cell_type": "code",
      "metadata": {
        "id": "fQk5A1OMb7I7",
        "colab_type": "code",
        "colab": {}
      },
      "source": [
        " %%shell\n",
        "scrapy shell \"http://quotes.toscrape.com/\""
      ],
      "execution_count": null,
      "outputs": []
    },
    {
      "cell_type": "markdown",
      "metadata": {
        "id": "a5MGztK-Mk4w",
        "colab_type": "text"
      },
      "source": [
        ""
      ]
    },
    {
      "cell_type": "code",
      "metadata": {
        "id": "S6RzQ0opMl72",
        "colab_type": "code",
        "colab": {}
      },
      "source": [
        ""
      ],
      "execution_count": null,
      "outputs": []
    },
    {
      "cell_type": "code",
      "metadata": {
        "id": "EisJgDZ1qCqk",
        "colab_type": "code",
        "colab": {}
      },
      "source": [
        "import requests\n",
        "from bs4 import BeautifulSoup"
      ],
      "execution_count": null,
      "outputs": []
    },
    {
      "cell_type": "code",
      "metadata": {
        "id": "C1ivIl-LqCnO",
        "colab_type": "code",
        "colab": {}
      },
      "source": [
        "url = 'https://www.inside.com.tw/'"
      ],
      "execution_count": null,
      "outputs": []
    },
    {
      "cell_type": "code",
      "metadata": {
        "id": "P1GpAgbvqChf",
        "colab_type": "code",
        "colab": {}
      },
      "source": [
        "res = requests.get(url)"
      ],
      "execution_count": null,
      "outputs": []
    },
    {
      "cell_type": "code",
      "metadata": {
        "id": "LX6yN6VZqCY9",
        "colab_type": "code",
        "colab": {}
      },
      "source": [
        "soup = BeautifulSoup(res.text)"
      ],
      "execution_count": null,
      "outputs": []
    },
    {
      "cell_type": "code",
      "metadata": {
        "id": "R8JCcZPHqfBE",
        "colab_type": "code",
        "colab": {
          "base_uri": "https://localhost:8080/",
          "height": 35
        },
        "outputId": "2b09bc3c-f4e7-4fe0-aa86-c8aa931be141"
      },
      "source": [
        "soup.select('.js-auto_break_title')[0]['href']"
      ],
      "execution_count": null,
      "outputs": [
        {
          "output_type": "execute_result",
          "data": {
            "application/vnd.google.colaboratory.intrinsic+json": {
              "type": "string"
            },
            "text/plain": [
              "'https://www.inside.com.tw/article/20956-2020-apple-event-watch-6-SE'"
            ]
          },
          "metadata": {
            "tags": []
          },
          "execution_count": 104
        }
      ]
    },
    {
      "cell_type": "code",
      "metadata": {
        "id": "3k-ltgrJYdAJ",
        "colab_type": "code",
        "colab": {}
      },
      "source": [
        "[u['href'] for u in soup.select('.js-auto_break_title')]"
      ],
      "execution_count": null,
      "outputs": []
    },
    {
      "cell_type": "code",
      "metadata": {
        "id": "p_RHCJpKaTVP",
        "colab_type": "code",
        "colab": {}
      },
      "source": [
        "res = requests.get([u['href'] for u in soup.select('.js-auto_break_title')][0])"
      ],
      "execution_count": null,
      "outputs": []
    },
    {
      "cell_type": "code",
      "metadata": {
        "id": "2R-ONDfSaTZd",
        "colab_type": "code",
        "colab": {}
      },
      "source": [
        "soup = BeautifulSoup(res.text)"
      ],
      "execution_count": null,
      "outputs": []
    },
    {
      "cell_type": "code",
      "metadata": {
        "id": "DTnk1PwMaUOE",
        "colab_type": "code",
        "colab": {
          "base_uri": "https://localhost:8080/",
          "height": 54
        },
        "outputId": "eb3737fd-79ff-4451-cf28-8d9737b0bc26"
      },
      "source": [
        "soup.select('.post_header_title')"
      ],
      "execution_count": null,
      "outputs": [
        {
          "output_type": "execute_result",
          "data": {
            "text/plain": [
              "[<h1 class=\"post_header_title js-auto_break_title\">蘋果發表會 Apple Watch Series 6、Watch SE 與 Apple One 登場</h1>]"
            ]
          },
          "metadata": {
            "tags": []
          },
          "execution_count": 116
        }
      ]
    },
    {
      "cell_type": "code",
      "metadata": {
        "id": "EXQWy_Lf0ahO",
        "colab_type": "code",
        "colab": {
          "base_uri": "https://localhost:8080/",
          "height": 338
        },
        "outputId": "d2669abf-3763-451d-b4db-e56b2b1e3c8d"
      },
      "source": [
        "[pp.text for line in soup.select('#article_content') for pp in line.select('p')]\n",
        "# .select('p')"
      ],
      "execution_count": null,
      "outputs": [
        {
          "output_type": "execute_result",
          "data": {
            "text/plain": [
              "['蘋果秋季發表會於今日美國加州時間上午十點，台灣時間凌晨一點登場，一如往常地由蘋果大家長-執行長庫克（Tim Cook）於 Apple Park 為年度的盛會揭開序幕，名為「Time Flies」的主題，時光飛逝自疫情爆發以來度過半年的時間，今年疫情影響數位科技與網路更是更顯重要，像是遠距工作、遠距學習大需求，庫克以破題法告訴大家今天聚焦在 Apple Watch 以及 iPad。',\n",
              " '過去在 Apple Watch 上救命的案例不少，也幫助高血壓患者、視障者等在生活上更便利，而因應疫情，在今年市場更加關注醫療話題，本次也聚焦在健康功能。',\n",
              " '首先，如預期的推出 Apple Watch Series 6，除了藉由 watchOS 7 實現睡眠追蹤，也新增傳說中的血氧功能，可透過動作和心率測量最大攝氧量的數值區間，這是過去專業診所上提供的功能，如今搭配 watchOS 7 也能實現進行預測，並在數值異常時發出提醒。',\n",
              " '在外觀部分，藍色金屬表面、金色不鏽鋼外觀、還有石墨色的黑灰不鏽鋼金屬錶殼，更首次帶來紅色的錶殼，同時也推出一款新的單圈錶帶，彈性、防水更簡約，還有編織的錶帶、新色 Nike 錶帶。另外，與藝術家合作推出更多錶面，也能使用自己的 memoji 更加趣味。',\n",
              " '根據介紹，透過感應器計算用戶血液顏色得出血液的含氧量，15 秒完成一次測量。同時在後台上會定期產出量測報告並儲存在健康 App 上，在今年疫情之際，血氧和動脈測氧器經常被提起，血氧飽和度能知道目前氧氣輸送的情形，和整體的心肺健康，而現在也能利用血氧 App 助力於相關的醫學研究上，Apple 已於許多醫療專家與機構合作。',\n",
              " '採用第六代晶片 S6，雙核處理器由基於 iPhone 11 的 A13 打造，並根據 Apple Watch 需求做優化，與前代相比，速度快了 20%，也強調 Watch 使用 100% 循環利用的材質打造，Apple Watch Series 6 GPS 版售價 399 \\xa0美元。',\n",
              " '另外，在戶外更多人性化的功能，比如戶外亮度自動增加 2.5倍，可以監測海拔高度。當然也可以充分利用 Watch \\xa0上的 App 實現更多功能，像是追蹤太陽位置。',\n",
              " '再來是家長安心孩子更小心的家人共享功能，新增「家庭配對」（Family Setup）即便孩子、年邁長輩沒有手機，仍然可以啟動定位通知，遠端監控勿擾模式、限制互動，了解孩子的學習狀態，設置需要 Apple Watch 4 以上 LTE 版本，支援十二個國家電信商，台灣中華電信也出現在發表會的投影片中。',\n",
              " '接著，如預期中推出平價版的 Apple Watch SE ，結合 Apple Watch Series 6 設計，包含健身等核心功能的平價版智慧手錶，基本的加速感應器、陀螺儀、指南針與高度計都包含，也有最新的運動感應器，因此也支援跌倒監測，而 Watch SE 採用 S5 晶片，運作效能比 Series 3 快兩倍，售價 279 美元起，支援分期付款每月 12 \\xa0美元。',\n",
              " 'Apple Watch Series 6 台幣 12900 元起與 Apple Watch SE 台幣 8900 元起，9/17 開放預購，9/23 開始陸續出貨。',\n",
              " '另外，蘋果推出健身訂閱服務 Fitness+，更便利在運動訓練上，能在大螢幕上顯示當下運動數據，有 10 種不同的鍛煉類型，包含騎自行車、跑步機、瑜伽、核心訓練、划船等。如果速度太快或太慢，Apple Watch 也會提醒，並提供更精確的心率、每分鐘步數等運動數值，Fitness＋ 將在澳洲、加拿大、愛爾蘭、紐西蘭、英國和美國年底前上市，每月 9.99 美元，一年訂閱優惠 79 .99 美元。',\n",
              " '接著也一同宣布傳聞中的訂閱套餐服務，全新的訂閱服務「Apple One」，讓用戶可以一次訂購多種 Apple 軟體服務，包含 Apple Music、TV+、Arcade、Fitness+，三種方案包含個人、家庭與進階版，分別是14.95 \\xa0美元、19.95 \\xa0美元、29.95 \\xa0美元。',\n",
              " '根據 Apple 說法，目前標準每月定價，個人方案每月可節省超過 6 美元，而家庭計劃每月可節省 8 美元。Premier 計劃每月可節省超過 25 美元。',\n",
              " '3:18 更新 Apple One 方案台灣售價：',\n",
              " '核稿編輯：李柏鋒',\n",
              " '延伸閱讀：',\n",
              " '']"
            ]
          },
          "metadata": {
            "tags": []
          },
          "execution_count": 141
        }
      ]
    },
    {
      "cell_type": "code",
      "metadata": {
        "id": "iLimWAIy0apS",
        "colab_type": "code",
        "colab": {}
      },
      "source": [
        ""
      ],
      "execution_count": null,
      "outputs": []
    },
    {
      "cell_type": "code",
      "metadata": {
        "id": "HNzm0EUEaUSf",
        "colab_type": "code",
        "colab": {
          "base_uri": "https://localhost:8080/",
          "height": 34
        },
        "outputId": "eb0cc823-f7b8-41c8-c788-60adfa34a0d3"
      },
      "source": [
        "! pwd"
      ],
      "execution_count": null,
      "outputs": [
        {
          "output_type": "stream",
          "text": [
            "/content\n"
          ],
          "name": "stdout"
        }
      ]
    },
    {
      "cell_type": "code",
      "metadata": {
        "id": "zk4eOV7tii3i",
        "colab_type": "code",
        "colab": {
          "base_uri": "https://localhost:8080/",
          "height": 146
        },
        "outputId": "a8f4144d-1b00-4ea2-b220-389517f62384"
      },
      "source": [
        "!scrapy startproject myproject_inside"
      ],
      "execution_count": 12,
      "outputs": [
        {
          "output_type": "stream",
          "text": [
            "New Scrapy project 'myproject_inside', using template directory '/usr/local/lib/python3.6/dist-packages/scrapy/templates/project', created in:\n",
            "    /content/myproject_inside\n",
            "\n",
            "You can start your first spider with:\n",
            "    cd myproject_inside\n",
            "    scrapy genspider example example.com\n"
          ],
          "name": "stdout"
        }
      ]
    },
    {
      "cell_type": "code",
      "metadata": {
        "id": "ZURdMYlOi5IP",
        "colab_type": "code",
        "colab": {
          "base_uri": "https://localhost:8080/",
          "height": 35
        },
        "outputId": "c091c33b-eb18-4a04-ab34-81f0866109eb"
      },
      "source": [
        "!scrapy genspider InsideCrawler inside.com.tw\n"
      ],
      "execution_count": 13,
      "outputs": [
        {
          "output_type": "stream",
          "text": [
            "Created spider 'InsideCrawler' using template 'basic' \n"
          ],
          "name": "stdout"
        }
      ]
    },
    {
      "cell_type": "code",
      "metadata": {
        "id": "66amVMI0kJSO",
        "colab_type": "code",
        "colab": {}
      },
      "source": [
        "# from PTTCrawler import PttcrawlerSpider"
      ],
      "execution_count": null,
      "outputs": []
    },
    {
      "cell_type": "code",
      "metadata": {
        "id": "nTEoU7Lnktqf",
        "colab_type": "code",
        "colab": {}
      },
      "source": [
        "# PttcrawlerSpider.start_requests(self)"
      ],
      "execution_count": null,
      "outputs": []
    },
    {
      "cell_type": "code",
      "metadata": {
        "id": "VCidItvuqfJE",
        "colab_type": "code",
        "colab": {
          "base_uri": "https://localhost:8080/",
          "height": 105
        },
        "outputId": "a15556e9-1c69-49f8-b684-47a157609a73"
      },
      "source": [
        "# !scrapy crawl InsideCrawler"
      ],
      "execution_count": null,
      "outputs": [
        {
          "output_type": "stream",
          "text": [
            "Scrapy 2.3.0 - no active project\n",
            "\n",
            "Unknown command: crawl\n",
            "\n",
            "Use \"scrapy\" to see available commands\n"
          ],
          "name": "stdout"
        }
      ]
    },
    {
      "cell_type": "code",
      "metadata": {
        "id": "JkKvKBelbO6A",
        "colab_type": "code",
        "colab": {}
      },
      "source": [
        "!scrapy runspider InsideCrawler.py -s USER_AGENT='Mozilla/5.0'\n",
        "\n",
        "''' 403 代表有防爬蟲，\n",
        "1. 可以再command line 加入-s參數 \n",
        "2. 可以加入此段程式碼\n",
        "def start_requests(self):\n",
        "    yield scrapy.Request('https://www.inside.com.tw/',\n",
        "          headers={'User-Agent': \"Mozilla/5.0 (Windows NT 6.1; WOW64) AppleWebKit/537.36 (KHTML, like Gecko) Chrome/55.0.2883.87 Safari/537.36\"})\n",
        "3. 調整 setting 中的 user-agent 項目    \n",
        "'''\n"
      ],
      "execution_count": null,
      "outputs": []
    },
    {
      "cell_type": "code",
      "metadata": {
        "id": "h0VdBTUL411w",
        "colab_type": "code",
        "colab": {
          "base_uri": "https://localhost:8080/",
          "height": 1000
        },
        "outputId": "f29b50a6-3991-468e-a100-9ec8db369c5f"
      },
      "source": [
        "!scrapy runspider InsideCrawler.py -s USER_AGENT='Mozilla/5.0' \n",
        "# -o inside.json -t json"
      ],
      "execution_count": null,
      "outputs": [
        {
          "output_type": "stream",
          "text": [
            "2020-09-17 09:51:39 [scrapy.utils.log] INFO: Scrapy 2.3.0 started (bot: scrapybot)\n",
            "2020-09-17 09:51:39 [scrapy.utils.log] INFO: Versions: lxml 4.2.6.0, libxml2 2.9.8, cssselect 1.1.0, parsel 1.6.0, w3lib 1.22.0, Twisted 20.3.0, Python 3.6.9 (default, Jul 17 2020, 12:50:27) - [GCC 8.4.0], pyOpenSSL 19.1.0 (OpenSSL 1.1.1g  21 Apr 2020), cryptography 3.1, Platform Linux-4.19.112+-x86_64-with-Ubuntu-18.04-bionic\n",
            "2020-09-17 09:51:39 [scrapy.utils.log] DEBUG: Using reactor: twisted.internet.epollreactor.EPollReactor\n",
            "2020-09-17 09:51:39 [scrapy.crawler] INFO: Overridden settings:\n",
            "{'SPIDER_LOADER_WARN_ONLY': True, 'USER_AGENT': 'Mozilla/5.0'}\n",
            "2020-09-17 09:51:39 [scrapy.extensions.telnet] INFO: Telnet Password: e6152d710a4ff2b4\n",
            "2020-09-17 09:51:39 [scrapy.middleware] INFO: Enabled extensions:\n",
            "['scrapy.extensions.corestats.CoreStats',\n",
            " 'scrapy.extensions.telnet.TelnetConsole',\n",
            " 'scrapy.extensions.memusage.MemoryUsage',\n",
            " 'scrapy.extensions.logstats.LogStats']\n",
            "2020-09-17 09:51:39 [scrapy.middleware] INFO: Enabled downloader middlewares:\n",
            "['scrapy.downloadermiddlewares.httpauth.HttpAuthMiddleware',\n",
            " 'scrapy.downloadermiddlewares.downloadtimeout.DownloadTimeoutMiddleware',\n",
            " 'scrapy.downloadermiddlewares.defaultheaders.DefaultHeadersMiddleware',\n",
            " 'scrapy.downloadermiddlewares.useragent.UserAgentMiddleware',\n",
            " 'scrapy.downloadermiddlewares.retry.RetryMiddleware',\n",
            " 'scrapy.downloadermiddlewares.redirect.MetaRefreshMiddleware',\n",
            " 'scrapy.downloadermiddlewares.httpcompression.HttpCompressionMiddleware',\n",
            " 'scrapy.downloadermiddlewares.redirect.RedirectMiddleware',\n",
            " 'scrapy.downloadermiddlewares.cookies.CookiesMiddleware',\n",
            " 'scrapy.downloadermiddlewares.httpproxy.HttpProxyMiddleware',\n",
            " 'scrapy.downloadermiddlewares.stats.DownloaderStats']\n",
            "2020-09-17 09:51:39 [scrapy.middleware] INFO: Enabled spider middlewares:\n",
            "['scrapy.spidermiddlewares.httperror.HttpErrorMiddleware',\n",
            " 'scrapy.spidermiddlewares.offsite.OffsiteMiddleware',\n",
            " 'scrapy.spidermiddlewares.referer.RefererMiddleware',\n",
            " 'scrapy.spidermiddlewares.urllength.UrlLengthMiddleware',\n",
            " 'scrapy.spidermiddlewares.depth.DepthMiddleware']\n",
            "2020-09-17 09:51:39 [scrapy.middleware] INFO: Enabled item pipelines:\n",
            "[]\n",
            "2020-09-17 09:51:39 [scrapy.core.engine] INFO: Spider opened\n",
            "2020-09-17 09:51:39 [scrapy.extensions.logstats] INFO: Crawled 0 pages (at 0 pages/min), scraped 0 items (at 0 items/min)\n",
            "2020-09-17 09:51:39 [scrapy.extensions.telnet] INFO: Telnet console listening on 127.0.0.1:6023\n",
            "2020-09-17 09:51:39 [scrapy.core.engine] DEBUG: Crawled (200) <GET https://www.inside.com.tw/> (referer: None)\n",
            "2020-09-17 09:51:39 [scrapy.core.engine] DEBUG: Crawled (400) <GET https://www.inside.com.tw?page=2> (referer: https://www.inside.com.tw/)\n",
            "2020-09-17 09:51:39 [scrapy.core.engine] DEBUG: Crawled (400) <GET https://www.inside.com.tw?page=3> (referer: https://www.inside.com.tw/)\n",
            "2020-09-17 09:51:39 [scrapy.core.engine] INFO: Closing spider (finished)\n",
            "2020-09-17 09:51:39 [scrapy.statscollectors] INFO: Dumping Scrapy stats:\n",
            "{'downloader/request_bytes': 1933,\n",
            " 'downloader/request_count': 3,\n",
            " 'downloader/request_method_count/GET': 3,\n",
            " 'downloader/response_bytes': 19666,\n",
            " 'downloader/response_count': 3,\n",
            " 'downloader/response_status_count/200': 1,\n",
            " 'downloader/response_status_count/400': 2,\n",
            " 'elapsed_time_seconds': 0.556291,\n",
            " 'finish_reason': 'finished',\n",
            " 'finish_time': datetime.datetime(2020, 9, 17, 9, 51, 39, 983850),\n",
            " 'log_count/DEBUG': 3,\n",
            " 'log_count/INFO': 10,\n",
            " 'memusage/max': 144805888,\n",
            " 'memusage/startup': 144805888,\n",
            " 'request_depth_max': 1,\n",
            " 'response_received_count': 3,\n",
            " 'scheduler/dequeued': 3,\n",
            " 'scheduler/dequeued/memory': 3,\n",
            " 'scheduler/enqueued': 3,\n",
            " 'scheduler/enqueued/memory': 3,\n",
            " 'start_time': datetime.datetime(2020, 9, 17, 9, 51, 39, 427559)}\n",
            "2020-09-17 09:51:39 [scrapy.core.engine] INFO: Spider closed (finished)\n"
          ],
          "name": "stdout"
        }
      ]
    },
    {
      "cell_type": "code",
      "metadata": {
        "id": "SpjRypZ05RNi",
        "colab_type": "code",
        "colab": {}
      },
      "source": [
        "/content/InsideCrawler.py"
      ],
      "execution_count": null,
      "outputs": []
    },
    {
      "cell_type": "code",
      "metadata": {
        "id": "ydKsSeE8tOVt",
        "colab_type": "code",
        "colab": {}
      },
      "source": [
        "\n",
        "# !scrapy runspider InsideCrawler.py \n",
        "\n",
        "# Following hyperlink and “Filtered offsite request” - https://stackoverflow.com/questions/17862474/following-hyperlink-and-filtered-offsite-request\n",
        "# allowed_domains , 不應該包含\"http://www\", \"https://www\" 和 結尾有 \"/\""
      ],
      "execution_count": null,
      "outputs": []
    },
    {
      "cell_type": "code",
      "metadata": {
        "id": "C-LjePF1cjVW",
        "colab_type": "code",
        "colab": {}
      },
      "source": [
        "# !scrapy runspider InsideCrawler"
      ],
      "execution_count": null,
      "outputs": []
    },
    {
      "cell_type": "code",
      "metadata": {
        "id": "x5ttJvPh6sS3",
        "colab_type": "code",
        "colab": {
          "base_uri": "https://localhost:8080/",
          "height": 676
        },
        "outputId": "6d45f748-e74d-4302-c9cb-670648e56cd4"
      },
      "source": [
        "%cat InsideCrawler.py"
      ],
      "execution_count": null,
      "outputs": [
        {
          "output_type": "stream",
          "text": [
            "import scrapy\n",
            "from bs4 import BeautifulSoup\n",
            "from myproject_inside.myproject_inside.items import MyprojectInsideItem\n",
            "from scrapy.spiders import CrawlSpider, Rule\n",
            "from scrapy.linkextractors import  LinkExtractor\n",
            "\n",
            "class InsidecrawlerSpider(CrawlSpider):\n",
            "\n",
            "# class InsidecrawlerSpider(scrapy.Spider):\n",
            "    name = 'InsideCrawler'\n",
            "    allowed_domains = ['inside.com.tw']\n",
            "    start_urls = ['http://www.inside.com.tw/']\n",
            "    rules = [\n",
            "        Rule(LinkExtractor(allow=('/?page=[1-3]$')),\n",
            "         callback='parse_list', follow=True)\n",
            "    ]\n",
            "\n",
            "    def parse_list(self, response):\n",
            "        soup = BeautifulSoup(response.body, 'lxml')\n",
            "        for t in soup.select('.js-auto_break_title'):\n",
            "            # print(t.text)\n",
            "            yield scrapy.Request(t['href'], self.parse_detail)\n",
            "            \n",
            "    def start_requests(self):\n",
            "        yield scrapy.Request('https://www.inside.com.tw/',\n",
            "                      headers={'User-Agent': \"Mozilla/5.0 (Windows NT 6.1; WOW64) AppleWebKit/537.36 (KHTML, like Gecko) Chrome/55.0.2883.87 Safari/537.36\"})\n",
            "    \n",
            "    def parse_detail(self, response):\n",
            "        print(\"SCRAP EVERY LINK\")\n",
            "        soup = BeautifulSoup(response.body, 'lxml')\n",
            "        print(soup.select('.post_header_title')[0].text)\n",
            "        inside_item = MyprojectInsideItem()\n",
            "        inside_item['title'] = soup.select('.post_header_title')[0].text\n",
            "        inside_item['content'] =  [pp.text for line in soup.select('#article_content') for pp in line.select('p')]\n",
            "        return inside_item\n",
            "        # print(soup)"
          ],
          "name": "stdout"
        }
      ]
    },
    {
      "cell_type": "code",
      "metadata": {
        "id": "9B8HLDlf-HEd",
        "colab_type": "code",
        "colab": {
          "base_uri": "https://localhost:8080/",
          "height": 265
        },
        "outputId": "8006719c-a3d5-4ae4-b0ce-497c62900c97"
      },
      "source": [
        "%cat /content/myproject_inside/myproject_inside/items.py"
      ],
      "execution_count": null,
      "outputs": [
        {
          "output_type": "stream",
          "text": [
            "# Define here the models for your scraped items\n",
            "#\n",
            "# See documentation in:\n",
            "# https://docs.scrapy.org/en/latest/topics/items.html\n",
            "\n",
            "import scrapy\n",
            "\n",
            "\n",
            "class MyprojectInsideItem(scrapy.Item):\n",
            "    # define the fields for your item here like:\n",
            "    title = scrapy.Field()\n",
            "    content = scrapy.Field()\n",
            "    # time = scrapy.Field()\n",
            "    # pass\n"
          ],
          "name": "stdout"
        }
      ]
    },
    {
      "cell_type": "code",
      "metadata": {
        "id": "rnUGfytHjGZE",
        "colab_type": "code",
        "colab": {}
      },
      "source": [
        ""
      ],
      "execution_count": null,
      "outputs": []
    },
    {
      "cell_type": "markdown",
      "metadata": {
        "id": "b32cchT9jHrU",
        "colab_type": "text"
      },
      "source": [
        "# pipline\n"
      ]
    },
    {
      "cell_type": "code",
      "metadata": {
        "id": "uEleS9LZp2o5",
        "colab_type": "code",
        "colab": {
          "base_uri": "https://localhost:8080/",
          "height": 1000
        },
        "outputId": "d628f64e-6173-4d72-85d0-e8b8aa8bebf9"
      },
      "source": [
        "%cat /content/myproject_inside/myproject_inside/pipelines.py"
      ],
      "execution_count": 27,
      "outputs": [
        {
          "output_type": "stream",
          "text": [
            "# Define your item pipelines here\n",
            "#\n",
            "# Don't forget to add your pipeline to the ITEM_PIPELINES setting\n",
            "# See: https://docs.scrapy.org/en/latest/topics/item-pipeline.html\n",
            "import sqlite3\n",
            "import os\n",
            "import json\n",
            "\n",
            "from pathlib import Path\n",
            "from datetime import datetime\n",
            "\n",
            "# useful for handling different item types with a single interface\n",
            "from itemadapter import ItemAdapter\n",
            "\n",
            "class MyprojectInsidePipeline(object):\n",
            "    def open_spider(self, spider):\n",
            "        self.conn = sqlite3.connect('inside.sqlite')\n",
            "        self.cur = self.conn.cursor()\n",
            "        self.cur.execute('create table if not exists inside(title varchar(100), content text)')\n",
            "\n",
            "         self.start_crawl_datetime = datetime.now().strftime('%Y%m%dT%H:%M:%S')\n",
            "\n",
            "        # 在開始爬蟲的時候建立暫時的 JSON 檔案\n",
            "        # 避免有多筆爬蟲結果的時候，途中發生錯誤導致程式停止會遺失所有檔案\n",
            "        self.dir_path = Path(__file__).resolve().parents[1] / 'crawled_data'\n",
            "        self.runtime_file_path = str(self.dir_path / '.tmp.json.swp')\n",
            "        if not self.dir_path.exists():\n",
            "            self.dir_path.mkdir(parents=True)\n",
            "        spider.log('Create temp file for store JSON - {}'.format(self.runtime_file_path))\n",
            "\n",
            "        # 設計 JSON 存的格式為\n",
            "        # [\n",
            "        #  {...}, # 一筆爬蟲結果\n",
            "        #  {...}, ...\n",
            "        # ]\n",
            "        self.runtime_file = open(self.runtime_file_path, 'w+', encoding='utf8')\n",
            "        self.runtime_file.write('[\\n')\n",
            "        self._first_item = True\n",
            "    \n",
            "    def close_spider(self, spider):\n",
            "        self.conn.commit()\n",
            "        self.conn.close()\n",
            "\n",
            "        self.end_crawl_datetime = datetime.now().strftime('%Y%m%dT%H:%M:%S')\n",
            "\n",
            "        # 儲存 JSON 格式\n",
            "        self.runtime_file.write('\\n]')\n",
            "        self.runtime_file.close()\n",
            "        \n",
            "        # 將暫存檔改為以日期為檔名的格式\n",
            "        self.store_file_path = self.dir_path / '{}-{}.json'.format(self.start_crawl_datetime,\n",
            "                                                                   self.end_crawl_datetime)\n",
            "        self.store_file_path = str(self.store_file_path)\n",
            "        os.rename(self.runtime_file_path, self.store_file_path)\n",
            "        spider.log('Save result at {}'.format(self.store_file_path))\n",
            "\n",
            "    \n",
            "    def process_item(self, item, spider):\n",
            "        col = ','.join(item.keys())\n",
            "        placeholders = ','.join(len(item) * '?')\n",
            "        sql = 'insert into inside({}) values({})'\n",
            "        self.cur.execute(sql.format(col, placeholders), tuple(item.values()))\n",
            "        return item\n",
            "\n",
            "\n",
            "\n"
          ],
          "name": "stdout"
        }
      ]
    },
    {
      "cell_type": "code",
      "metadata": {
        "id": "IU_O3r9rjGj4",
        "colab_type": "code",
        "colab": {}
      },
      "source": [
        "!scrapy runspider InsideCrawler.py -s USER_AGENT='Mozilla/5.0' \n"
      ],
      "execution_count": null,
      "outputs": []
    },
    {
      "cell_type": "code",
      "metadata": {
        "id": "LwicPxDRm32i",
        "colab_type": "code",
        "colab": {}
      },
      "source": [
        ""
      ],
      "execution_count": null,
      "outputs": []
    },
    {
      "cell_type": "code",
      "metadata": {
        "id": "cE3XJu1B_vnb",
        "colab_type": "code",
        "colab": {}
      },
      "source": [
        "from scrapy.spiders import CrawlSpider, Rule\n",
        "from scrapy.linkextractors import  LinkExtractor"
      ],
      "execution_count": null,
      "outputs": []
    },
    {
      "cell_type": "code",
      "metadata": {
        "id": "Koxs472jdk5H",
        "colab_type": "code",
        "colab": {}
      },
      "source": [
        "Rule(  )"
      ],
      "execution_count": null,
      "outputs": []
    },
    {
      "cell_type": "code",
      "metadata": {
        "id": "LRjh2-fFYObK",
        "colab_type": "code",
        "colab": {}
      },
      "source": [
        "LinkExtractor(allow=('https://www.inside.com.tw/?page=[1-3]$'), callback=parse_list, follow=True)"
      ],
      "execution_count": null,
      "outputs": []
    }
  ]
}