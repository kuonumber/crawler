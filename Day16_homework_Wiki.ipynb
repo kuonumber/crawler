{
  "nbformat": 4,
  "nbformat_minor": 0,
  "metadata": {
    "colab": {
      "name": "Day16_homework_Wiki.ipynb",
      "provenance": [],
      "authorship_tag": "ABX9TyOjy/4Ms14kycqwImaRBwbt",
      "include_colab_link": true
    },
    "kernelspec": {
      "name": "python3",
      "display_name": "Python 3"
    }
  },
  "cells": [
    {
      "cell_type": "markdown",
      "metadata": {
        "id": "view-in-github",
        "colab_type": "text"
      },
      "source": [
        "<a href=\"https://colab.research.google.com/github/kuonumber/crawler/blob/master/Day16_homework_Wiki.ipynb\" target=\"_parent\"><img src=\"https://colab.research.google.com/assets/colab-badge.svg\" alt=\"Open In Colab\"/></a>"
      ]
    },
    {
      "cell_type": "code",
      "metadata": {
        "id": "wFF7ESCpBm_V",
        "colab_type": "code",
        "colab": {}
      },
      "source": [
        "import requests\n",
        "import re\n",
        "from bs4 import BeautifulSoup"
      ],
      "execution_count": 5,
      "outputs": []
    },
    {
      "cell_type": "code",
      "metadata": {
        "id": "nowf3xnoBuLi",
        "colab_type": "code",
        "colab": {
          "base_uri": "https://localhost:8080/",
          "height": 52
        },
        "outputId": "2918706a-f875-458a-86ae-4f54adc983bc"
      },
      "source": [
        "input_keyword = \"網路爬蟲\"  # 這裡可以自己定義有興趣的關鍵字\n",
        "\n",
        "utf8_url = repr(input_keyword.encode('UTF-8')).upper()  # 編碼成UTF-8並轉成大寫字元\n",
        "utf8_url = utf8_url.replace(\"\\\\X\", \"%\")                 # 用 '%' 取代 '\\X' \n",
        "print(\"%s: %s\" % (input_keyword, utf8_url[2:-1:1]))     # 擷取中間的編碼結果\n",
        "\n",
        "# 組成Wiki關鍵字搜尋的網址格式\n",
        "root_keyword_link = '/wiki/' + utf8_url[2:-1:1]\n",
        "print(root_keyword_link)"
      ],
      "execution_count": 6,
      "outputs": [
        {
          "output_type": "stream",
          "text": [
            "網路爬蟲: %E7%B6%B2%E8%B7%AF%E7%88%AC%E8%9F%B2\n",
            "/wiki/%E7%B6%B2%E8%B7%AF%E7%88%AC%E8%9F%B2\n"
          ],
          "name": "stdout"
        }
      ]
    },
    {
      "cell_type": "code",
      "metadata": {
        "id": "1hMPMN6jB0qr",
        "colab_type": "code",
        "colab": {}
      },
      "source": [
        "headers = {\n",
        "    'authority': 'zh.wikipedia.org',\n",
        "    'method': 'GET',\n",
        "    'path': '/wiki/' + root_keyword_link,\n",
        "    'scheme': 'https',\n",
        "    'accept': 'text/html,application/xhtml+xml,application/xml;q=0.9,image/webp,image/apng,*/*;q=0.8,application/signed-exchange;v=b3',\n",
        "    'accept-encoding': 'gzip, deflate, br',\n",
        "    'accept-language': 'zh-TW,zh;q=0.9,en-US;q=0.8,en;q=0.7,zh-CN;q=0.6',\n",
        "    'cookie': 'GeoIP=TW:TPE:Taipei:25.05:121.53:v4; TBLkisOn=0; mwPhp7Seed=8b8; WMF-Last-Access-Global=04-Jun-2019; WMF-Last-Access=04-Jun-2019',\n",
        "    'dnt': '1',\n",
        "    #'if-modified-since': 'Tue, 04 Jun 2019 12:03:22 GMT',\n",
        "    'referer': 'https://zh.wikipedia.org/wiki/Wikipedia:%E9%A6%96%E9%A1%B5',\n",
        "    'upgrade-insecure-requests': '1',\n",
        "    'user-agent': 'Mozilla/5.0 (Windows NT 10.0; Win64; x64) AppleWebKit/537.36 (KHTML, like Gecko) Chrome/74.0.3729.169 Safari/537.36'\n",
        "}    \n",
        "\n",
        "url = 'https://zh.wikipedia.org' + root_keyword_link  # 組合關鍵字查詢URL\n",
        "resp = requests.get(url, headers=headers)\n",
        "resp.encoding = 'utf-8'\n",
        "\n",
        "html = BeautifulSoup(resp.text, \"lxml\")\n",
        "content = html.find(name='div', attrs={'id':'mw-content-text'}).find_all(name='p')\n",
        "\n",
        "#\n",
        "# 解析回傳資料，並萃取文章內容\n",
        "#\n",
        "for paragraph in content:\n",
        "    print(paragraph.get_text())\n",
        "    with open('./WikiArticle/content.txt', 'a') as w:\n",
        "        w.writelines(paragraph.get_text())"
      ],
      "execution_count": null,
      "outputs": []
    },
    {
      "cell_type": "code",
      "metadata": {
        "id": "-PCDgRJbe_h5",
        "colab_type": "code",
        "colab": {}
      },
      "source": [
        "!cat WikiArticle/content.txt"
      ],
      "execution_count": null,
      "outputs": []
    },
    {
      "cell_type": "code",
      "metadata": {
        "id": "7pzrWrq8fVPR",
        "colab_type": "code",
        "colab": {
          "base_uri": "https://localhost:8080/",
          "height": 247
        },
        "outputId": "39e30425-651d-49e5-f161-92d3568a4943"
      },
      "source": [
        "external_link_dict = dict({})\n",
        "\n",
        "for ext_link in content:\n",
        "    a_tag = ext_link.find_all('a', href=re.compile(\"^(/wiki/)((?!;)\\S)*$\"))\n",
        "    if len(a_tag) > 0:\n",
        "        for link_string in a_tag:\n",
        "            a_link = link_string[\"href\"]       # 外部連結的網址\n",
        "            a_keyword = link_string.get_text()  # 外部連結的中文名稱\n",
        "            print(\"外部連結: [%s] %s\" % (a_keyword, a_link))\n",
        "            external_link_dict[a_keyword] = a_link"
      ],
      "execution_count": 27,
      "outputs": [
        {
          "output_type": "stream",
          "text": [
            "外部連結: [全球資訊網] /wiki/%E4%B8%87%E7%BB%B4%E7%BD%91\n",
            "外部連結: [網路機器人] /wiki/%E7%BD%91%E7%BB%9C%E6%9C%BA%E5%99%A8%E4%BA%BA\n",
            "外部連結: [網路] /wiki/%E7%BD%91%E7%BB%9C%E6%90%9C%E7%B4%A2%E5%BC%95%E6%93%8E\n",
            "外部連結: [搜尋引擎] /wiki/%E6%90%9C%E7%B4%A2%E5%BC%95%E6%93%8E\n",
            "外部連結: [robots.txt] /wiki/Robots.txt\n",
            "外部連結: [網站] /wiki/%E7%BD%91%E7%AB%99\n",
            "外部連結: [超連結] /wiki/%E8%B6%85%E9%80%A3%E7%B5%90\n",
            "外部連結: [HTML] /wiki/HTML\n",
            "外部連結: [資料驅動編程] /wiki/%E6%95%B0%E6%8D%AE%E9%A9%B1%E5%8A%A8%E7%BC%96%E7%A8%8B\n",
            "外部連結: [網頁] /wiki/%E7%B6%B2%E9%A0%81\n",
            "外部連結: [網際網路] /wiki/%E4%BA%92%E8%81%94%E7%BD%91\n",
            "外部連結: [伺服器] /wiki/%E6%9C%8D%E5%8A%A1%E5%99%A8\n",
            "外部連結: [超文字傳輸協定] /wiki/%E8%B6%85%E6%96%87%E6%9C%AC%E5%82%B3%E8%BC%B8%E5%8D%94%E5%AE%9A\n"
          ],
          "name": "stdout"
        }
      ]
    },
    {
      "cell_type": "code",
      "metadata": {
        "id": "SX-qLtXkfr4l",
        "colab_type": "code",
        "colab": {
          "base_uri": "https://localhost:8080/",
          "height": 247
        },
        "outputId": "f568e7ca-632f-4678-e2ea-ff056a35e24e"
      },
      "source": [
        "external_link_dict"
      ],
      "execution_count": 14,
      "outputs": [
        {
          "output_type": "execute_result",
          "data": {
            "text/plain": [
              "{'HTML': '/wiki/HTML',\n",
              " 'robots.txt': '/wiki/Robots.txt',\n",
              " '伺服器': '/wiki/%E6%9C%8D%E5%8A%A1%E5%99%A8',\n",
              " '全球資訊網': '/wiki/%E4%B8%87%E7%BB%B4%E7%BD%91',\n",
              " '搜尋引擎': '/wiki/%E6%90%9C%E7%B4%A2%E5%BC%95%E6%93%8E',\n",
              " '網站': '/wiki/%E7%BD%91%E7%AB%99',\n",
              " '網路': '/wiki/%E7%BD%91%E7%BB%9C%E6%90%9C%E7%B4%A2%E5%BC%95%E6%93%8E',\n",
              " '網路機器人': '/wiki/%E7%BD%91%E7%BB%9C%E6%9C%BA%E5%99%A8%E4%BA%BA',\n",
              " '網際網路': '/wiki/%E4%BA%92%E8%81%94%E7%BD%91',\n",
              " '網頁': '/wiki/%E7%B6%B2%E9%A0%81',\n",
              " '資料驅動編程': '/wiki/%E6%95%B0%E6%8D%AE%E9%A9%B1%E5%8A%A8%E7%BC%96%E7%A8%8B',\n",
              " '超文字傳輸協定': '/wiki/%E8%B6%85%E6%96%87%E6%9C%AC%E5%82%B3%E8%BC%B8%E5%8D%94%E5%AE%9A',\n",
              " '超連結': '/wiki/%E8%B6%85%E9%80%A3%E7%B5%90'}"
            ]
          },
          "metadata": {
            "tags": []
          },
          "execution_count": 14
        }
      ]
    },
    {
      "cell_type": "markdown",
      "metadata": {
        "id": "ilt7XmGsdfY8",
        "colab_type": "text"
      },
      "source": [
        "(1) 爬取當前關鍵字的解釋，並存入檔案(因為文章內容太多會佔滿整個頁面，所以存程檔案，方便後續檢視)  \n",
        "(2) 萃取出當前關鍵字所引用的外部連結，當作新的查詢關鍵字  \n",
        "(3) 把第(2)擷取到的關鍵字當作新的關鍵字，回到第(1)步，爬取新的關鍵字解釋。"
      ]
    },
    {
      "cell_type": "code",
      "metadata": {
        "id": "VYQ5vjfVewkC",
        "colab_type": "code",
        "colab": {}
      },
      "source": [
        "! mkdir WikiArticle"
      ],
      "execution_count": 1,
      "outputs": []
    },
    {
      "cell_type": "code",
      "metadata": {
        "id": "Dq9lWfSaeycg",
        "colab_type": "code",
        "colab": {
          "base_uri": "https://localhost:8080/",
          "height": 34
        },
        "outputId": "8c4d0eb3-383e-4a67-efd6-98f4683f0dc6"
      },
      "source": [
        "! ls"
      ],
      "execution_count": 2,
      "outputs": [
        {
          "output_type": "stream",
          "text": [
            "sample_data  WikiArticle\n"
          ],
          "name": "stdout"
        }
      ]
    },
    {
      "cell_type": "code",
      "metadata": {
        "id": "BiTuZC-XB-jH",
        "colab_type": "code",
        "colab": {}
      },
      "source": [
        "def WikiArticle(key_word_link, key_word, recursive):\n",
        "    \n",
        "    # if (recursive <= max_recursive_depth):\n",
        "    if (recursive <= 2):\n",
        "\n",
        "        print(\"遞迴層[%d] - %s (%s)\" % (recursive, key_word_link, key_word))\n",
        "        \n",
        "        # 模擬封包的標頭\n",
        "        headers = {\n",
        "            'authority': 'zh.wikipedia.org',\n",
        "            'method': 'GET',\n",
        "            'path': '/wiki/' + key_word_link,\n",
        "            'scheme': 'https',\n",
        "            'accept': 'text/html,application/xhtml+xml,application/xml;q=0.9,image/webp,image/apng,*/*;q=0.8,application/signed-exchange;v=b3',\n",
        "            'accept-encoding': 'gzip, deflate, br',\n",
        "            'accept-language': 'zh-TW,zh;q=0.9,en-US;q=0.8,en;q=0.7,zh-CN;q=0.6',\n",
        "            'cookie': 'GeoIP=TW:TPE:Taipei:25.05:121.53:v4; TBLkisOn=0; mwPhp7Seed=8b8; WMF-Last-Access-Global=04-Jun-2019; WMF-Last-Access=04-Jun-2019',\n",
        "            'dnt': '1',\n",
        "            #'if-modified-since': 'Tue, 04 Jun 2019 12:03:22 GMT',\n",
        "            'referer': 'https://zh.wikipedia.org/wiki/Wikipedia:%E9%A6%96%E9%A1%B5',\n",
        "            'upgrade-insecure-requests': '1',\n",
        "            'user-agent': 'Mozilla/5.0 (Windows NT 10.0; Win64; x64) AppleWebKit/537.36 (KHTML, like Gecko) Chrome/74.0.3729.169 Safari/537.36'\n",
        "        }    \n",
        "\n",
        "        url = 'https://zh.wikipedia.org' + key_word_link  # 組合關鍵字查詢URL\n",
        "        resp = requests.get(url, headers=headers)\n",
        "        resp.encoding = 'utf-8'\n",
        "\n",
        "        html = BeautifulSoup(resp.text, \"lxml\")\n",
        "        content = html.find(name='div', attrs={'id':'mw-content-text'}).find_all(name='p')\n",
        "        \n",
        "        #\n",
        "        # Part 1: 請參考範例1，爬取當前關鍵字的文章內容。\n",
        "        #         因為內容太多，我們把它寫入檔案，並以關鍵字作為檔案名稱，以便稍後查閱內容。\n",
        "        #         請先建立一個名為\"WikiArticle\"的資料夾，爬取到的文章內容會放在這個資料夾底下。\n",
        "        #\n",
        "        for paragraph in content:\n",
        "            print(paragraph.get_text())\n",
        "            with open('./WikiArticle/content.txt', 'a') as w:\n",
        "                w.writelines(paragraph.get_text())\n",
        "\n",
        "        \n",
        "        #\n",
        "        # Part 2: 請參考範例2，萃取出本篇文章中所延伸引用的外部連結，並儲存在external_link_dict\n",
        "        #\n",
        "        external_link_dict = dict({})\n",
        "\n",
        "        for ext_link in content:\n",
        "            a_tag = ext_link.find_all('a', href=re.compile(\"^(/wiki/)((?!;)\\S)*$\"))\n",
        "            if len(a_tag) > 0:\n",
        "                for link_string in a_tag:\n",
        "                    a_link = link_string[\"href\"]       # 外部連結的網址\n",
        "                    a_keyword = link_string.get_text()  # 外部連結的中文名稱\n",
        "                    # print(\"外部連結: [%s] %s\" % (a_keyword, a_link))\n",
        "                    external_link_dict[a_keyword] = a_link\n",
        "\n",
        "                    \n",
        "        #\n",
        "        # Part 3: 將Part 2所收集的外部連結，當作新的關鍵字，繼續迭代深入爬蟲\n",
        "        #\n",
        "        if (len(external_link_dict) > 0):\n",
        "            \n",
        "            recursive = recursive + 1  # 遞迴深度加1\n",
        "            \n",
        "            for k, v in external_link_dict.items():\n",
        "                WikiArticle(k, v, recursive)  # 再次呼叫同樣的函數，執行同樣的流程"
      ],
      "execution_count": 24,
      "outputs": []
    },
    {
      "cell_type": "code",
      "metadata": {
        "id": "CABLya7GgJDd",
        "colab_type": "code",
        "colab": {}
      },
      "source": [
        "WikiArticle(key_word=input_keyword, key_word_link=root_keyword_link, recursive=2)"
      ],
      "execution_count": null,
      "outputs": []
    },
    {
      "cell_type": "code",
      "metadata": {
        "id": "4R4rw-JLgYtA",
        "colab_type": "code",
        "colab": {}
      },
      "source": [
        ""
      ],
      "execution_count": null,
      "outputs": []
    }
  ]
}