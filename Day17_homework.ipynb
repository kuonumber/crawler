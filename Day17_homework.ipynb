{
  "nbformat": 4,
  "nbformat_minor": 0,
  "metadata": {
    "colab": {
      "name": "Day17_homework.ipynb",
      "provenance": [],
      "collapsed_sections": [],
      "authorship_tag": "ABX9TyPlRZzVS4eOR49mioIRE0GV",
      "include_colab_link": true
    },
    "kernelspec": {
      "name": "python3",
      "display_name": "Python 3"
    }
  },
  "cells": [
    {
      "cell_type": "markdown",
      "metadata": {
        "id": "view-in-github",
        "colab_type": "text"
      },
      "source": [
        "<a href=\"https://colab.research.google.com/github/kuonumber/crawler/blob/master/Day17_homework.ipynb\" target=\"_parent\"><img src=\"https://colab.research.google.com/assets/colab-badge.svg\" alt=\"Open In Colab\"/></a>"
      ]
    },
    {
      "cell_type": "markdown",
      "metadata": {
        "id": "X0AAQM73Ez-A",
        "colab_type": "text"
      },
      "source": [
        "* 動態網頁跟靜態網頁的差別是什麼？原本靜態網頁的做法會產生什麼問題或是缺點？\n",
        "* 還記得我們在 ETTODAY 靜態爬蟲實作練習中，有請大家完成一個題目「取出今天所有的發文」，但仔細看其實並沒有真的把當天所有的新聞都抓回來， 試著回答看看原因是什麼？及該如何檢查？"
      ]
    },
    {
      "cell_type": "markdown",
      "metadata": {
        "id": "w5hqZz1oFFEv",
        "colab_type": "text"
      },
      "source": [
        "\n",
        "\n",
        "1.  [Static Vs Dynamic Website: Advantages And Disadvantages](https://www.weblinkindia.net/blog/static-vs-dynamic-website-advantages-disadvantages)\n",
        "\n"
      ]
    },
    {
      "cell_type": "markdown",
      "metadata": {
        "id": "NvR-5v9MNO10",
        "colab_type": "text"
      },
      "source": [
        "2.  應該是有程式控制每次頁面顯示新聞數量。打開網頁滾論往下是否有新頁面內容，就可以得知是否為靜態網頁。\n"
      ]
    },
    {
      "cell_type": "code",
      "metadata": {
        "id": "3aidzRZ2KeUs",
        "colab_type": "code",
        "colab": {}
      },
      "source": [
        ""
      ],
      "execution_count": null,
      "outputs": []
    },
    {
      "cell_type": "code",
      "metadata": {
        "id": "rk1eX7AyNNDJ",
        "colab_type": "code",
        "colab": {}
      },
      "source": [
        ""
      ],
      "execution_count": null,
      "outputs": []
    }
  ]
}