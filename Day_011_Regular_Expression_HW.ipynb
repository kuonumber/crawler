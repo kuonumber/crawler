{
  "nbformat": 4,
  "nbformat_minor": 0,
  "metadata": {
    "colab": {
      "name": "Day_011_Regular_Expression_HW.ipynb",
      "provenance": [],
      "authorship_tag": "ABX9TyOzEr6rNfgVWo6mjKiLivux",
      "include_colab_link": true
    },
    "kernelspec": {
      "name": "python3",
      "display_name": "Python 3"
    }
  },
  "cells": [
    {
      "cell_type": "markdown",
      "metadata": {
        "id": "view-in-github",
        "colab_type": "text"
      },
      "source": [
        "<a href=\"https://colab.research.google.com/github/kuonumber/crawler/blob/master/Day_011_Regular_Expression_HW.ipynb\" target=\"_parent\"><img src=\"https://colab.research.google.com/assets/colab-badge.svg\" alt=\"Open In Colab\"/></a>"
      ]
    },
    {
      "cell_type": "code",
      "metadata": {
        "id": "cST6u8YEKLR9",
        "colab_type": "code",
        "colab": {}
      },
      "source": [
        "import re"
      ],
      "execution_count": null,
      "outputs": []
    },
    {
      "cell_type": "code",
      "metadata": {
        "id": "2ovP8D7iKh5i",
        "colab_type": "code",
        "colab": {}
      },
      "source": [
        "# 定義一個函數，用來測試是否能匹配正規表達式\n",
        "def RegexMatchingTest(regex, input_text):\n",
        "    #將正規表達式轉換成pattern\n",
        "    pattern = re.compile(regex)\n",
        "    \n",
        "    # 使轉換後的pattern，來測試是否匹配\n",
        "    result = re.search(pattern, input_text)\n",
        "\n",
        "    if result:\n",
        "        # 匹配完的結果會儲存在group()的屬性中，我們可以把匹配的結果列印出來\n",
        "        print(\"Matched: %s\" % (result.group()))\n",
        "        \n",
        "        if result.lastindex is not None:\n",
        "            # group(0)代表整個字串，group(1)、group(2)...代表分組中，匹配的內容\n",
        "            for i in range(0, result.lastindex+1):\n",
        "                print(\"  group(%d): %s\" % (i, result.group(i)))\n",
        "    else:\n",
        "        print(\"Not matched.\")"
      ],
      "execution_count": null,
      "outputs": []
    },
    {
      "cell_type": "code",
      "metadata": {
        "id": "FwzKX1zHKWgc",
        "colab_type": "code",
        "colab": {
          "base_uri": "https://localhost:8080/",
          "height": 125
        },
        "outputId": "87a04d96-a14e-4b92-f2af-116fce3445d1"
      },
      "source": [
        "test_string = \"Google IP address is 216.58.200.227\"\n",
        "\n",
        "# 過濾IP address的regex pattern\n",
        "regex = '(\\d{1,3}).(\\d{1,3}).(\\d{1,3}).(\\d{1,3})'\n",
        "RegexMatchingTest(regex, test_string)"
      ],
      "execution_count": null,
      "outputs": [
        {
          "output_type": "stream",
          "text": [
            "Matched: 216.58.200.227\n",
            "  group(0): 216.58.200.227\n",
            "  group(1): 216\n",
            "  group(2): 58\n",
            "  group(3): 200\n",
            "  group(4): 227\n"
          ],
          "name": "stdout"
        }
      ]
    },
    {
      "cell_type": "code",
      "metadata": {
        "id": "q28TUtJQKezk",
        "colab_type": "code",
        "colab": {
          "base_uri": "https://localhost:8080/",
          "height": 34
        },
        "outputId": "7f05a81a-2dcf-4f5b-a19e-76ea720067b6"
      },
      "source": [
        "test_string1 = \"Test IP 216.58.200.227\"\n",
        "\n",
        "regex = '(?:1?\\d\\d?|2[0-4]\\d|25[0-5])(?:\\.(?:1?\\d\\d?|2[0-4]\\d|25[0-5])){3}(?=$|[^\\w.])'\n",
        "RegexMatchingTest(regex, test_string)"
      ],
      "execution_count": 6,
      "outputs": [
        {
          "output_type": "stream",
          "text": [
            "Matched: 216.58.200.227\n"
          ],
          "name": "stdout"
        }
      ]
    },
    {
      "cell_type": "code",
      "metadata": {
        "id": "Q83F0_atU_e9",
        "colab_type": "code",
        "colab": {
          "base_uri": "https://localhost:8080/",
          "height": 34
        },
        "outputId": "f7fac969-96db-4a41-9269-37da2b414e51"
      },
      "source": [
        "test_string2 = \"Test IP 999.888.777.666\"\n",
        "regex = '(?:1?\\d\\d?|2[0-4]\\d|25[0-5])(?:\\.(?:1?\\d\\d?|2[0-4]\\d|25[0-5])){3}(?=$|[^\\w.])'\n",
        "RegexMatchingTest(regex, test_string2)  #測試表達式是否會匹配此不合法IP"
      ],
      "execution_count": 7,
      "outputs": [
        {
          "output_type": "stream",
          "text": [
            "Not matched.\n"
          ],
          "name": "stdout"
        }
      ]
    },
    {
      "cell_type": "code",
      "metadata": {
        "id": "1C32HGFuYg-1",
        "colab_type": "code",
        "colab": {
          "base_uri": "https://localhost:8080/",
          "height": 34
        },
        "outputId": "23272015-0060-414f-cd46-78b83432cff4"
      },
      "source": [
        "html_a_tag = \"<a href=https://movies.yahoo.com.tw/movietime_result.html/id=9467> 時刻表 </a>\"\n",
        "\n",
        "regex = 'https://movies.yahoo.com.tw/movietime_result.html/id=\\d*'\n",
        "RegexMatchingTest(regex, html_a_tag)"
      ],
      "execution_count": 8,
      "outputs": [
        {
          "output_type": "stream",
          "text": [
            "Matched: https://movies.yahoo.com.tw/movietime_result.html/id=9467\n"
          ],
          "name": "stdout"
        }
      ]
    },
    {
      "cell_type": "code",
      "metadata": {
        "id": "1-MIrirnaInG",
        "colab_type": "code",
        "colab": {}
      },
      "source": [
        ""
      ],
      "execution_count": null,
      "outputs": []
    }
  ]
}