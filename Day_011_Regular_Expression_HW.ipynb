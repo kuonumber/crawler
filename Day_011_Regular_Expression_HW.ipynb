{
  "nbformat": 4,
  "nbformat_minor": 0,
  "metadata": {
    "colab": {
      "name": "Day_011_Regular_Expression_HW.ipynb",
      "provenance": [],
      "authorship_tag": "ABX9TyOrwB5EgZBGwodAfiaMZ1X+",
      "include_colab_link": true
    },
    "kernelspec": {
      "name": "python3",
      "display_name": "Python 3"
    }
  },
  "cells": [
    {
      "cell_type": "markdown",
      "metadata": {
        "id": "view-in-github",
        "colab_type": "text"
      },
      "source": [
        "<a href=\"https://colab.research.google.com/github/kuonumber/crawler/blob/master/Day_011_Regular_Expression_HW.ipynb\" target=\"_parent\"><img src=\"https://colab.research.google.com/assets/colab-badge.svg\" alt=\"Open In Colab\"/></a>"
      ]
    },
    {
      "cell_type": "code",
      "metadata": {
        "id": "cST6u8YEKLR9",
        "colab_type": "code",
        "colab": {}
      },
      "source": [
        "import re"
      ],
      "execution_count": null,
      "outputs": []
    },
    {
      "cell_type": "code",
      "metadata": {
        "id": "2ovP8D7iKh5i",
        "colab_type": "code",
        "colab": {}
      },
      "source": [
        "# 定義一個函數，用來測試是否能匹配正規表達式\n",
        "def RegexMatchingTest(regex, input_text):\n",
        "    #將正規表達式轉換成pattern\n",
        "    pattern = re.compile(regex)\n",
        "    \n",
        "    # 使轉換後的pattern，來測試是否匹配\n",
        "    result = re.search(pattern, input_text)\n",
        "\n",
        "    if result:\n",
        "        # 匹配完的結果會儲存在group()的屬性中，我們可以把匹配的結果列印出來\n",
        "        print(\"Matched: %s\" % (result.group()))\n",
        "        \n",
        "        if result.lastindex is not None:\n",
        "            # group(0)代表整個字串，group(1)、group(2)...代表分組中，匹配的內容\n",
        "            for i in range(0, result.lastindex+1):\n",
        "                print(\"  group(%d): %s\" % (i, result.group(i)))\n",
        "    else:\n",
        "        print(\"Not matched.\")"
      ],
      "execution_count": null,
      "outputs": []
    },
    {
      "cell_type": "code",
      "metadata": {
        "id": "FwzKX1zHKWgc",
        "colab_type": "code",
        "colab": {
          "base_uri": "https://localhost:8080/",
          "height": 125
        },
        "outputId": "87a04d96-a14e-4b92-f2af-116fce3445d1"
      },
      "source": [
        "test_string = \"Google IP address is 216.58.200.227\"\n",
        "\n",
        "# 過濾IP address的regex pattern\n",
        "regex = '(\\d{1,3}).(\\d{1,3}).(\\d{1,3}).(\\d{1,3})'\n",
        "RegexMatchingTest(regex, test_string)"
      ],
      "execution_count": null,
      "outputs": [
        {
          "output_type": "stream",
          "text": [
            "Matched: 216.58.200.227\n",
            "  group(0): 216.58.200.227\n",
            "  group(1): 216\n",
            "  group(2): 58\n",
            "  group(3): 200\n",
            "  group(4): 227\n"
          ],
          "name": "stdout"
        }
      ]
    },
    {
      "cell_type": "code",
      "metadata": {
        "id": "q28TUtJQKezk",
        "colab_type": "code",
        "colab": {
          "base_uri": "https://localhost:8080/",
          "height": 34
        },
        "outputId": "7f05a81a-2dcf-4f5b-a19e-76ea720067b6"
      },
      "source": [
        "test_string1 = \"Test IP 216.58.200.227\"\n",
        "\n",
        "regex = '(?:1?\\d\\d?|2[0-4]\\d|25[0-5])(?:\\.(?:1?\\d\\d?|2[0-4]\\d|25[0-5])){3}(?=$|[^\\w.])'\n",
        "RegexMatchingTest(regex, test_string)"
      ],
      "execution_count": 6,
      "outputs": [
        {
          "output_type": "stream",
          "text": [
            "Matched: 216.58.200.227\n"
          ],
          "name": "stdout"
        }
      ]
    },
    {
      "cell_type": "code",
      "metadata": {
        "id": "Q83F0_atU_e9",
        "colab_type": "code",
        "colab": {
          "base_uri": "https://localhost:8080/",
          "height": 34
        },
        "outputId": "f7fac969-96db-4a41-9269-37da2b414e51"
      },
      "source": [
        "test_string2 = \"Test IP 999.888.777.666\"\n",
        "regex = '(?:1?\\d\\d?|2[0-4]\\d|25[0-5])(?:\\.(?:1?\\d\\d?|2[0-4]\\d|25[0-5])){3}(?=$|[^\\w.])'\n",
        "RegexMatchingTest(regex, test_string2)  #測試表達式是否會匹配此不合法IP"
      ],
      "execution_count": 7,
      "outputs": [
        {
          "output_type": "stream",
          "text": [
            "Not matched.\n"
          ],
          "name": "stdout"
        }
      ]
    },
    {
      "cell_type": "code",
      "metadata": {
        "id": "1C32HGFuYg-1",
        "colab_type": "code",
        "colab": {
          "base_uri": "https://localhost:8080/",
          "height": 34
        },
        "outputId": "23272015-0060-414f-cd46-78b83432cff4"
      },
      "source": [
        "html_a_tag = \"<a href=https://movies.yahoo.com.tw/movietime_result.html/id=9467> 時刻表 </a>\"\n",
        "\n",
        "regex = 'https://movies.yahoo.com.tw/movietime_result.html/id=\\d*'\n",
        "RegexMatchingTest(regex, html_a_tag)"
      ],
      "execution_count": 8,
      "outputs": [
        {
          "output_type": "stream",
          "text": [
            "Matched: https://movies.yahoo.com.tw/movietime_result.html/id=9467\n"
          ],
          "name": "stdout"
        }
      ]
    },
    {
      "cell_type": "markdown",
      "metadata": {
        "id": "mpJyx5Tjbdef",
        "colab_type": "text"
      },
      "source": [
        "# 參考答案\n"
      ]
    },
    {
      "cell_type": "code",
      "metadata": {
        "id": "1-MIrirnaInG",
        "colab_type": "code",
        "colab": {
          "base_uri": "https://localhost:8080/",
          "height": 123
        },
        "outputId": "758fc1e6-a297-4b41-e50e-9b608fe0aaad"
      },
      "source": [
        "html_a_tag = \"<a href=https://movies.yahoo.com.tw/movietime_result.html/id=9467> 時刻表 </a>\"\n",
        "\n",
        "'''\n",
        "    Your code here.\n",
        "    過濾URL的regex pattern\n",
        "'''\n",
        "regex = '((http|https|ftp):\\/\\/)([a-z0-9]\\.|[a-z0-9][-a-z0-9]*[a-z0-9]\\.)+(tw|cn|com|edu|gov|net|org|biz|info|name)[-a-z0-9_:@&?=+,.!\\/~*\\'%$]*'\n",
        "RegexMatchingTest(regex, html_a_tag)"
      ],
      "execution_count": 10,
      "outputs": [
        {
          "output_type": "stream",
          "text": [
            "Matched: https://movies.yahoo.com.tw/movietime_result.html/id=9467\n",
            "  group(0): https://movies.yahoo.com.tw/movietime_result.html/id=9467\n",
            "  group(1): https://\n",
            "  group(2): https\n",
            "  group(3): com.\n",
            "  group(4): tw\n"
          ],
          "name": "stdout"
        }
      ]
    },
    {
      "cell_type": "code",
      "metadata": {
        "id": "5R3b5_QMbW2N",
        "colab_type": "code",
        "colab": {}
      },
      "source": [
        "'''\n",
        "\n",
        "一個標準的URL形式是：http://hostname/path，我們分4段來解釋匹配URL的regex：\n",
        "\n",
        "1. URL都是以http://、https://、ftp://開頭，因此我們寫成：\n",
        "(http|https|ftp):\\/\\/)  \n",
        "\n",
        "2. hostname的名稱是以句號區隔所組成，每一個部分可以是ASCII字元、數字、連字號，但不能以連字號開始或結束，因此我們寫成：\n",
        "([a-z0-9]\\.|[a-z0-9][-a-z0-9]*[a-z0-9]\\.)+  \n",
        "\n",
        "3. hostname結尾的部分，只有幾種可能性(如果有新的名稱，可以再自己添加)，因此我們寫成：\n",
        "(tw|cn|com|edu|gov|net|org|biz|info|name)\n",
        "\n",
        "4. URL的path部分，可以有除了空白字元、控制字元<>(){}以外的大部分ASCII字元，因此我們寫成：\n",
        "[-a-z0-9_:@&?=+,.!\\/~*\\'%$]*\n",
        "\n",
        "之所以寫得那麼複雜的原因，是希望正規表達式能夠精準匹配我們希望匹配的，而且不要匹配我們不希望匹配的。\n",
        "\n",
        "'''"
      ],
      "execution_count": null,
      "outputs": []
    },
    {
      "cell_type": "code",
      "metadata": {
        "id": "Ck7J1X6IbWzr",
        "colab_type": "code",
        "colab": {}
      },
      "source": [
        ""
      ],
      "execution_count": null,
      "outputs": []
    }
  ]
}