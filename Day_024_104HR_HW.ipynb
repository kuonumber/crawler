{
  "nbformat": 4,
  "nbformat_minor": 0,
  "metadata": {
    "colab": {
      "name": "Day_024_104HR_HW.ipynb",
      "provenance": [],
      "authorship_tag": "ABX9TyPHpPI23o1SwJDjyoWYxRNR",
      "include_colab_link": true
    },
    "kernelspec": {
      "name": "python3",
      "display_name": "Python 3"
    }
  },
  "cells": [
    {
      "cell_type": "markdown",
      "metadata": {
        "id": "view-in-github",
        "colab_type": "text"
      },
      "source": [
        "<a href=\"https://colab.research.google.com/github/kuonumber/crawler/blob/master/Day_024_104HR_HW.ipynb\" target=\"_parent\"><img src=\"https://colab.research.google.com/assets/colab-badge.svg\" alt=\"Open In Colab\"/></a>"
      ]
    },
    {
      "cell_type": "code",
      "metadata": {
        "id": "xJ3wgOC80xj7",
        "colab_type": "code",
        "colab": {
          "base_uri": "https://localhost:8080/",
          "height": 478
        },
        "outputId": "4e9d3a39-5749-474b-d16e-65ceb923034f"
      },
      "source": [
        "!pip install selenium\n",
        "!apt-get update # to update ubuntu to correctly run apt install\n",
        "!apt install chromium-chromedriver\n",
        "!cp /usr/lib/chromium-browser/chromedriver /usr/bin\n",
        "import sys\n",
        "sys.path.insert(0,'/usr/lib/chromium-browser/chromedriver')\n",
        "from selenium import webdriver\n",
        "chrome_options = webdriver.ChromeOptions()\n",
        "chrome_options.add_argument('--headless')\n",
        "chrome_options.add_argument('--no-sandbox')\n",
        "chrome_options.add_argument('--disable-dev-shm-usage')\n",
        "wd = webdriver.Chrome('chromedriver',options=chrome_options)\n"
      ],
      "execution_count": 4,
      "outputs": [
        {
          "output_type": "stream",
          "text": [
            "Requirement already satisfied: selenium in /usr/local/lib/python3.6/dist-packages (3.141.0)\n",
            "Requirement already satisfied: urllib3 in /usr/local/lib/python3.6/dist-packages (from selenium) (1.24.3)\n",
            "Get:1 http://security.ubuntu.com/ubuntu bionic-security InRelease [88.7 kB]\n",
            "Ign:2 https://developer.download.nvidia.com/compute/cuda/repos/ubuntu1804/x86_64  InRelease\n",
            "Get:3 https://cloud.r-project.org/bin/linux/ubuntu bionic-cran35/ InRelease [3,626 B]\n",
            "Ign:4 https://developer.download.nvidia.com/compute/machine-learning/repos/ubuntu1804/x86_64  InRelease\n",
            "Hit:5 http://ppa.launchpad.net/graphics-drivers/ppa/ubuntu bionic InRelease\n",
            "Hit:6 http://archive.ubuntu.com/ubuntu bionic InRelease\n",
            "Hit:7 https://developer.download.nvidia.com/compute/cuda/repos/ubuntu1804/x86_64  Release\n",
            "Hit:8 https://developer.download.nvidia.com/compute/machine-learning/repos/ubuntu1804/x86_64  Release\n",
            "Get:9 http://archive.ubuntu.com/ubuntu bionic-updates InRelease [88.7 kB]\n",
            "Hit:10 http://ppa.launchpad.net/marutter/c2d4u3.5/ubuntu bionic InRelease\n",
            "Get:11 http://archive.ubuntu.com/ubuntu bionic-backports InRelease [74.6 kB]\n",
            "Get:14 http://archive.ubuntu.com/ubuntu bionic-updates/universe amd64 Packages [1,425 kB]\n",
            "Get:15 http://archive.ubuntu.com/ubuntu bionic-updates/main amd64 Packages [1,384 kB]\n",
            "Fetched 3,065 kB in 2s (1,398 kB/s)\n",
            "Reading package lists... Done\n",
            "Reading package lists... Done\n",
            "Building dependency tree       \n",
            "Reading state information... Done\n",
            "chromium-chromedriver is already the newest version (85.0.4183.83-0ubuntu0.18.04.2).\n",
            "The following package was automatically installed and is no longer required:\n",
            "  libnvidia-common-440\n",
            "Use 'apt autoremove' to remove it.\n",
            "0 upgraded, 0 newly installed, 0 to remove and 77 not upgraded.\n",
            "cp: '/usr/lib/chromium-browser/chromedriver' and '/usr/bin/chromedriver' are the same file\n"
          ],
          "name": "stdout"
        }
      ]
    },
    {
      "cell_type": "code",
      "metadata": {
        "id": "2gjb4PK70PYH",
        "colab_type": "code",
        "colab": {}
      },
      "source": [
        "import time\n",
        "from bs4 import BeautifulSoup\n",
        "from selenium import webdriver\n",
        "from selenium.webdriver.common.keys import Keys"
      ],
      "execution_count": 5,
      "outputs": []
    },
    {
      "cell_type": "code",
      "metadata": {
        "id": "FSvSRbVrGlJG",
        "colab_type": "code",
        "colab": {}
      },
      "source": [
        "job_104_url = \"https://www.104.com.tw/cust/list/index/?page=1&order=1&mode=s&jobsource=checkc&area=6001001000&indcat=1001002000\"\n"
      ],
      "execution_count": 8,
      "outputs": []
    },
    {
      "cell_type": "code",
      "metadata": {
        "id": "Fg8Kcu9RMNRs",
        "colab_type": "code",
        "colab": {}
      },
      "source": [
        ""
      ],
      "execution_count": null,
      "outputs": []
    },
    {
      "cell_type": "code",
      "metadata": {
        "id": "qbh5NRE_16XZ",
        "colab_type": "code",
        "colab": {}
      },
      "source": [
        "wd = webdriver.Chrome('chromedriver',options=chrome_options)\n",
        "wd.get(job_104_url)  # 打開瀏覽器並連到網頁\n",
        "time.sleep(2)  # delay一段時間等待網頁更新完成\n",
        "i=0\n",
        "while i<3:\n",
        "    i+=1\n",
        "    time.sleep(3)  # delay一段時間等待網頁更新完成\n",
        "    html = wd.page_source\n",
        "    soup = BeautifulSoup(html, 'lxml')\n",
        "    company_list = soup.find(\"div\", attrs={'id':\"company-result\"}).find_all(\"article\", attrs={'class':\"items\"})\n",
        "    \n",
        "    #\n",
        "    # 擷取公司名稱及簡介內容\n",
        "    #\n",
        "    for company in company_list:\n",
        "        # 因為內容太多，我們把爬取到的結果，寫入\"company_list.txt\"檔案中，稍後再來檢視\n",
        "        # company_name = company.a.string\n",
        "        # f = open(\"company_list.txt\", \"a+\", encoding='utf-8')\n",
        "        # f.write( company_name + \"\\n\" )  # 寫入公司名稱\n",
        "        \n",
        "        # company_desc = company.find(\"p\", attrs={'class':\"desc\"})\n",
        "        # f.write( company_desc.string + \"\\n\" )  # 寫入公司簡介\n",
        "        # f.write( \"--------------------------------------------------------------------------------\" + \"\\n\" )\n",
        "        # f.close()\n",
        "        print(company.a.string, company.find(\"p\", attrs={'class':\"desc\"}))\n",
        "\n",
        "    '''\n",
        "    \n",
        "    接下來請學員練習，定位到「下一頁」按鈕。(可以利用find_element_by_link_text(\"xxx\")的函式)\n",
        "    如果還有下一頁，利用Selenium模擬click「下一頁」按鈕的動作。(定位到物件後，利用其click()屬性)\n",
        "    若沒有下一頁了，離開爬取的流程\n",
        "    \n",
        "    Your code here\n",
        "    \n",
        "    '''\n",
        "    wd.find_element_by_link_text('下一頁').click()\n",
        "    "
      ],
      "execution_count": null,
      "outputs": []
    },
    {
      "cell_type": "code",
      "metadata": {
        "id": "CZrn1iybF6oz",
        "colab_type": "code",
        "colab": {}
      },
      "source": [
        ""
      ],
      "execution_count": null,
      "outputs": []
    }
  ]
}