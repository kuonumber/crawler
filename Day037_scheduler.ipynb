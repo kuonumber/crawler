{
  "nbformat": 4,
  "nbformat_minor": 0,
  "metadata": {
    "colab": {
      "name": "Day037_scheduler.ipynb",
      "provenance": [],
      "collapsed_sections": [],
      "authorship_tag": "ABX9TyPXHrleocI93hi7pPieoyNI",
      "include_colab_link": true
    },
    "kernelspec": {
      "name": "python3",
      "display_name": "Python 3"
    }
  },
  "cells": [
    {
      "cell_type": "markdown",
      "metadata": {
        "id": "view-in-github",
        "colab_type": "text"
      },
      "source": [
        "<a href=\"https://colab.research.google.com/github/kuonumber/crawler/blob/master/Day037_scheduler.ipynb\" target=\"_parent\"><img src=\"https://colab.research.google.com/assets/colab-badge.svg\" alt=\"Open In Colab\"/></a>"
      ]
    },
    {
      "cell_type": "code",
      "metadata": {
        "id": "Y3j83jH0rYZd",
        "colab_type": "code",
        "colab": {
          "base_uri": "https://localhost:8080/",
          "height": 105
        },
        "outputId": "95a8cd83-c9f9-4f8f-8c66-5cc64a86a597"
      },
      "source": [
        "import time\n",
        "\n",
        "def timer(n): \n",
        "    print(time.strftime('%Y-%m-%d %X', time.localtime()))\n",
        "    return\n",
        "\n",
        "count = 0\n",
        "while True:  \n",
        "    print(time.strftime('%Y-%m-%d %X', time.localtime()))  \n",
        "    time.sleep(2)\n",
        "    count += 1\n",
        "    if count >= 5:\n",
        "        break"
      ],
      "execution_count": 1,
      "outputs": [
        {
          "output_type": "stream",
          "text": [
            "2020-09-15 02:54:14\n",
            "2020-09-15 02:54:16\n",
            "2020-09-15 02:54:18\n",
            "2020-09-15 02:54:20\n",
            "2020-09-15 02:54:22\n"
          ],
          "name": "stdout"
        }
      ]
    },
    {
      "cell_type": "code",
      "metadata": {
        "id": "MdPYI3MyrxQz",
        "colab_type": "code",
        "colab": {
          "base_uri": "https://localhost:8080/",
          "height": 34
        },
        "outputId": "30f65c38-6471-45f9-84c1-330a3f04ffd8"
      },
      "source": [
        "import time\n",
        "from threading import Timer\n",
        "\n",
        "def printHello(count):\n",
        "    count += 1\n",
        "    if count >= 5:\n",
        "        return\n",
        "    print(time.strftime('%Y-%m-%d %X', time.localtime()))\n",
        "    t = Timer(2, printHello, (count,)) \n",
        "    t.start() \n",
        "\n",
        "count = 0\n",
        "printHello(count)"
      ],
      "execution_count": 2,
      "outputs": [
        {
          "output_type": "stream",
          "text": [
            "2020-09-15 02:54:39\n"
          ],
          "name": "stdout"
        }
      ]
    },
    {
      "cell_type": "code",
      "metadata": {
        "id": "Nf1oH1QbwCe5",
        "colab_type": "code",
        "colab": {
          "base_uri": "https://localhost:8080/",
          "height": 87
        },
        "outputId": "44fff129-82b9-4ca2-cf0a-aec89b2edc25"
      },
      "source": [
        "!pip install schedule"
      ],
      "execution_count": 4,
      "outputs": [
        {
          "output_type": "stream",
          "text": [
            "Collecting schedule\n",
            "  Downloading https://files.pythonhosted.org/packages/57/22/3a709462eb02412bd1145f6e53604f36bba191e3e4e397bea4a718fec38c/schedule-0.6.0-py2.py3-none-any.whl\n",
            "Installing collected packages: schedule\n",
            "Successfully installed schedule-0.6.0\n"
          ],
          "name": "stdout"
        }
      ]
    },
    {
      "cell_type": "code",
      "metadata": {
        "id": "h4xI5Vaer4kH",
        "colab_type": "code",
        "colab": {}
      },
      "source": [
        "import schedule\n",
        "import time\n",
        "\n",
        "def job():        \n",
        "    print(time.strftime('%Y-%m-%d %X', time.localtime()))\n",
        "\n",
        "schedule.every(2).seconds.do(job)\n",
        "\n",
        "while True:\n",
        "    schedule.run_pending()"
      ],
      "execution_count": null,
      "outputs": []
    },
    {
      "cell_type": "code",
      "metadata": {
        "id": "ix-tf7XzsCyV",
        "colab_type": "code",
        "colab": {}
      },
      "source": [
        ""
      ],
      "execution_count": null,
      "outputs": []
    },
    {
      "cell_type": "markdown",
      "metadata": {
        "id": "pT8GfAS3xsji",
        "colab_type": "text"
      },
      "source": [
        "# 列舉是需要用自動化更新的機制來達成的爬蟲應用。\n",
        "\n"
      ]
    },
    {
      "cell_type": "markdown",
      "metadata": {
        "id": "ablstLa62J3b",
        "colab_type": "text"
      },
      "source": [
        "\n",
        "\n",
        "* 資料需要滾動更新才有價值的應用 如:股票，市場調查\n",
        "* 狀態會隨時更動或消失而備存的應用 如: 空氣汙染，政府開放資料"
      ]
    },
    {
      "cell_type": "code",
      "metadata": {
        "id": "H8R0xHia28Tj",
        "colab_type": "code",
        "colab": {}
      },
      "source": [
        ""
      ],
      "execution_count": null,
      "outputs": []
    }
  ]
}