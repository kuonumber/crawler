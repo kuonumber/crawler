{
  "nbformat": 4,
  "nbformat_minor": 0,
  "metadata": {
    "colab": {
      "name": "Day022_HW.ipynb",
      "provenance": [],
      "authorship_tag": "ABX9TyPXojVpQJ8BE7TBWJnidi0X",
      "include_colab_link": true
    },
    "kernelspec": {
      "name": "python3",
      "display_name": "Python 3"
    }
  },
  "cells": [
    {
      "cell_type": "markdown",
      "metadata": {
        "id": "view-in-github",
        "colab_type": "text"
      },
      "source": [
        "<a href=\"https://colab.research.google.com/github/kuonumber/crawler/blob/master/Day022_HW.ipynb\" target=\"_parent\"><img src=\"https://colab.research.google.com/assets/colab-badge.svg\" alt=\"Open In Colab\"/></a>"
      ]
    },
    {
      "cell_type": "code",
      "metadata": {
        "id": "zTE_kLTW2uEr",
        "colab_type": "code",
        "colab": {
          "base_uri": "https://localhost:8080/",
          "height": 461
        },
        "outputId": "5b232bc1-5463-4dce-ab6f-2057f639b3ff"
      },
      "source": [
        "!pip install selenium\n",
        "!apt-get update # to update ubuntu to correctly run apt install\n",
        "!apt install chromium-chromedriver\n",
        "!cp /usr/lib/chromium-browser/chromedriver /usr/bin\n",
        "import sys\n",
        "sys.path.insert(0,'/usr/lib/chromium-browser/chromedriver')\n",
        "from selenium import webdriver\n",
        "chrome_options = webdriver.ChromeOptions()\n",
        "chrome_options.add_argument('--headless')\n",
        "chrome_options.add_argument('--no-sandbox')\n",
        "chrome_options.add_argument('--disable-dev-shm-usage')\n",
        "wd = webdriver.Chrome('chromedriver',chrome_options=chrome_options)\n"
      ],
      "execution_count": 3,
      "outputs": [
        {
          "output_type": "stream",
          "text": [
            "Requirement already satisfied: selenium in /usr/local/lib/python3.6/dist-packages (3.141.0)\n",
            "Requirement already satisfied: urllib3 in /usr/local/lib/python3.6/dist-packages (from selenium) (1.24.3)\n",
            "Hit:1 http://security.ubuntu.com/ubuntu bionic-security InRelease\n",
            "Hit:2 http://archive.ubuntu.com/ubuntu bionic InRelease\n",
            "Hit:3 http://ppa.launchpad.net/graphics-drivers/ppa/ubuntu bionic InRelease\n",
            "Hit:4 http://archive.ubuntu.com/ubuntu bionic-updates InRelease\n",
            "Hit:5 https://cloud.r-project.org/bin/linux/ubuntu bionic-cran35/ InRelease\n",
            "Hit:6 http://ppa.launchpad.net/marutter/c2d4u3.5/ubuntu bionic InRelease\n",
            "Hit:7 http://archive.ubuntu.com/ubuntu bionic-backports InRelease\n",
            "Ign:8 https://developer.download.nvidia.com/compute/cuda/repos/ubuntu1804/x86_64  InRelease\n",
            "Ign:9 https://developer.download.nvidia.com/compute/machine-learning/repos/ubuntu1804/x86_64  InRelease\n",
            "Hit:10 https://developer.download.nvidia.com/compute/cuda/repos/ubuntu1804/x86_64  Release\n",
            "Hit:11 https://developer.download.nvidia.com/compute/machine-learning/repos/ubuntu1804/x86_64  Release\n",
            "Reading package lists... Done\n",
            "Reading package lists... Done\n",
            "Building dependency tree       \n",
            "Reading state information... Done\n",
            "chromium-chromedriver is already the newest version (85.0.4183.83-0ubuntu0.18.04.2).\n",
            "The following package was automatically installed and is no longer required:\n",
            "  libnvidia-common-440\n",
            "Use 'apt autoremove' to remove it.\n",
            "0 upgraded, 0 newly installed, 0 to remove and 74 not upgraded.\n",
            "cp: '/usr/lib/chromium-browser/chromedriver' and '/usr/bin/chromedriver' are the same file\n"
          ],
          "name": "stdout"
        },
        {
          "output_type": "stream",
          "text": [
            "/usr/local/lib/python3.6/dist-packages/ipykernel_launcher.py:12: DeprecationWarning: use options instead of chrome_options\n",
            "  if sys.path[0] == '':\n"
          ],
          "name": "stderr"
        }
      ]
    },
    {
      "cell_type": "code",
      "metadata": {
        "id": "9loLPiD53oDJ",
        "colab_type": "code",
        "colab": {}
      },
      "source": [
        "import requests\n",
        "from bs4 import BeautifulSoup\n",
        "import pandas as pd\n",
        "import time\n",
        "from datetime import datetime, timedelta\n"
      ],
      "execution_count": 5,
      "outputs": []
    },
    {
      "cell_type": "code",
      "metadata": {
        "id": "f1B4aMwE2uEL",
        "colab_type": "code",
        "colab": {
          "base_uri": "https://localhost:8080/",
          "height": 35
        },
        "outputId": "45c4dbbc-0889-4bf3-ac6d-9dd35597bb17"
      },
      "source": [
        "wd.get(\"https://hahow.in/courses\")\n",
        "html_source = wd.page_source\n",
        "\n",
        "soup = BeautifulSoup(html_source, 'html.parser')\n",
        "soup.find('h4', class_='title').text\n",
        "# 改用 selenium 就可以正常取得"
      ],
      "execution_count": 6,
      "outputs": [
        {
          "output_type": "execute_result",
          "data": {
            "application/vnd.google.colaboratory.intrinsic+json": {
              "type": "string"
            },
            "text/plain": [
              "'Procreate 入門：手繪感時尚配件插畫'"
            ]
          },
          "metadata": {
            "tags": []
          },
          "execution_count": 6
        }
      ]
    },
    {
      "cell_type": "code",
      "metadata": {
        "id": "948fp5Jg26Es",
        "colab_type": "code",
        "colab": {}
      },
      "source": [
        "soup.find(class_='title')"
      ],
      "execution_count": null,
      "outputs": []
    },
    {
      "cell_type": "code",
      "metadata": {
        "id": "niTz5Zaw6BQj",
        "colab_type": "code",
        "colab": {
          "base_uri": "https://localhost:8080/",
          "height": 443
        },
        "outputId": "ae35b50b-c98f-48fb-98d1-a171191d8581"
      },
      "source": [
        "soup.select('div h4')"
      ],
      "execution_count": 12,
      "outputs": [
        {
          "output_type": "execute_result",
          "data": {
            "text/plain": [
              "[<h4 class=\"title marg-t-20 marg-b-10\">Procreate 入門：手繪感時尚配件插畫</h4>,\n",
              " <h4 class=\"title marg-t-20 marg-b-10\">一生必學的圍棋課—入門變達人</h4>,\n",
              " <h4 class=\"title marg-t-20 marg-b-10\">台式冷便當｜不用蒸也能輕鬆帶的便當</h4>,\n",
              " <h4 class=\"title marg-t-20 marg-b-10\">Google Ads零基礎也能輕鬆上手</h4>,\n",
              " <h4 class=\"title marg-t-20 marg-b-10\">跟 YouTuber 莫彩曦學美國道地的說話習慣</h4>,\n",
              " <h4 class=\"title marg-t-20 marg-b-10\">用 Python 理財：打造加密貨幣實戰策略</h4>,\n",
              " <h4 class=\"title marg-t-20 marg-b-10\">【折扣只到 9/30】總經投資必學，看懂美中歐三大央行政策！</h4>,\n",
              " <h4 class=\"title marg-t-20 marg-b-10\">第一堂德語課：開啟德國留學之路</h4>,\n",
              " <h4 class=\"title marg-t-20 marg-b-10\">行銷提案實戰：讓你的想法被一次買單</h4>,\n",
              " <h4 class=\"title marg-t-20 marg-b-10\">寶寶一覺到天亮絕招，翻轉黑眼圈爸媽人生</h4>,\n",
              " <h4 class=\"title marg-t-20 marg-b-10\">每天十分鐘跳出自信與魅力：超好學街舞課！</h4>,\n",
              " <h4 class=\"title marg-t-20 marg-b-10\">Podcast 全攻略：打造你的品牌和影響力</h4>,\n",
              " <h4 class=\"title marg-t-20 marg-b-10\">凱蒂瑜珈：夢幻動作從頭學，開啟練習新里程</h4>,\n",
              " <h4 class=\"title marg-t-20 marg-b-10\">六大實拍範例，商攝打光再精進</h4>,\n",
              " <h4 class=\"title marg-t-20 marg-b-10\">24 單元入門投資科學 一次搞懂投資必備知識</h4>,\n",
              " <h4 class=\"title marg-t-20 marg-b-10\">養個股兒子︱要存就存冷門股</h4>,\n",
              " <h4 class=\"title marg-t-20 marg-b-10\">Unity+Fungus 免程式製作你的文字冒險遊戲</h4>,\n",
              " <h4 class=\"title marg-t-20 marg-b-10\">作品集必備！Mockup 模擬圖合成術</h4>,\n",
              " <h4 class=\"title marg-t-20 marg-b-10\">小錢投資大公司，受用一生美股投資觀念</h4>,\n",
              " <h4 class=\"title marg-t-20 marg-b-10\">冠軍 DJ DinPei－帶你從零開始成為專業 DJ</h4>,\n",
              " <h4 class=\"title marg-t-20 marg-b-10\">女性專屬！筋肉媽媽的高效增肌減脂課</h4>,\n",
              " <h4 class=\"title marg-t-20 marg-b-10\">寫一手西洋書法美字：銅版體習字課</h4>,\n",
              " <h4 class=\"title marg-t-20 marg-b-10\">服飾批貨課：線上批購心法讓你低庫存高利潤</h4>,\n",
              " <h4 class=\"title marg-t-20 marg-b-10\">一變應萬變：RWD 響應式網頁設計</h4>]"
            ]
          },
          "metadata": {
            "tags": []
          },
          "execution_count": 12
        }
      ]
    },
    {
      "cell_type": "code",
      "metadata": {
        "id": "3J6TQo3_6oqH",
        "colab_type": "code",
        "colab": {}
      },
      "source": [
        "list_course=[]\n",
        "for i in range(1,25):\n",
        "    url = 'https://hahow.in/courses?page={}'.format(i)\n",
        "    wd.get(url)\n",
        "    html_source = wd.page_source\n",
        "    soup = BeautifulSoup(html_source, 'html.parser')\n",
        "    list_course.append([s.text for s in soup.select('div h4')])"
      ],
      "execution_count": 15,
      "outputs": []
    },
    {
      "cell_type": "code",
      "metadata": {
        "id": "4eXvKCHo7mWl",
        "colab_type": "code",
        "colab": {}
      },
      "source": [
        "wd = webdriver.Chrome('chromedriver', options=chrome_options)\n",
        "url = 'https://hahow.in/courses?page=3'\n",
        "wd.get(url)\n",
        "html_source = wd.page_source\n",
        "soup = BeautifulSoup(html_source, 'html.parser')\n",
        "list_course.append([s.text for s in soup.select('div h4')])"
      ],
      "execution_count": 19,
      "outputs": []
    },
    {
      "cell_type": "code",
      "metadata": {
        "id": "b9CsNxq37wf6",
        "colab_type": "code",
        "colab": {
          "base_uri": "https://localhost:8080/",
          "height": 1000
        },
        "outputId": "09556d1d-2d30-4224-aa14-d14afd7c7165"
      },
      "source": [
        "soup"
      ],
      "execution_count": 20,
      "outputs": [
        {
          "output_type": "execute_result",
          "data": {
            "text/plain": [
              "<html data-react-helmet=\"lang\" lang=\"zh-TW\"><head><meta content=\"超過百堂有趣的線上課程，讓你輕鬆自學那些學校沒有教的事！\" data-react-helmet=\"true\" name=\"description\"/><meta content=\"1287520191288194\" data-react-helmet=\"true\" property=\"fb:app_id\"/><meta content=\"zh-TW\" data-react-helmet=\"true\" property=\"og:locale\"/><meta content=\"Hahow 提供最多元有趣的線上課程，並透過獨特的課程募資機制，讓熱愛自學與交換技能的你，在家就可以完成高效率的線上學習與成就！\" data-react-helmet=\"true\" property=\"og:description\"/><meta content=\"https://hahow.in/\" data-react-helmet=\"true\" property=\"og:url\"/><meta content=\"https://hahow.in/static/images/og-image.jpg\" data-react-helmet=\"true\" property=\"og:image\"/><meta content=\"article\" data-react-helmet=\"true\" property=\"og:type\"/><meta content=\"Hahow - 好學校\" data-react-helmet=\"true\" property=\"og:site_name\"/><meta content=\"Hahow 好學校 | 最有趣的線上課程平台 | 自學那些學校沒教的事\" data-react-helmet=\"true\" property=\"og:title\"/><meta content=\"dxQXUxo-Ypo_w3JIINgVr9PJItIfniuKoi5FJ4LZFcU\" data-react-helmet=\"true\" name=\"google-site-verification\"/><meta content=\"Hahow\" data-react-helmet=\"true\" name=\"application-name\"/><meta content=\"Hahow - 好學校\" data-react-helmet=\"true\" name=\"author\"/><meta content=\"Hahow,好學校,線上課程,課程募資,網路教學\" data-react-helmet=\"true\" name=\"keywords\"/><link data-react-helmet=\"true\" href=\"https://hahow.in/static/images/apple-touch-icon.png\" rel=\"apple-touch-icon\" sizes=\"180x180\"/><style type=\"text/css\">.styles_overlay__CLSq- {\n",
              "  background: rgba(0, 0, 0, 0.75);\n",
              "  display: flex;\n",
              "  align-items: flex-start;\n",
              "  justify-content: center;\n",
              "  position: fixed;\n",
              "  top: 0;\n",
              "  left: 0;\n",
              "  right: 0;\n",
              "  bottom: 0;\n",
              "  overflow-y: auto;\n",
              "  overflow-x: hidden;\n",
              "  z-index: 1000;\n",
              "  padding: 1.2rem;\n",
              "}\n",
              ".styles_overlayCenter__YHoO7 {\n",
              "  align-items: center;\n",
              "}\n",
              ".styles_modal__gNwvD {\n",
              "  max-width: 800px;\n",
              "  position: relative;\n",
              "  padding: 1.2rem;\n",
              "  background: #ffffff;\n",
              "  background-clip: padding-box;\n",
              "  box-shadow: 0 12px 15px 0 rgba(0, 0, 0, 0.25);\n",
              "  margin: auto;\n",
              "}\n",
              ".styles_closeButton__20ID4 {\n",
              "  position: absolute;\n",
              "  top: 14px;\n",
              "  right: 14px;\n",
              "  border: none;\n",
              "  padding: 0;\n",
              "  background-color: transparent;\n",
              "  display: flex;\n",
              "}\n",
              ".styles_closeIcon__1QwbI {\n",
              "}\n",
              ".styles_transitionEnter__3j_-a {\n",
              "  opacity: 0.01;\n",
              "}\n",
              ".styles_transitionEnterActive___eQs7 {\n",
              "  opacity: 1;\n",
              "  transition: opacity 500ms cubic-bezier(0.23, 1, 0.32, 1);\n",
              "}\n",
              ".styles_transitionExit__1KmEf {\n",
              "  opacity: 1;\n",
              "}\n",
              ".styles_transitionExitActive__1nQXw {\n",
              "  opacity: 0.01;\n",
              "  transition: opacity 500ms cubic-bezier(0.23, 1, 0.32, 1);\n",
              "}\n",
              "</style><div><link href=\"https://hahow.in/static/css/26.b33515c1.chunk.css\" rel=\"stylesheet\"/></div><meta charset=\"utf-8\"/><meta content=\"width=device-width,initial-scale=1\" name=\"viewport\"/><meta content=\"85be3689f02516040edbcaa21c56777c\" name=\"p:domain_verify\"/><meta content=\"1599540855-3f87859\" name=\"hahow-version\"/><title>探索課程 - Hahow 好學校</title><link href=\"https://hahow.in/favicon.ico\" rel=\"shortcut icon\"/><link href=\"https://hahow.in/highres-icon.png\" rel=\"apple-touch-icon\"/><link href=\"https://hahow.in/apple-touch-icon.png\" rel=\"apple-touch-icon\"/><link color=\"#eb5e00\" href=\"https://hahow.in/website_icon.svg\" rel=\"mask-icon\"/><link crossorigin=\"anonymous\" href=\"https://maxcdn.bootstrapcdn.com/bootstrap/3.3.7/css/bootstrap.min.css\" integrity=\"sha384-BVYiiSIFeK1dGmJRAkycuHAHRg32OmUcww7on3RYdg4Va+PmSTsz/K68vbdEjh4u\" rel=\"stylesheet\"/><link href=\"https://cdnjs.cloudflare.com/ajax/libs/font-awesome/4.7.0/css/font-awesome.min.css\" rel=\"stylesheet\"/><script async=\"\" src=\"https://www.googleadservices.com/pagead/conversion_async.js\" type=\"text/javascript\"></script><script async=\"\" src=\"https://www.google-analytics.com/gtm/js?id=GTM-M8VMH5D&amp;cid=2017584871.1599723548\" type=\"text/javascript\"></script><script async=\"\" src=\"https://widget.intercom.io/widget/pd9xhh4p\" type=\"text/javascript\"></script><script async=\"\" src=\"https://www.google-analytics.com/analytics.js\" type=\"text/javascript\"></script><script async=\"\" src=\"https://www.googletagmanager.com/gtm.js?id=GTM-5TJSLH&amp;l=dataLayer\" type=\"text/javascript\"></script><script async=\"\" src=\"https://connect.facebook.net/signals/config/1585046728435312?v=2.9.24&amp;r=stable\"></script><script async=\"\" src=\"https://connect.facebook.net/signals/plugins/identity.js?v=2.9.24\"></script><script async=\"\" src=\"https://connect.facebook.net/en_US/fbevents.js\" type=\"text/javascript\"></script><script async=\"\" src=\"https://bat.bing.com/bat.js\" type=\"text/javascript\"></script><script async=\"\" src=\"https://cdn.segment.com/analytics.js/v1/Ke1w8kRcFE0SqJSzgtD9UGNvLRyfDp96/analytics.min.js\" type=\"text/javascript\"></script><script async=\"\" src=\"https://d.line-scdn.net/n/line_tag/public/release/v1/lt.js\"></script><script async=\"\" src=\"//cdn4.mxpnl.com/libs/mixpanel-2-latest.min.js\" type=\"text/javascript\"></script><script async=\"\" src=\"https://cdn.amplitude.com/libs/amplitude-4.4.0-min.gz.js\" type=\"text/javascript\"></script><script type=\"text/javascript\">!function(){var t=window.analytics=window.analytics||[];if(!t.initialize)if(t.invoked)window.console&&console.error&&console.error(\"Segment snippet included twice.\");else{t.invoked=!0,t.methods=[\"trackSubmit\",\"trackClick\",\"trackLink\",\"trackForm\",\"pageview\",\"identify\",\"reset\",\"group\",\"track\",\"ready\",\"alias\",\"debug\",\"page\",\"once\",\"off\",\"on\"],t.factory=function(e){return function(){var n=Array.prototype.slice.call(arguments);return n.unshift(e),t.push(n),t}};for(var e=0;e<t.methods.length;e++){var n=t.methods[e];t[n]=t.factory(n)}t.load=function(t){var e=document.createElement(\"script\");e.type=\"text/javascript\",e.async=!0,e.src=(\"https:\"===document.location.protocol?\"https://\":\"http://\")+\"cdn.segment.com/analytics.js/v1/\"+t+\"/analytics.min.js\";var n=document.getElementsByTagName(\"script\")[0];n.parentNode.insertBefore(e,n)},t.SNIPPET_VERSION=\"4.0.0\"}}()</script><script type=\"text/javascript\">!function(e,t){var n=e.amplitude||{_q:[],_iq:{}},i=t.createElement(\"script\");i.type=\"text/javascript\",i.async=!0,i.src=\"https://cdn.amplitude.com/libs/amplitude-4.4.0-min.gz.js\",i.onload=function(){e.amplitude.runQueuedFunctions?e.amplitude.runQueuedFunctions():console.log(\"[Amplitude] Error: could not load SDK\")};var r=t.getElementsByTagName(\"script\")[0];function s(e,t){e.prototype[t]=function(){return this._q.push([t].concat(Array.prototype.slice.call(arguments,0))),this}}r.parentNode.insertBefore(i,r);for(var o=function(){return this._q=[],this},a=[\"add\",\"append\",\"clearAll\",\"prepend\",\"set\",\"setOnce\",\"unset\"],u=0;u<a.length;u++)s(o,a[u]);n.Identify=o;for(var c=function(){return this._q=[],this},l=[\"setProductId\",\"setQuantity\",\"setPrice\",\"setRevenueType\",\"setEventProperties\"],p=0;p<l.length;p++)s(c,l[p]);n.Revenue=c;var d=[\"init\",\"logEvent\",\"logRevenue\",\"setUserId\",\"setUserProperties\",\"setOptOut\",\"setVersionName\",\"setDomain\",\"setDeviceId\",\"setGlobalUserProperties\",\"identify\",\"clearUserProperties\",\"setGroup\",\"logRevenueV2\",\"regenerateDeviceId\",\"logEventWithTimestamp\",\"logEventWithGroups\",\"setSessionId\",\"resetSessionId\"];function f(e){function t(t){e[t]=function(){e._q.push([t].concat(Array.prototype.slice.call(arguments,0)))}}for(var n=0;n<d.length;n++)t(d[n])}f(n),n.getInstance=function(e){return e=(e&&0!==e.length?e:\"$default_instance\").toLowerCase(),n._iq.hasOwnProperty(e)||(n._iq[e]={_q:[]},f(n._iq[e])),n._iq[e]},e.amplitude=n}(window,document),amplitude.getInstance().init(\"0d4a119f268ec1efe16f9178c2ea6f02\")</script><script type=\"text/javascript\">!function(e,t){if(!t.__SV){var n,a,r=window;try{var o,i,p,l=r.location,c=l.hash;o=function(e,t){return(i=e.match(RegExp(t+\"=([^&]*)\")))?i[1]:null},c&&o(c,\"state\")&&(\"mpeditor\"===(p=JSON.parse(decodeURIComponent(o(c,\"state\")))).action&&(r.sessionStorage.setItem(\"_mpcehash\",c),history.replaceState(p.desiredHash||\"\",e.title,l.pathname+l.search)))}catch(e){}window.mixpanel=t,t._i=[],t.init=function(e,r,o){function i(e,t){var n=t.split(\".\");2==n.length&&(e=e[n[0]],t=n[1]),e[t]=function(){e.push([t].concat(Array.prototype.slice.call(arguments,0)))}}var p=t;for(void 0!==o?p=t[o]=[]:o=\"mixpanel\",p.people=p.people||[],p.toString=function(e){var t=\"mixpanel\";return\"mixpanel\"!==o&&(t+=\".\"+o),e||(t+=\" (stub)\"),t},p.people.toString=function(){return p.toString(1)+\".people (stub)\"},n=\"disable time_event track track_pageview track_links track_forms track_with_groups add_group set_group remove_group register register_once alias unregister identify name_tag set_config reset opt_in_tracking opt_out_tracking has_opted_in_tracking has_opted_out_tracking clear_opt_in_out_tracking people.set people.set_once people.unset people.increment people.append people.union people.track_charge people.clear_charges people.delete_user people.remove\".split(\" \"),a=0;a<n.length;a++)i(p,n[a]);var l=\"set set_once union unset remove delete\".split(\" \");p.get_group=function(){function e(e){t[e]=function(){call2_args=arguments,call2=[e].concat(Array.prototype.slice.call(call2_args,0)),p.push([n,call2])}}for(var t={},n=[\"get_group\"].concat(Array.prototype.slice.call(arguments,0)),a=0;a<l.length;a++)e(l[a]);return t},t._i.push([e,r,o])},t.__SV=1.2,(r=e.createElement(\"script\")).type=\"text/javascript\",r.async=!0,r.src=\"undefined\"!=typeof MIXPANEL_CUSTOM_LIB_URL?MIXPANEL_CUSTOM_LIB_URL:\"file:\"===e.location.protocol&&\"//cdn4.mxpnl.com/libs/mixpanel-2-latest.min.js\".match(/^\\/\\//)?\"https://cdn4.mxpnl.com/libs/mixpanel-2-latest.min.js\":\"//cdn4.mxpnl.com/libs/mixpanel-2-latest.min.js\",(o=e.getElementsByTagName(\"script\")[0]).parentNode.insertBefore(r,o)}}(document,window.mixpanel||[]),mixpanel.init(\"f8e885a384b011aa8a98e9ab7cd51f07\"),mixpanel.register({\"User Agent\":navigator.userAgent}),/Prerender/i.test(navigator.userAgent)&&mixpanel.register({$ignore:!0})</script><script async=\"true\" src=\"//static.criteo.net/js/ld/ld.js\" type=\"text/javascript\"></script><script>!function(t,e,n){t._ltq=t._ltq||[],t._lt=t._lt||function(){t._ltq.push(arguments)};var l=\"https:\"===location.protocol?\"https://d.line-scdn.net\":\"http://d.line-cdn.net\",c=e.createElement(\"script\");c.async=1,c.src=l+\"/n/line_tag/public/release/v1/lt.js\";var a=e.getElementsByTagName(\"script\")[0];a.parentNode.insertBefore(c,a)}(window,document),_lt(\"init\",{customerType:\"lap\",tagId:\"2617dc27-b394-4da6-b610-eb950296379e\"})</script><link href=\"https://hahow.in/static/css/26.b33515c1.chunk.css\" rel=\"stylesheet\"/><script async=\"\" src=\"https://static.hotjar.com/c/hotjar-301739.js?sv=6\"></script><style data-styled=\"active\" data-styled-version=\"5.1.1\"></style><script charset=\"utf-8\" src=\"https://hahow.in/static/js/0.b7b56e21.chunk.js\"></script><script charset=\"utf-8\" src=\"https://hahow.in/static/js/2.cbbde029.chunk.js\"></script><script charset=\"utf-8\" src=\"https://hahow.in/static/js/3.46bd7fe6.chunk.js\"></script><script charset=\"utf-8\" src=\"https://hahow.in/static/js/5.dc77d8f3.chunk.js\"></script><script charset=\"utf-8\" src=\"https://hahow.in/static/js/33.246c71b5.chunk.js\"></script><script charset=\"utf-8\" src=\"https://hahow.in/static/js/6.feefacee.chunk.js\"></script><link href=\"https://hahow.in/static/css/44.e51e0438.chunk.css\" rel=\"stylesheet\" type=\"text/css\"/><script charset=\"utf-8\" src=\"https://hahow.in/static/js/44.2b1c00d9.chunk.js\"></script><script src=\"https://googleads.g.doubleclick.net/pagead/viewthroughconversion/775545404/?random=1599723548466&amp;cv=9&amp;fst=1599723548466&amp;num=1&amp;bg=ffffff&amp;guid=ON&amp;resp=GooglemKTybQhCsO&amp;u_h=600&amp;u_w=800&amp;u_ah=600&amp;u_aw=800&amp;u_cd=24&amp;u_his=2&amp;u_tz=0&amp;u_java=false&amp;u_nplug=0&amp;u_nmime=0&amp;gtm=2oa920&amp;sendb=1&amp;ig=1&amp;data=event%3Dgtag.config&amp;frm=0&amp;url=https%3A%2F%2Fhahow.in%2Fcourses%3Fpage%3D3&amp;tiba=%E6%8E%A2%E7%B4%A2%E8%AA%B2%E7%A8%8B%20-%20Hahow%20%E5%A5%BD%E5%AD%B8%E6%A0%A1&amp;hn=www.googleadservices.com&amp;async=1&amp;rfmt=3&amp;fmt=4\"></script></head><body><div courselistrandperiod=\"1800\" courselistrandwindow=\"96\" homepagerandperiod=\"1800\" homepagerandwindow=\"32\" id=\"root\" recsectionrandperiod=\"1800\" recsectionrandwindow=\"32\"><div class=\"sc-1333ojd-0 cQquzt\"><header class=\"lecture-editor-no-clickoutside\"><div class=\"ve39ah-0 iuVWON header-top\" id=\"header\"><nav class=\"navbar navbar-inverse\"><div class=\"container\"><div class=\"sc-1cdr6zq-0 fWXjsI header-top\"><div class=\"navbar-header\"><li class=\"logo pseudo-btn navbar-brand active\" role=\"presentation\"><a href=\"/\"><img alt=\"Hahow 好學校\" src=\"https://hahow.in/static/media/logo-black.23fa8b87.svg\"/></a></li><li class=\"joinus pseudo-btn\" role=\"presentation\"><a href=\"/joinus\"><img alt=\"joinusImage\" src=\"/static/images/joinus/2018hiring.svg\"/></a></li><button class=\"navbar-toggle collapsed\" type=\"button\"><span class=\"sr-only\">Toggle navigation</span><span class=\"icon-bar\"></span><span class=\"icon-bar\"></span><span class=\"icon-bar\"></span></button><a class=\"minicart-icon-mobile hidden-md hidden-lg float-right marg-rl-10 marg-tb-10 marg-rl-5-320px\" href=\"/cart\"><span class=\"sc-4t5h1o-0 hwODTs header-icon-with-badge\"><span class=\"icon-wrapper\"><img alt=\"header-icon-with-badge\" class=\"header-icon-with-badge\" src=\"https://hahow.in/static/media/mini-cart.a4fc24b6.svg\"/></span></span></a></div></div><div class=\"sc-11waj93-0 jJKJVO header-top\"><div class=\"navbar-collapse collapse\"><ul class=\"navbar-left nav navbar-nav\"><li class=\"explore-courses\" role=\"presentation\"><a data-multilevel-menu=\"true\" href=\"#\" role=\"button\"><span><i class=\"fa fa-th-large fa-fw\"></i>探索課程</span></a></li><li class=\"\" role=\"presentation\"><a href=\"/courses/create\"><span href=\"#\" role=\"button\"><i class=\"fa fa-pencil fa-fw\"></i>我要開課</span></a></li><li class=\"m2s929-1 ldKFcp\" role=\"presentation\"><a href=\"/bigmac2020\"><div class=\"m2s929-3 jqwAfb\">全站優惠中</div><img alt=\"Hahow 大賣課\" class=\"m2s929-5 hRLuWJ\" src=\"https://hahow.in/static/media/big-mac-login-wa.81894488.png\"/></a></li></ul><ul class=\"navbar-right nav navbar-nav\"><a class=\"m2s929-0 bcIdLs\" href=\"/bigmac2020\"><div class=\"m2s929-2 kEPIna\">優惠中</div><img alt=\"Hahow 大賣課\" class=\"m2s929-4 jgeDeI\" src=\"https://hahow.in/static/media/big-mac-login-wa.81894488.png\"/></a><li class=\"visible-md visible-lg pad-t-10\" role=\"presentation\"><span href=\"#\" role=\"presentation\"><span class=\"lf412c-0 cZmNKk\"><div class=\"dropdown btn-group\"><a aria-expanded=\"false\" aria-haspopup=\"true\" aria-label=\"dropdown-mini-cart\" class=\"qshg8m-0 jFMzNK dropdown-toggle btn btn-default\" id=\"dropdown-mini-cart\" role=\"button\" type=\"button\"><span class=\"sc-4t5h1o-0 hwODTs header-icon-with-badge\"><span class=\"icon-wrapper\"><img alt=\"header-icon-with-badge\" class=\"header-icon-with-badge\" src=\"https://hahow.in/static/media/mini-cart.a4fc24b6.svg\"/></span></span></a><div class=\"hover-trigger-zone\" style=\"cursor: pointer;\"></div><ul aria-labelledby=\"dropdown-mini-cart\" class=\"dropdown-menu dropdown-menu-right\" role=\"menu\"><div class=\"sc-19t7g6n-0 fMTqqX\"><div class=\"empty-cart vertical-horizontal-center\"><div class=\"text-center\"><img alt=\"Empty shopping cart\" class=\"empty-box-img marg-b-10\" src=\"https://hahow.in/static/media/empty-box.016bdb5b.svg\"/><div class=\"marg-b-10\">購物車是空的，來去逛逛？</div><button class=\"sc-1a6j6ze-0 fBQVEd\">探索課程</button></div></div><div class=\"triangle-with-shadow\"></div></div></ul></div></span></span></li><li class=\"\" role=\"presentation\"><span href=\"#\" role=\"button\"><div class=\"rki96l-0 joTbYt diactive\"><span class=\"lf412c-0 cZmNKk\"><div class=\"dropdown btn-group\"><a aria-expanded=\"false\" aria-haspopup=\"true\" aria-label=\"profile-dropdown\" class=\"qshg8m-0 jFMzNK dropdown-toggle btn btn-default\" id=\"profile-dropdown\" role=\"button\" type=\"button\"><span class=\"sc-12b1pia-0 eBba-Dj\"><div class=\"rokpy3-0 gDlYfr profile-image profile-image-xs \" size=\"40\"><div class=\"lazyload-placeholder\" style=\"height: 40px;\"></div></div><div class=\"sc-1pkladk-0 dBRRkX red-dot\"></div></span></a><ul aria-labelledby=\"profile-dropdown\" class=\"dropdown-menu dropdown-menu-right\" role=\"menu\"></ul></div></span></div></span></li><li class=\"login pad-r-60 pad-t-10\" role=\"presentation\"><a href=\"#\" role=\"button\">登入</a></li></ul></div></div></div></nav></div></header><main class=\"content marg-t-50 padding-for-dismissable-fixed-top-message\" id=\"main-screen\" style=\"min-height: calc(100vh - 100px);\"><div class=\"sc-19z8872-0 erAemI\"><div class=\"container\"><div class=\"txm03k-0 jtsDtf search-bar-container\"><div class=\"search-bar\"><span aria-hidden=\"true\" class=\"fa fa-search search-icon\"></span><div class=\"input-wrapper\"><input class=\"search-input \" placeholder=\"搜尋\" type=\"text\" value=\"\"/></div></div><div class=\"selectors-container\"><div class=\"dropdown btn-group\"><button aria-expanded=\"false\" aria-haspopup=\"true\" class=\"dropdown-toggle btn btn-default\" id=\"CourseStatusSelector\" role=\"button\" style=\"min-width: 140px;\" type=\"button\">所有課程 <span class=\"caret\"></span></button><ul aria-labelledby=\"CourseStatusSelector\" class=\"dropdown-menu\" role=\"menu\"><li class=\"\" role=\"presentation\"><a href=\"#\" role=\"menuitem\" tabindex=\"-1\">所有課程</a></li><li class=\"\" role=\"presentation\"><a href=\"#\" role=\"menuitem\" tabindex=\"-1\">募資中課程</a></li><li class=\"\" role=\"presentation\"><a href=\"#\" role=\"menuitem\" tabindex=\"-1\">已開課課程</a></li></ul></div><div class=\"dropdown btn-group\"><button aria-expanded=\"false\" aria-haspopup=\"true\" class=\"dropdown-toggle btn btn-default\" id=\"CourseOrders\" role=\"button\" style=\"min-width: 120px;\" type=\"button\">排序 <span class=\"caret\"></span></button><ul aria-labelledby=\"CourseOrders\" class=\"dropdown-menu\" role=\"menu\"><li class=\"\" role=\"presentation\"><a href=\"#\" role=\"menuitem\" tabindex=\"-1\">最新（預設）</a></li><li class=\"\" role=\"presentation\"><a href=\"#\" role=\"menuitem\" tabindex=\"-1\">最多人數</a></li><li class=\"\" role=\"presentation\"><a href=\"#\" role=\"menuitem\" tabindex=\"-1\">最長課時</a></li><li class=\"\" role=\"presentation\"><a href=\"#\" role=\"menuitem\" tabindex=\"-1\">最高評價</a></li></ul></div></div><div class=\"filters-container\"><a class=\"search-filter\" href=\"/courses?page=1&amp;campaign=HOT\">熱門課程</a><a class=\"search-filter\" href=\"/courses?page=1&amp;campaign=COUNT_DOWN\">募資倒數</a><a class=\"search-filter\" href=\"/courses?page=1&amp;campaign=LATEST_PUBLISHED\">最新開課</a></div></div><div><div class=\"clearfix list-container\"><div class=\"sc-78kx4p-0 lpsZxb\"><div class=\"briefs-container brief-col-lg-4 brief-col-md-3 brief-col-sm-2 brief-col-xs-1\"><div class=\"sc-10r5mg2-0 fVNHJD hh-course-brief relative block placeholder \"><div class=\"cover-wrap relative\"><span class=\"block anchor-placeholder\"><div class=\"cover-image-wrap relative\"></div></span></div><div class=\"rokpy3-0 ckWaKf profile-image profile-image-sm absolute\" size=\"56\"><a class=\"no-pointer\" href=\"/\"><img class=\"cx4oas-0 eafTUo loaded\" src=\"data:image/png;base64,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\" width=\"\"/></a></div><span><div class=\"text pad-rl-15\"><p class=\"title marg-t-20 marg-b-10\"></p></div></span><div class=\"proposal-section relative marg-t-20 \"><p class=\"placeholder-text\"></p><p class=\"placeholder-text\"></p><p class=\"placeholder-text\"></p><div class=\"pad-rl-15\"><div class=\"\"><div class=\"dc56mr-0 pXvSR\" height=\"10\"><div class=\"dc56mr-1 hSylER\"></div></div></div></div><div class=\"text-center pad-b-10\"></div></div></div><div class=\"sc-10r5mg2-0 fVNHJD hh-course-brief relative block placeholder \"><div class=\"cover-wrap relative\"><span class=\"block anchor-placeholder\"><div class=\"cover-image-wrap relative\"></div></span></div><div class=\"rokpy3-0 ckWaKf profile-image profile-image-sm absolute\" size=\"56\"><a class=\"no-pointer\" href=\"/\"><img class=\"cx4oas-0 eafTUo loaded\" src=\"data:image/png;base64,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\" width=\"\"/></a></div><span><div class=\"text pad-rl-15\"><p class=\"title marg-t-20 marg-b-10\"></p></div></span><div class=\"proposal-section relative marg-t-20 \"><p class=\"placeholder-text\"></p><p class=\"placeholder-text\"></p><p class=\"placeholder-text\"></p><div class=\"pad-rl-15\"><div class=\"\"><div class=\"dc56mr-0 pXvSR\" height=\"10\"><div class=\"dc56mr-1 hSylER\"></div></div></div></div><div class=\"text-center pad-b-10\"></div></div></div><div class=\"sc-10r5mg2-0 fVNHJD hh-course-brief relative block placeholder \"><div class=\"cover-wrap relative\"><span class=\"block anchor-placeholder\"><div class=\"cover-image-wrap relative\"></div></span></div><div class=\"rokpy3-0 ckWaKf profile-image profile-image-sm absolute\" size=\"56\"><a class=\"no-pointer\" href=\"/\"><img class=\"cx4oas-0 eafTUo loaded\" src=\"data:image/png;base64,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\" width=\"\"/></a></div><span><div class=\"text pad-rl-15\"><p class=\"title marg-t-20 marg-b-10\"></p></div></span><div class=\"proposal-section relative marg-t-20 \"><p class=\"placeholder-text\"></p><p class=\"placeholder-text\"></p><p class=\"placeholder-text\"></p><div class=\"pad-rl-15\"><div class=\"\"><div class=\"dc56mr-0 pXvSR\" height=\"10\"><div class=\"dc56mr-1 hSylER\"></div></div></div></div><div class=\"text-center pad-b-10\"></div></div></div><div class=\"sc-10r5mg2-0 fVNHJD hh-course-brief relative block placeholder \"><div class=\"cover-wrap relative\"><span class=\"block anchor-placeholder\"><div class=\"cover-image-wrap relative\"></div></span></div><div class=\"rokpy3-0 ckWaKf profile-image profile-image-sm absolute\" size=\"56\"><a class=\"no-pointer\" href=\"/\"><div class=\"lazyload-placeholder\" style=\"height: 56px;\"></div></a></div><span><div class=\"text pad-rl-15\"><p class=\"title marg-t-20 marg-b-10\"></p></div></span><div class=\"proposal-section relative marg-t-20 \"><p class=\"placeholder-text\"></p><p class=\"placeholder-text\"></p><p class=\"placeholder-text\"></p><div class=\"pad-rl-15\"><div class=\"\"><div class=\"dc56mr-0 pXvSR\" height=\"10\"><div class=\"dc56mr-1 hSylER\"></div></div></div></div><div class=\"text-center pad-b-10\"></div></div></div><div class=\"sc-10r5mg2-0 fVNHJD hh-course-brief relative block placeholder \"><div class=\"cover-wrap relative\"><span class=\"block anchor-placeholder\"><div class=\"cover-image-wrap relative\"></div></span></div><div class=\"rokpy3-0 ckWaKf profile-image profile-image-sm absolute\" size=\"56\"><a class=\"no-pointer\" href=\"/\"><div class=\"lazyload-placeholder\" style=\"height: 56px;\"></div></a></div><span><div class=\"text pad-rl-15\"><p class=\"title marg-t-20 marg-b-10\"></p></div></span><div class=\"proposal-section relative marg-t-20 \"><p class=\"placeholder-text\"></p><p class=\"placeholder-text\"></p><p class=\"placeholder-text\"></p><div class=\"pad-rl-15\"><div class=\"\"><div class=\"dc56mr-0 pXvSR\" height=\"10\"><div class=\"dc56mr-1 hSylER\"></div></div></div></div><div class=\"text-center pad-b-10\"></div></div></div><div class=\"sc-10r5mg2-0 fVNHJD hh-course-brief relative block placeholder \"><div class=\"cover-wrap relative\"><span class=\"block anchor-placeholder\"><div class=\"cover-image-wrap relative\"></div></span></div><div class=\"rokpy3-0 ckWaKf profile-image profile-image-sm absolute\" size=\"56\"><a class=\"no-pointer\" href=\"/\"><div class=\"lazyload-placeholder\" style=\"height: 56px;\"></div></a></div><span><div class=\"text pad-rl-15\"><p class=\"title marg-t-20 marg-b-10\"></p></div></span><div class=\"proposal-section relative marg-t-20 \"><p class=\"placeholder-text\"></p><p class=\"placeholder-text\"></p><p class=\"placeholder-text\"></p><div class=\"pad-rl-15\"><div class=\"\"><div class=\"dc56mr-0 pXvSR\" height=\"10\"><div class=\"dc56mr-1 hSylER\"></div></div></div></div><div class=\"text-center pad-b-10\"></div></div></div><div class=\"sc-10r5mg2-0 fVNHJD hh-course-brief relative block placeholder \"><div class=\"cover-wrap relative\"><span class=\"block anchor-placeholder\"><div class=\"cover-image-wrap relative\"></div></span></div><div class=\"rokpy3-0 ckWaKf profile-image profile-image-sm absolute\" size=\"56\"><a class=\"no-pointer\" href=\"/\"><div class=\"lazyload-placeholder\" style=\"height: 56px;\"></div></a></div><span><div class=\"text pad-rl-15\"><p class=\"title marg-t-20 marg-b-10\"></p></div></span><div class=\"proposal-section relative marg-t-20 \"><p class=\"placeholder-text\"></p><p class=\"placeholder-text\"></p><p class=\"placeholder-text\"></p><div class=\"pad-rl-15\"><div class=\"\"><div class=\"dc56mr-0 pXvSR\" height=\"10\"><div class=\"dc56mr-1 hSylER\"></div></div></div></div><div class=\"text-center pad-b-10\"></div></div></div><div class=\"sc-10r5mg2-0 fVNHJD hh-course-brief relative block placeholder \"><div class=\"cover-wrap relative\"><span class=\"block anchor-placeholder\"><div class=\"cover-image-wrap relative\"></div></span></div><div class=\"rokpy3-0 ckWaKf profile-image profile-image-sm absolute\" size=\"56\"><a class=\"no-pointer\" href=\"/\"><div class=\"lazyload-placeholder\" style=\"height: 56px;\"></div></a></div><span><div class=\"text pad-rl-15\"><p class=\"title marg-t-20 marg-b-10\"></p></div></span><div class=\"proposal-section relative marg-t-20 \"><p class=\"placeholder-text\"></p><p class=\"placeholder-text\"></p><p class=\"placeholder-text\"></p><div class=\"pad-rl-15\"><div class=\"\"><div class=\"dc56mr-0 pXvSR\" height=\"10\"><div class=\"dc56mr-1 hSylER\"></div></div></div></div><div class=\"text-center pad-b-10\"></div></div></div></div></div></div></div></div></div></main><footer class=\"sc-1pppfxd-0 VSwFY\"><div class=\"container footer-container\"><div class=\"footer-item\"><h3>關於</h3><ul><li><a href=\"/about/hahow\">關於我們</a></li><li><a href=\"/joinus\">加入 Hahow</a></li><li><a href=\"https://hahow.in/terms\" rel=\"noopener noreferrer\" target=\"_blank\">使用者條款</a></li><li><a href=\"/paying-user-agreement\" rel=\"noopener noreferrer\" target=\"_blank\">服務契約</a></li><li><a href=\"https://hahow.in/privacy\" rel=\"noopener noreferrer\" target=\"_blank\">隱私權政策</a></li><li><a href=\"/release-notes\">功能更新</a></li></ul></div><div class=\"footer-item\"><h3>幫助</h3><ul><li><a href=\"https://business.hahow.in/\" rel=\"noopener noreferrer\" target=\"_blank\">企業學習方案</a></li><li><a href=\"/cooperator\">異業合作洽談</a></li><li><a href=\"https://help.hahow.in/zh-TW/\" rel=\"noopener noreferrer\" target=\"_blank\">常見問題</a></li><li><a href=\"/ideas\">課程許願池</a></li><li><span role=\"button\" tabindex=\"0\"><span>兌換課程</span></span></li><li><a href=\"/gifting\">線上課程禮物卡</a></li><li><a href=\"https://events.hahow.in/learning/pretest-14525?utm_source=hahow-web&amp;utm_medium=footer&amp;utm_campaign=pretest-14525&amp;mts_s=hahow-web&amp;mts_m=footer&amp;mts_c=pretest-14525&amp;mts_t=gad\" rel=\"noopener noreferrer\" target=\"_blank\">填課前問卷拿優惠</a></li></ul></div><div class=\"footer-item\"><h3>追蹤動態</h3><ul><li><a href=\"https://facebook.com/hahow.in\" rel=\"noopener noreferrer\" target=\"_blank\">Facebook</a></li><li><a href=\"https://instagram.com/hahow.in?ref=badge\" rel=\"noopener noreferrer\" target=\"_blank\">Instagram</a></li><li><a href=\"https://go.botbonnie.com/RCHSN\" rel=\"noopener noreferrer\" target=\"_blank\">LINE</a></li><li><a href=\"https://www.youtube.com/channel/UCBOSle0w9kODvOVUCgu2K_A/videos\" rel=\"noopener noreferrer\" target=\"_blank\">YouTube</a></li><li><a href=\"https://blog.hahow.in/\" rel=\"noopener noreferrer\" target=\"_blank\">Blog</a></li></ul></div><div class=\"footer-item copyright-language-country\"><div class=\"language-and-country flex\"><div class=\"flex-child\"><div class=\"sc-1jpg0tr-0 bhBCrg text-left\" height=\"43px\" width=\"100%\"><div class=\"dropdown btn-group\"><button aria-expanded=\"false\" aria-haspopup=\"true\" class=\"dropdown-toggle btn btn-default\" id=\"footer-country-selector\" role=\"button\" type=\"button\"><span>輸入地點</span> <span class=\"caret\"></span></button><ul aria-labelledby=\"footer-country-selector\" class=\"dropdown-menu\" role=\"menu\"><li class=\"active \" role=\"presentation\"><a href=\"#\" role=\"menuitem\" tabindex=\"-1\">輸入地點</a></li><li class=\"dropdown-header\" role=\"heading\">將顯示對應幣別</li><li class=\" \" role=\"presentation\"><a href=\"#\" role=\"menuitem\" tabindex=\"-1\"><span><span>TW 台灣</span>  <span class=\"text-note\">新台幣（TWD）</span></span></a></li><li class=\" \" role=\"presentation\"><a href=\"#\" role=\"menuitem\" tabindex=\"-1\"><span><span>HK 香港</span>  <span class=\"text-note\">港幣（HKD）</span></span></a></li><li class=\" \" role=\"presentation\"><a href=\"#\" role=\"menuitem\" tabindex=\"-1\"><span><span>MY 馬來西亞</span>  <span class=\"text-note\">林吉特（MYR）</span></span></a></li><li class=\" \" role=\"presentation\"><a href=\"#\" role=\"menuitem\" tabindex=\"-1\"><span><span>US 美國</span>  <span class=\"text-note\">美元（USD）</span></span></a></li><li class=\" \" role=\"presentation\"><a href=\"#\" role=\"menuitem\" tabindex=\"-1\"><span><span>JP 日本</span>  <span class=\"text-note\">日圓（JPY）</span></span></a></li><li class=\" \" role=\"presentation\"><a href=\"#\" role=\"menuitem\" tabindex=\"-1\"><span><span>CN 中國</span>  <span class=\"text-note\">人民幣（CNY）</span></span></a></li><li class=\" \" role=\"presentation\"><a href=\"#\" role=\"menuitem\" tabindex=\"-1\"><span><span>MO 澳門</span>  <span class=\"text-note\">澳門幣（MOP）</span></span></a></li><li class=\" \" role=\"presentation\"><a href=\"#\" role=\"menuitem\" tabindex=\"-1\"><span><span>SG 新加坡</span>  <span class=\"text-note\">新幣（SGD）</span></span></a></li><li class=\" \" role=\"presentation\"><a href=\"#\" role=\"menuitem\" tabindex=\"-1\"><span><span>AU 澳洲</span>  <span class=\"text-note\">澳幣（AUD）</span></span></a></li><li class=\" \" role=\"presentation\"><a href=\"#\" role=\"menuitem\" tabindex=\"-1\"><span><span>CA 加拿大</span>  <span class=\"text-note\">加幣（CAD）</span></span></a></li></ul></div></div></div><div class=\"flex-child\"><div class=\"sc-1jpg0tr-0 bQszCO\" height=\"43px\" width=\"100%\"><div class=\"dropdown btn-group\"><button aria-expanded=\"false\" aria-haspopup=\"true\" class=\"dropdown-toggle btn btn-default\" id=\"footer-language-selector\" role=\"button\" type=\"button\"><span>繁體中文</span> <span class=\"caret\"></span></button><ul aria-labelledby=\"footer-language-selector\" class=\"dropdown-menu\" role=\"menu\"><li class=\"active \" role=\"presentation\"><a href=\"#\" role=\"menuitem\" tabindex=\"-1\">繁體中文</a></li><li class=\" \" role=\"presentation\"><a href=\"#\" role=\"menuitem\" tabindex=\"-1\">简体中文</a></li></ul></div></div></div></div><span class=\"pad-t-10 pad-b-20\">Hahow 好學校 © All Rights Reserved.</span></div></div></footer></div><a class=\"sc-10o1hi9-0 jhuWBg\" href=\"/bigmac2020\"><img class=\"sc-10o1hi9-1 iQVUhx\" src=\"https://hahow.in/static/media/floating-banner.5b6a1066.png\"/><span aria-hidden=\"true\" class=\"fa fa-times-circle sc-10o1hi9-2 ezZCiG\"></span></a></div><script defer=\"defer\" src=\"//fast.wistia.com/assets/external/E-v1.js\"></script><script>[Element.prototype,Document.prototype,DocumentFragment.prototype].forEach((function(e){e.hasOwnProperty(\"prepend\")||Object.defineProperty(e,\"prepend\",{configurable:!0,enumerable:!0,writable:!0,value:function(){var e=Array.prototype.slice.call(arguments),t=document.createDocumentFragment();e.forEach((function(e){var n=e instanceof Node;t.appendChild(n?e:document.createTextNode(String(e)))})),this.insertBefore(t,this.firstChild)}})}));var loadDeferredStyles=function(){var e=document.getElementById(\"deferred-styles\"),t=document.createElement(\"div\");t.innerHTML=e.textContent,document.head.prepend(t),e.parentElement.removeChild(e)},raf=window.requestAnimationFrame||window.mozRequestAnimationFrame||window.webkitRequestAnimationFrame||window.msRequestAnimationFrame;raf?raf((function(){window.setTimeout(loadDeferredStyles,0)})):window.addEventListener(\"load\",loadDeferredStyles)</script><script>!function(t,h,e,j,s,n){t.hj=t.hj||function(){(t.hj.q=t.hj.q||[]).push(arguments)},t._hjSettings={hjid:301739,hjsv:6},s=h.getElementsByTagName(\"head\")[0],(n=h.createElement(\"script\")).async=1,n.src=\"https://static.hotjar.com/c/hotjar-\"+t._hjSettings.hjid+\".js?sv=\"+t._hjSettings.hjsv,s.appendChild(n)}(window,document)</script><script>!function(e){function c(c){for(var d,t,n=c[0],o=c[1],b=c[2],u=0,l=[];u<n.length;u++)t=n[u],Object.prototype.hasOwnProperty.call(a,t)&&a[t]&&l.push(a[t][0]),a[t]=0;for(d in o)Object.prototype.hasOwnProperty.call(o,d)&&(e[d]=o[d]);for(i&&i(c);l.length;)l.shift()();return r.push.apply(r,b||[]),f()}function f(){for(var e,c=0;c<r.length;c++){for(var f=r[c],d=!0,t=1;t<f.length;t++){var o=f[t];0!==a[o]&&(d=!1)}d&&(r.splice(c--,1),e=n(n.s=f[0]))}return e}var d={},t={25:0},a={25:0},r=[];function n(c){if(d[c])return d[c].exports;var f=d[c]={i:c,l:!1,exports:{}};return e[c].call(f.exports,f,f.exports,n),f.l=!0,f.exports}n.e=function(e){var c=[];t[e]?c.push(t[e]):0!==t[e]&&{8:1,10:1,13:1,27:1,28:1,29:1,30:1,34:1,44:1,72:1,77:1,118:1}[e]&&c.push(t[e]=new Promise((function(c,f){for(var d=\"static/css/\"+({}[e]||e)+\".\"+{0:\"31d6cfe0\",1:\"31d6cfe0\",2:\"31d6cfe0\",3:\"31d6cfe0\",4:\"31d6cfe0\",5:\"31d6cfe0\",6:\"31d6cfe0\",7:\"31d6cfe0\",8:\"9a3297fd\",9:\"31d6cfe0\",10:\"e51e0438\",11:\"31d6cfe0\",12:\"31d6cfe0\",13:\"965ebd84\",14:\"31d6cfe0\",15:\"31d6cfe0\",16:\"31d6cfe0\",17:\"31d6cfe0\",18:\"31d6cfe0\",19:\"31d6cfe0\",20:\"31d6cfe0\",21:\"31d6cfe0\",22:\"31d6cfe0\",23:\"31d6cfe0\",27:\"9a3297fd\",28:\"9a3297fd\",29:\"9a3297fd\",30:\"e51e0438\",31:\"31d6cfe0\",32:\"31d6cfe0\",33:\"31d6cfe0\",34:\"80d83de4\",35:\"31d6cfe0\",36:\"31d6cfe0\",37:\"31d6cfe0\",38:\"31d6cfe0\",39:\"31d6cfe0\",40:\"31d6cfe0\",41:\"31d6cfe0\",42:\"31d6cfe0\",43:\"31d6cfe0\",44:\"e51e0438\",45:\"31d6cfe0\",46:\"31d6cfe0\",47:\"31d6cfe0\",48:\"31d6cfe0\",49:\"31d6cfe0\",50:\"31d6cfe0\",51:\"31d6cfe0\",52:\"31d6cfe0\",53:\"31d6cfe0\",54:\"31d6cfe0\",55:\"31d6cfe0\",56:\"31d6cfe0\",57:\"31d6cfe0\",58:\"31d6cfe0\",59:\"31d6cfe0\",60:\"31d6cfe0\",61:\"31d6cfe0\",62:\"31d6cfe0\",63:\"31d6cfe0\",64:\"31d6cfe0\",65:\"31d6cfe0\",66:\"31d6cfe0\",67:\"31d6cfe0\",68:\"31d6cfe0\",69:\"31d6cfe0\",70:\"31d6cfe0\",71:\"31d6cfe0\",72:\"50173619\",73:\"31d6cfe0\",74:\"31d6cfe0\",75:\"31d6cfe0\",76:\"31d6cfe0\",77:\"2109d50a\",78:\"31d6cfe0\",79:\"31d6cfe0\",80:\"31d6cfe0\",81:\"31d6cfe0\",82:\"31d6cfe0\",83:\"31d6cfe0\",84:\"31d6cfe0\",85:\"31d6cfe0\",86:\"31d6cfe0\",87:\"31d6cfe0\",88:\"31d6cfe0\",89:\"31d6cfe0\",90:\"31d6cfe0\",91:\"31d6cfe0\",92:\"31d6cfe0\",93:\"31d6cfe0\",94:\"31d6cfe0\",95:\"31d6cfe0\",96:\"31d6cfe0\",97:\"31d6cfe0\",98:\"31d6cfe0\",99:\"31d6cfe0\",100:\"31d6cfe0\",101:\"31d6cfe0\",102:\"31d6cfe0\",103:\"31d6cfe0\",104:\"31d6cfe0\",105:\"31d6cfe0\",106:\"31d6cfe0\",107:\"31d6cfe0\",108:\"31d6cfe0\",109:\"31d6cfe0\",110:\"31d6cfe0\",111:\"31d6cfe0\",112:\"31d6cfe0\",113:\"31d6cfe0\",114:\"31d6cfe0\",115:\"31d6cfe0\",116:\"31d6cfe0\",117:\"31d6cfe0\",118:\"842aa3fc\",119:\"31d6cfe0\",120:\"31d6cfe0\",121:\"31d6cfe0\",122:\"31d6cfe0\",123:\"31d6cfe0\",124:\"31d6cfe0\",125:\"31d6cfe0\",126:\"31d6cfe0\",127:\"31d6cfe0\",128:\"31d6cfe0\",129:\"31d6cfe0\",130:\"31d6cfe0\",131:\"31d6cfe0\",132:\"31d6cfe0\",133:\"31d6cfe0\",134:\"31d6cfe0\",135:\"31d6cfe0\",136:\"31d6cfe0\",137:\"31d6cfe0\",138:\"31d6cfe0\",139:\"31d6cfe0\",140:\"31d6cfe0\",141:\"31d6cfe0\",142:\"31d6cfe0\",143:\"31d6cfe0\",144:\"31d6cfe0\",145:\"31d6cfe0\",146:\"31d6cfe0\",147:\"31d6cfe0\",148:\"31d6cfe0\",149:\"31d6cfe0\",150:\"31d6cfe0\",151:\"31d6cfe0\"}[e]+\".chunk.css\",a=n.p+d,r=document.getElementsByTagName(\"link\"),o=0;o<r.length;o++){var b=(i=r[o]).getAttribute(\"data-href\")||i.getAttribute(\"href\");if(\"stylesheet\"===i.rel&&(b===d||b===a))return c()}var u=document.getElementsByTagName(\"style\");for(o=0;o<u.length;o++){var i;if((b=(i=u[o]).getAttribute(\"data-href\"))===d||b===a)return c()}var l=document.createElement(\"link\");l.rel=\"stylesheet\",l.type=\"text/css\",l.onload=c,l.onerror=function(c){var d=c&&c.target&&c.target.src||a,r=new Error(\"Loading CSS chunk \"+e+\" failed.\\n(\"+d+\")\");r.code=\"CSS_CHUNK_LOAD_FAILED\",r.request=d,delete t[e],l.parentNode.removeChild(l),f(r)},l.href=a,document.getElementsByTagName(\"head\")[0].appendChild(l)})).then((function(){t[e]=0})));var f=a[e];if(0!==f)if(f)c.push(f[2]);else{var d=new Promise((function(c,d){f=a[e]=[c,d]}));c.push(f[2]=d);var r,o=document.createElement(\"script\");o.charset=\"utf-8\",o.timeout=120,n.nc&&o.setAttribute(\"nonce\",n.nc),o.src=function(e){return n.p+\"static/js/\"+({}[e]||e)+\".\"+{0:\"b7b56e21\",1:\"00ac3704\",2:\"cbbde029\",3:\"46bd7fe6\",4:\"493c80f1\",5:\"dc77d8f3\",6:\"feefacee\",7:\"29e61681\",8:\"13ed5cf2\",9:\"fa3c4724\",10:\"96f99ebb\",11:\"db942401\",12:\"3ae94fb0\",13:\"55206318\",14:\"16d1ea2b\",15:\"06d27fe5\",16:\"10516a39\",17:\"dd2a3b64\",18:\"4b7fefee\",19:\"57eae3a4\",20:\"4ac6c254\",21:\"ad492bd1\",22:\"4e8c8421\",23:\"411e7675\",27:\"82c665cd\",28:\"afc1c4a4\",29:\"4fd22cb4\",30:\"4121251f\",31:\"9c8a9791\",32:\"bbf4b280\",33:\"246c71b5\",34:\"0e36855e\",35:\"c1fb525d\",36:\"76bcd8b8\",37:\"7fb58fc5\",38:\"b6742d5c\",39:\"2ee2ea92\",40:\"011632fb\",41:\"886f4097\",42:\"076c87e3\",43:\"3a16dd46\",44:\"2b1c00d9\",45:\"0cd19b41\",46:\"c5629323\",47:\"54f59450\",48:\"5f9b738c\",49:\"22aeeffd\",50:\"e52b14ff\",51:\"2353f9f0\",52:\"55f71e20\",53:\"c6c5e7fb\",54:\"7625568b\",55:\"32ad9a3a\",56:\"6559d339\",57:\"6ce3c314\",58:\"f0a8519e\",59:\"9033b720\",60:\"6181abf3\",61:\"be938a24\",62:\"0958a799\",63:\"1fb7e07f\",64:\"36c56593\",65:\"0d3eda7d\",66:\"2f001aa2\",67:\"e4e7de7e\",68:\"0260ee9e\",69:\"418c1b5f\",70:\"5e35bbe7\",71:\"f090800d\",72:\"b62d6e8b\",73:\"13f995e9\",74:\"3981a119\",75:\"5e6fcb8a\",76:\"c0b5e821\",77:\"0caca682\",78:\"ca0c133b\",79:\"4c2bc1ee\",80:\"ff8681ff\",81:\"4c069733\",82:\"11f77c41\",83:\"d3d03da6\",84:\"09de8fd3\",85:\"c2e5a6f7\",86:\"3604ec11\",87:\"ed45579c\",88:\"e9502a90\",89:\"f9e5cfcb\",90:\"f75ae387\",91:\"59d76635\",92:\"be79ae61\",93:\"8063ec50\",94:\"2bd736b5\",95:\"4f93433d\",96:\"c70d31e1\",97:\"caaefb7e\",98:\"d0ca21b8\",99:\"b723efc4\",100:\"1b003c10\",101:\"b4efc6c4\",102:\"b9f5a29f\",103:\"b29eb9e4\",104:\"0f4286f8\",105:\"820ff9b2\",106:\"24f5ba32\",107:\"ed2e6f99\",108:\"21fa489c\",109:\"b4d48031\",110:\"cfcf5616\",111:\"98be2c26\",112:\"6d1ce392\",113:\"97315ab3\",114:\"81b1abfb\",115:\"25b5971c\",116:\"01dbfd79\",117:\"6d68b67f\",118:\"50106c85\",119:\"7b3c7892\",120:\"90619004\",121:\"8b9a5c43\",122:\"2494b21f\",123:\"b6725f76\",124:\"3e9a3420\",125:\"d8667c43\",126:\"918ed5b5\",127:\"7bb1a72f\",128:\"3c282101\",129:\"3d592395\",130:\"cfbda772\",131:\"79652f7f\",132:\"a5bc04a5\",133:\"e5c17c22\",134:\"24851228\",135:\"0099dfcc\",136:\"766a293a\",137:\"09d51511\",138:\"d645c9b2\",139:\"eede8b97\",140:\"5cac2ea8\",141:\"fdb55b9d\",142:\"a265350f\",143:\"bf508c1c\",144:\"ec2edc5b\",145:\"ab948f20\",146:\"d6eb1421\",147:\"25efb5a3\",148:\"946559f0\",149:\"3754e719\",150:\"dddc50cf\",151:\"5ba8b780\"}[e]+\".chunk.js\"}(e);var b=new Error;r=function(c){o.onerror=o.onload=null,clearTimeout(u);var f=a[e];if(0!==f){if(f){var d=c&&(\"load\"===c.type?\"missing\":c.type),t=c&&c.target&&c.target.src;b.message=\"Loading chunk \"+e+\" failed.\\n(\"+d+\": \"+t+\")\",b.name=\"ChunkLoadError\",b.type=d,b.request=t,f[1](b)}a[e]=void 0}};var u=setTimeout((function(){r({type:\"timeout\",target:o})}),12e4);o.onerror=o.onload=r,document.head.appendChild(o)}return Promise.all(c)},n.m=e,n.c=d,n.d=function(e,c,f){n.o(e,c)||Object.defineProperty(e,c,{enumerable:!0,get:f})},n.r=function(e){\"undefined\"!=typeof Symbol&&Symbol.toStringTag&&Object.defineProperty(e,Symbol.toStringTag,{value:\"Module\"}),Object.defineProperty(e,\"__esModule\",{value:!0})},n.t=function(e,c){if(1&c&&(e=n(e)),8&c)return e;if(4&c&&\"object\"==typeof e&&e&&e.__esModule)return e;var f=Object.create(null);if(n.r(f),Object.defineProperty(f,\"default\",{enumerable:!0,value:e}),2&c&&\"string\"!=typeof e)for(var d in e)n.d(f,d,function(c){return e[c]}.bind(null,d));return f},n.n=function(e){var c=e&&e.__esModule?function(){return e.default}:function(){return e};return n.d(c,\"a\",c),c},n.o=function(e,c){return Object.prototype.hasOwnProperty.call(e,c)},n.p=\"https://hahow.in/\",n.oe=function(e){throw console.error(e),e};var o=this[\"webpackJsonphh-frontend-react\"]=this[\"webpackJsonphh-frontend-react\"]||[],b=o.push.bind(o);o.push=c,o=o.slice();for(var u=0;u<o.length;u++)c(o[u]);var i=b;f()}([])</script><script src=\"https://hahow.in/static/js/26.e76aa880.chunk.js\"></script><script src=\"https://hahow.in/static/js/main.6fd0c0f5.chunk.js\"></script><style class=\"wistia_injected_style\" id=\"wistia_18_style\" type=\"text/css\">\n",
              "@font-face {\n",
              "font-family: 'WistiaPlayerOverpassNumbers';\n",
              "src: url(data:application/x-font-ttf;charset=utf-8;base64,AAEAAAARAQAABAAQRFNJRwAAAAEAAA7oAAAACEdQT1Ow+b/jAAAONAAAAKhHU1VCAAEAAAAADtwAAAAKT1MvMl1sVb8AAAe0AAAAYGNtYXAApwIpAAAIFAAAALJjdnQgAAAAAAAAClQAAAAEZnBnbUM+8IgAAAjIAAABCWdhc3AAGgAjAAAOJAAAABBnbHlmWNZE7QAAARwAAAXMaGVhZIS0XikAAAckAAAANmhoZWEF5gGwAAAHkAAAACRobXR4GNICwAAAB1wAAAA0bG9jYQi0CoYAAAcIAAAAHG1heHAAGQBKAAAG6AAAACBuYW1lGpIbcAAAClgAAAOPcG9zdAAPAKQAAA3oAAAAPHByZXBoUamTAAAJ1AAAAH8ACgBd/wYBmgLuAAMADwAVABkAIwApADUAOQA9AEgAAAUhESEHFTMVIxUzNSM1MzUHFTM1IzUHIzUzBxUzFSMVMzUzNQcVIxUzNQcVMzUzFSM1IxUzNQcVMzUHIzUzBxUzBxUzNSM3MzUBmv7DAT3yQUKmQkKmpkIiISFCQkJkQiGFpmQiIWQhpqamIWRkhUZGpmZGIPoD6EMhJSEhJSGBaCJGRiRhISUhRiE8QiJkejgXL1Bxca1xcVAvZyEvISEvIQAAAAIARv/0AiYCyAAVACUAAAQ3Njc2NTQmJyYjIgcGBwYVFBYXFjMmJyY1NDc2MzIXFhUUBwYjAY87MRgTGRo/flo7LxkTGRs9f1wqIR8pX1oqIR4pXgw9M1tJVkOAMnU9MV1IV0Z/MXQ/X0qCeUxmX0uBfEplAAAAAAEAKAAAAOUCvAAIAAATIwYGIxUzETPlLRBHOXdGArwwJyj9wwAAAAABAEcAAAISAsgAJAAAJSE2Nz4CNzY2NzY1NCYjIgcGBxc2MzIWFRQHBgcHBgYHBhUhAhL+fwszEjIhCDBDG0J0Z1c+OhE+HX9HUTMjUhMrOhhEActDPTARJRYFHjAcRFRbaisoQRxxSzs8NSM2DR0uHFJzAAEAMv/0AggCyAA0AAAENjc2NjU0Jic2NjU0JicmJiMiBwYHFzY3NjMyFhcWFRQGIyMVMzIWFRQHBiMiJicHFhcWMwFJViIiJT83Ki8fHBxMKlM7MRpBFR8rPBkvEidLPyUvS1EwLEg+TxpBGzM6YAwfGxxLK0RiFhdSMCdDGBcaLiZAGS4aJBEQIjk6RUBMQkIlIjxCG0spMAAAAAIAHgAAAiICvAAKAA0AACUzNSMRIwEVIRUzAxEjAbhqair+kAFURkb5vTwBw/4mJb0CQ/62AAAAAQBG//QCLgK8AC0AADYWFxYzMjY3NjY1NCYnJiYjIgYHNyE1IQMXNjc2MzIXFhYVFAYHBgYjIicmJwdTLh1ETjpfIyAiIx8fUy4tVCAoASz+nDk7FykzN0QuFBccGBlEJkIuKiQpPB8MHSkjIVUtMVMfHSEeHfQ//pUSGxIWMRc+IiE+GBgbFxUkMwACADz/9AIEAsgAIQA2AAAENjc2NjU0JicmJiMiBgc2Njc2Njc1BgYHBgYVFBYXFhYzEhcWFRQGBwYjIiYnJiY1NDY3NjYzAVFSHx8jIBwdTCo2UxoIMiUlWzFKhDExNh4dHlc4RS0rFxUsSCE7FRYZGBUVOyMMJB8gVTAnTh4fJCEfLFkoKDsPNxJaPz+RSjpjIyYpAYAtLUgiOhUuGBYVOyEjPBYVGAABACgAAAHLArwADAAANjc2NzUhFSEGBwYHM+ooN4L+XQFTdzMrAkamjsSWLjyXqIq3AAAAAwBG//QCEALIACMALwBCAAAABgcGBhUUFhcGBwYVFBYXFjMyNjc2NjU0Jic2NjU0JicmJiMCJjU0NjMyFhUUBiMCJyY1NDY3NjYzMhcWFhUUBwYjAQJJGxoeMCw1JCMiH0JiMFUfHyJEOS4vHhobSSk5RUc3N0dFOUQrLRYVFToiRC4UFi0rRALIHRkZQiQuThQTNTRCLE0cPCAcHE0sQmcVE04vJEIZGR3+0D8zOkVFOjM//pspK0gfOBYWGC4WOB9IKykAAAACADz/9AIEAsgAIAA0AAASBgcGBhUUFhcWFjMyNjcGBgcGBgcVNjY3NjY1NCYnJiMCJyY1NDc2MzIWFxYWFRQGBwYGI/RUICAkIBwbTCo3VRoGLCMkWDJKfy8uMhwbPG1NLSssLUchOxYWGBgVFTsjAsgjIB9WMClNHh4iIyEtXCgpPA83Elo/PpJKOWMlTv58Ly1IRC4vGRYWOyEjPBYWGQAAAAIAMv/yALAB4wALABcAABI2NTQmIyIGFRQWMxI2NTQmIyIGFRQWM4slJRoaJSUaGiUlGholJRoBZSYZGSYmGRkm/o0mGRkmJhkZJgABAAAADQBJAAoAAAAAAAEAAAAAAAEAAAAAAAAAAAAAAAAAYgBiAJ4AsgDsAToBVgGcAfACCgJuAsAC5gABAAAAARmZfAtXkV8PPPUAAwPoAAAAAE2yzjUAAAAA1Z4zgwAe/wYCLgLuAAAABwACAAAAAAAAAfQAXQAAAAACbABGAU4AKAJYAEcCTgAyAksAHgJ0AEYCSgA8AfMAKAJWAEYCSgA8AOIAMgABAAADtv8GAAACdAAAACgCLgABAAAAAAAAAAAAAAAAAAAADQADAhYBkAAFAAgCigJYAAAASwKKAlgAAAFeABQBMgAAAAAFAAAAAAAAAAAAAAAAAAAAAAAAAAAAAABERUxWAEAAIAA6Au7/BgEKA7YA+gAAAAEAAAAAAf8CvAAAACAAAgAAAAMAAAADAAAAigABAAAAAAAcAAMAAQAAAIoABgBuAAAACQAyAAEAAAAAAAAAAQAAAAAAAAAAAAAAAAAAAAAAAAAAAAAAAAAAAAAAAAAAAAAAAAABAAAAAAAAAAAAAAAAAAAAAAAAAAAAAAAAAAAAAAAAAAIAAwAEAAUABgAHAAgACQAKAAsADAAEACgAAAAGAAQAAQACACAAOv//AAAAIAAw////4f/SAAEAAAAAAAAAALAALEAOBQYHDQYJFA4TCxIIERBDsAEVRrAJQ0ZhZEJDRUJDRUJDRUJDRrAMQ0ZhZLASQ2FpQkNGsBBDRmFksBRDYWlCQ7BAUHmxBkBCsQUHQ7BAUHmxB0BCsxAFBRJDsBNDYLAUQ2CwBkNgsAdDYLAgYUJDsBFDUrAHQ7BGUlp5swUFBwdDsEBhQkOwQGFCsRAFQ7ARQ1KwBkOwRlJaebMFBQYGQ7BAYUJDsEBhQrEJBUOwEUNSsBJDsEZSWnmxEhJDsEBhQrEIBUOwEUOwQGFQebIGQAZDYEKzDQ8MCkOwEkOyAQEJQxAUEzpDsAZDsApDEDpDsBRDZbAQQxA6Q7AHQ2WwD0MQOi0AAACxAAAAQrE7AEOwAFB5uP+/QBAAAQAAAwQBAAABAAAEAgIAQ0VCQ2lCQ7AEQ0RDYEJDRUJDsAFDsAJDYWpgQkOwA0NEQ2BCHLEtAEOwAVB5swcFBQBDRUJDsF1QebIJBUBCHLIFCgVDYGlCuP/NswABAABDsAVDRENgQhy4LQAdAAAAAAAAAAASAN4AAQAAAAAAAQAWAAAAAQAAAAAAAgAFABYAAQAAAAAAAwAnABsAAQAAAAAABAAcAEIAAQAAAAAABQAPAF4AAQAAAAAABgAcAG0AAQAAAAAACQAgAIkAAQAAAAAACgA4AKkAAwABBAkAAQA4AOEAAwABBAkAAgAOARkAAwABBAkAAwBOAScAAwABBAkABAA4AXUAAwABBAkABQAeAa0AAwABBAkABgA4AXUAAwABBAkACQBAAcsAAwABBAkACgBwAgsAAwABBAkAEAAsAnsAAwABBAkAEQAKAqdXaXN0aWEtUGxheWVyLU92ZXJwYXNzTGlnaHQxLjEwMDtERUxWO1dpc3RpYS1QbGF5ZXItT3ZlcnBhc3MtTGlnaHRXaXN0aWEtUGxheWVyLU92ZXJwYXNzIExpZ2h0VmVyc2lvbiAxLjAzMTAwV2lzdGlhLVBsYXllci1PdmVycGFzcy1MaWdodERlbHZlIFdpdGhyaW5ndG9uLCBUaG9tYXMgSm9ja2luQ29weXJpZ2h0IChjKSAyMDE0IGJ5IFJlZCBIYXQsIEluYy4gQWxsIHJpZ2h0cyByZXNlcnZlZC4AVwBpAHMAdABpAGEALQBQAGwAYQB5AGUAcgAtAE8AdgBlAHIAcABhAHMAcwAgAEwAaQBnAGgAdABSAGUAZwB1AGwAYQByADEALgAxADAAMAA7AEQARQBMAFYAOwBXAGkAcwB0AGkAYQAtAFAAbABhAHkAZQByAC0ATwB2AGUAcgBwAGEAcwBzAC0ATABpAGcAaAB0AFcAaQBzAHQAaQBhAC0AUABsAGEAeQBlAHIALQBPAHYAZQByAHAAYQBzAHMALQBMAGkAZwBoAHQAVgBlAHIAcwBpAG8AbgAgADEALgAwADMAMQAwADAARABlAGwAdgBlACAAVwBpAHQAaAByAGkAbgBnAHQAbwBuACwAIABUAGgAbwBtAGEAcwAgAEoAbwBjAGsAaQBuAEMAbwBwAHkAcgBpAGcAaAB0ACAAKABjACkAIAAyADAAMQA0ACAAYgB5ACAAUgBlAGQAIABIAGEAdAAsACAASQBuAGMALgAgAEEAbABsACAAcgBpAGcAaAB0AHMAIAByAGUAcwBlAHIAdgBlAGQALgBXAGkAcwB0AGkAYQAtAFAAbABhAHkAZQByAC0ATwB2AGUAcgBwAGEAcwBzAEwAaQBnAGgAdAAAAgAAAAAAAP+FABQAAAAAAAAAAAAAAAAAAAAAAAAAAAANAAAAAwATABQAFQAWABcAGAAZABoAGwAcAB0AAQADAAcACgATAAf//wAPAAEAAAAKAB4ALAABREZMVAAIAAQAAAAA//8AAQAAAAFrZXJuAAgAAAABAAAAAQAEAAIAAAABAAgAAQBmAAQAAAAIABoAIAAmADAAOgBIAFIAYAABAAb/7AABAAb/9gACAAn/9gAL//EAAgAJ//YAC//xAAMABP/7AAn/9gAL//YAAgAJ/+wAC//dAAMABv+6AAj/4gAJACMAAQAJ//YAAgABAAMACgAAAAEAAAAAAAAAAAAAAAAAAQAAAAA=);\n",
              "}\n",
              "</style><style class=\"wistia_injected_style\" id=\"wistia_24_style\" type=\"text/css\">\n",
              "@font-face {\n",
              "font-family: 'WistiaPlayerInterNumbersSemiBold';\n",
              "font-feature-settings: 'tnum' 1;\n",
              "src: url(data:application/x-font-woff;charset=utf-8;base64,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);\n",
              "}\n",
              "</style><div id=\"batBeacon0.0006960974872449732\" style=\"width:0px; height:0px; display:none; visibility:hidden;\"><img alt=\"\" height=\"0\" id=\"batBeacon0.5783353438197667\" src=\"https://bat.bing.com/action/0?ti=5857216&amp;Ver=2&amp;mid=d95eff65-90ba-3993-313e-6ad1f9d8b00d&amp;sid=17ee9dde2f6b7a6ad40fd333dab47c36&amp;vid=9f423f49e482a9274990bb533bc7d223&amp;vids=1&amp;pi=0&amp;lg=en-US&amp;sw=800&amp;sh=600&amp;sc=24&amp;tl=Hahow%20%E5%A5%BD%E5%AD%B8%E6%A0%A1%20%7C%20%E6%9C%80%E6%9C%89%E8%B6%A3%E7%9A%84%E7%B7%9A%E4%B8%8A%E8%AA%B2%E7%A8%8B%E5%B9%B3%E5%8F%B0%20%7C%20%E8%87%AA%E5%AD%B8%E9%82%A3%E4%BA%9B%E5%AD%B8%E6%A0%A1%E6%B2%92%E6%95%99%E7%9A%84%E4%BA%8B&amp;kw=Hahow,%E5%A5%BD%E5%AD%B8%E6%A0%A1,%E7%B7%9A%E4%B8%8A%E8%AA%B2%E7%A8%8B,%E8%AA%B2%E7%A8%8B%E5%8B%9F%E8%B3%87,%E7%B6%B2%E8%B7%AF%E6%95%99%E5%AD%B8&amp;p=https%3A%2F%2Fhahow.in%2Fcourses%3Fpage%3D3&amp;r=&amp;lt=2837&amp;evt=pageLoad&amp;msclkid=N&amp;sv=1&amp;rn=518757\" style=\"width:0px; height:0px; display:none; visibility:hidden;\" width=\"0\"/></div><iframe aria-hidden=\"true\" id=\"intercom-frame\" style=\"position: absolute !important; opacity: 0 !important; width: 1px !important; height: 1px !important; top: 0 !important; left: 0 !important; border: none !important; display: block !important; z-index: -1 !important; pointer-events: none;\" tabindex=\"-1\" title=\"Intercom\"></iframe><div aria-live=\"polite\" class=\"intercom-lightweight-app\"><style id=\"intercom-lightweight-app-style\" type=\"text/css\">\n",
              "  @keyframes intercom-lightweight-app-launcher {\n",
              "    from {\n",
              "      opacity: 0;\n",
              "      transform: scale(0.5);\n",
              "    }\n",
              "    to {\n",
              "      opacity: 1;\n",
              "      transform: scale(1);\n",
              "    }\n",
              "  }\n",
              "\n",
              "  @keyframes intercom-lightweight-app-gradient {\n",
              "    from {\n",
              "      opacity: 0;\n",
              "    }\n",
              "    to {\n",
              "      opacity: 1;\n",
              "    }\n",
              "  }\n",
              "\n",
              "  @keyframes intercom-lightweight-app-messenger {\n",
              "    from {\n",
              "      opacity: 0;\n",
              "      transform: translateY(20px);\n",
              "    }\n",
              "    to {\n",
              "      opacity: 1;\n",
              "      transform: translateY(0);\n",
              "    }\n",
              "  }\n",
              "\n",
              "  .intercom-lightweight-app {\n",
              "    position: fixed;\n",
              "    z-index: 2147483001;\n",
              "    width: 0;\n",
              "    height: 0;\n",
              "    font-family: intercom-font, \"Helvetica Neue\", \"Apple Color Emoji\", Helvetica, Arial, sans-serif;\n",
              "  }\n",
              "\n",
              "  .intercom-lightweight-app-gradient {\n",
              "    position: fixed;\n",
              "    z-index: 2147483002;\n",
              "    width: 500px;\n",
              "    height: 500px;\n",
              "    bottom: 0;\n",
              "    right: 0;\n",
              "    pointer-events: none;\n",
              "    background: radial-gradient(\n",
              "      ellipse at bottom right,\n",
              "      rgba(29, 39, 54, 0.16) 0%,\n",
              "      rgba(29, 39, 54, 0) 72%);\n",
              "    animation: intercom-lightweight-app-gradient 200ms ease-out;\n",
              "  }\n",
              "\n",
              "  .intercom-lightweight-app-launcher {\n",
              "    position: fixed;\n",
              "    z-index: 2147483003;\n",
              "    bottom: 20px;\n",
              "    right: 20px;\n",
              "    width: 60px;\n",
              "    height: 60px;\n",
              "    border-radius: 50%;\n",
              "    background: undefined;\n",
              "    cursor: pointer;\n",
              "    box-shadow: 0 1px 6px 0 rgba(0, 0, 0, 0.06), 0 2px 32px 0 rgba(0, 0, 0, 0.16);\n",
              "    animation: intercom-lightweight-app-launcher 250ms ease;\n",
              "  }\n",
              "\n",
              "  .intercom-lightweight-app-launcher:focus {\n",
              "    outline: none;\n",
              "    \n",
              "  }\n",
              "\n",
              "  .intercom-lightweight-app-launcher-icon {\n",
              "    display: flex;\n",
              "    align-items: center;\n",
              "    justify-content: center;\n",
              "    position: absolute;\n",
              "    top: 0;\n",
              "    left: 0;\n",
              "    width: 60px;\n",
              "    height: 60px;\n",
              "    transition: transform 100ms linear, opacity 80ms linear;\n",
              "  }\n",
              "\n",
              "  .intercom-lightweight-app-launcher-icon-open {\n",
              "    \n",
              "        opacity: 1;\n",
              "        transform: rotate(0deg) scale(1);\n",
              "      \n",
              "  }\n",
              "\n",
              "  .intercom-lightweight-app-launcher-icon-open svg {\n",
              "    width: 28px;\n",
              "    height: 32px;\n",
              "  }\n",
              "\n",
              "  .intercom-lightweight-app-launcher-icon-open svg path {\n",
              "    fill: undefined;\n",
              "  }\n",
              "\n",
              "  .intercom-lightweight-app-launcher-icon-self-serve {\n",
              "    \n",
              "        opacity: 1;\n",
              "        transform: rotate(0deg) scale(1);\n",
              "      \n",
              "  }\n",
              "\n",
              "  .intercom-lightweight-app-launcher-icon-self-serve svg {\n",
              "    height: 56px;\n",
              "  }\n",
              "\n",
              "  .intercom-lightweight-app-launcher-icon-self-serve svg path {\n",
              "    fill: undefined;\n",
              "  }\n",
              "\n",
              "  .intercom-lightweight-app-launcher-custom-icon-open {\n",
              "    max-height: 36px;\n",
              "    max-width: 36px;\n",
              "    \n",
              "        opacity: 1;\n",
              "        transform: rotate(0deg) scale(1);\n",
              "      \n",
              "  }\n",
              "\n",
              "  .intercom-lightweight-app-launcher-icon-minimize {\n",
              "    \n",
              "        opacity: 0;\n",
              "        transform: rotate(-60deg) scale(0);\n",
              "      \n",
              "  }\n",
              "\n",
              "  .intercom-lightweight-app-launcher-icon-minimize svg {\n",
              "    width: 16px;\n",
              "  }\n",
              "\n",
              "  .intercom-lightweight-app-launcher-icon-minimize svg path {\n",
              "    fill: undefined;\n",
              "  }\n",
              "\n",
              "  .intercom-lightweight-app-messenger {\n",
              "    position: fixed;\n",
              "    z-index: 2147483003;\n",
              "    overflow: hidden;\n",
              "    background-color: white;\n",
              "    animation: intercom-lightweight-app-messenger 250ms ease-out;\n",
              "    \n",
              "        width: 376px;\n",
              "        height: calc(100% - 40px);\n",
              "        max-height: 704px;\n",
              "        min-height: 250px;\n",
              "        right: 20px;\n",
              "        bottom: 20px;\n",
              "        box-shadow: 0 5px 40px rgba(0,0,0,0.16);\n",
              "        border-radius: 8px;\n",
              "      \n",
              "  }\n",
              "\n",
              "  .intercom-lightweight-app-messenger-header {\n",
              "    height: 75px;\n",
              "    background: linear-gradient(\n",
              "      135deg,\n",
              "      undefined 0%,\n",
              "      undefined 100%\n",
              "    );\n",
              "  }\n",
              "\n",
              "  @media print {\n",
              "    .intercom-lightweight-app {\n",
              "      display: none;\n",
              "    }\n",
              "  }\n",
              "</style></div><script id=\"\" type=\"text/javascript\">(function(){var b=localStorage.getItem(\"satellizer_token\"),a=window.location.host,c=null;ga&&ga.getAll&&ga.getAll()[0]&&(c=ga.getAll()[0].get(\"_gid\"));var d=/hahow\\.in$/;d.test(a)&&(a=new XMLHttpRequest,a.open(\"POST\",\"https://production.uts.hahow.in/api/v1/collect\"),b&&a.setRequestHeader(\"Authorization\",\"Bearer \"+b),a.setRequestHeader(\"Content-Type\",\"application/json;charset\\x3dUTF-8\"),b={gid:c,event:\"page view\",data:{time:new Date,url:window.location.href,origin:window.location.origin,search:window.location.search,\n",
              "referrer:document.referrer||null}},a.send(JSON.stringify(b)))})();</script>\n",
              "<script id=\"\" src=\"https://www.googletagmanager.com/gtag/js?id=AW-775545404\" type=\"text/javascript\"></script><script id=\"\" type=\"text/javascript\">var element=document.getElementById(\"root\");element.setAttribute(\"courseListRandPeriod\",1800);element.setAttribute(\"courseListRandWindow\",96);element.setAttribute(\"recSectionRandPeriod\",1800);element.setAttribute(\"recSectionRandWindow\",32);element.setAttribute(\"homePageRandPeriod\",1800);element.setAttribute(\"homePageRandWindow\",32);</script>\n",
              "<script id=\"\" type=\"text/javascript\">window.dataLayer=window.dataLayer||[];function gtag(){dataLayer.push(arguments)}gtag(\"js\",new Date);gtag(\"config\",\"AW-775545404\");</script>\n",
              "</body></html>"
            ]
          },
          "metadata": {
            "tags": []
          },
          "execution_count": 20
        }
      ]
    },
    {
      "cell_type": "code",
      "metadata": {
        "id": "2epayywR9EQE",
        "colab_type": "code",
        "colab": {}
      },
      "source": [
        ""
      ],
      "execution_count": null,
      "outputs": []
    }
  ]
}