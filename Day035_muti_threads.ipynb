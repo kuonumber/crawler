{
  "nbformat": 4,
  "nbformat_minor": 0,
  "metadata": {
    "colab": {
      "name": "Day035_muti_threads",
      "provenance": [],
      "collapsed_sections": [],
      "authorship_tag": "ABX9TyODklAw1ZfBrZvcZT603NOJ",
      "include_colab_link": true
    },
    "kernelspec": {
      "name": "python3",
      "display_name": "Python 3"
    }
  },
  "cells": [
    {
      "cell_type": "markdown",
      "metadata": {
        "id": "view-in-github",
        "colab_type": "text"
      },
      "source": [
        "<a href=\"https://colab.research.google.com/github/kuonumber/crawler/blob/master/Day035_muti_threads.ipynb\" target=\"_parent\"><img src=\"https://colab.research.google.com/assets/colab-badge.svg\" alt=\"Open In Colab\"/></a>"
      ]
    },
    {
      "cell_type": "code",
      "metadata": {
        "id": "xqOIEkOD9qMW",
        "colab_type": "code",
        "colab": {}
      },
      "source": [
        "!pip install selenium\n",
        "!apt-get update # to update ubuntu to correctly run apt install\n",
        "!apt install chromium-chromedriver\n",
        "!cp /usr/lib/chromium-browser/chromedriver /usr/bin\n",
        "import sys\n",
        "sys.path.insert(0,'/usr/lib/chromium-browser/chromedriver')\n",
        "from selenium import webdriver\n",
        "chrome_options = webdriver.ChromeOptions()\n",
        "chrome_options.add_argument('--headless')\n",
        "chrome_options.add_argument('--no-sandbox')\n",
        "chrome_options.add_argument('--disable-dev-shm-usage')\n",
        "wd = webdriver.Chrome('chromedriver',chrome_options=chrome_options)"
      ],
      "execution_count": null,
      "outputs": []
    },
    {
      "cell_type": "code",
      "metadata": {
        "id": "UcX3g-8KzeWK",
        "colab_type": "code",
        "colab": {
          "base_uri": "https://localhost:8080/",
          "height": 70
        },
        "outputId": "14952fe7-9794-4385-b6fb-c95054170481"
      },
      "source": [
        "import threading\n",
        "import time\n",
        "\n",
        "maxthreads = 2\n",
        "sema = threading.Semaphore(value=maxthreads)\n",
        "threads = list()\n",
        "\n",
        "def task(i):\n",
        "    sema.acquire()\n",
        "    print( \"start %s\" % (i,))\n",
        "    time.sleep(2)\n",
        "    sema.release()\n",
        "\n",
        "for i in range(10):\n",
        "    thread = threading.Thread(target=task,args=(i,))\n",
        "    threads.append(thread)\n",
        "    thread.start()\n",
        "\n",
        "print('Main thread done')\n"
      ],
      "execution_count": null,
      "outputs": [
        {
          "output_type": "stream",
          "text": [
            "start 0\n",
            "start 1\n",
            "Main thread done\n"
          ],
          "name": "stdout"
        }
      ]
    },
    {
      "cell_type": "code",
      "metadata": {
        "id": "fBsBcJNB1iD9",
        "colab_type": "code",
        "colab": {
          "base_uri": "https://localhost:8080/",
          "height": 212
        },
        "outputId": "6766f1d3-8f84-48f6-97ba-ba06fdb888ad"
      },
      "source": [
        "\n",
        "maxthreads = 2\n",
        "sema = threading.Semaphore(value=maxthreads)\n",
        "threads = list()\n",
        "\n",
        "def task(i):\n",
        "    sema.acquire()\n",
        "    print( \"start %s\" % (i,))\n",
        "    time.sleep(2)\n",
        "    sema.release()\n",
        "\n",
        "for i in range(10):\n",
        "    thread = threading.Thread(target=task,args=(i,))\n",
        "    threads.append(thread)\n",
        "    thread.start()\n",
        "\n",
        "for t in threads:\n",
        "    t.join()\n",
        "\n",
        "print('Main thread done')\n"
      ],
      "execution_count": null,
      "outputs": [
        {
          "output_type": "stream",
          "text": [
            "start 0\n",
            "start 1\n",
            "start 2\n",
            "start 3\n",
            "start 4\n",
            "start 5\n",
            "start 6\n",
            "start 7\n",
            "start 8\n",
            "start 9\n",
            "Main thread done\n"
          ],
          "name": "stdout"
        }
      ]
    },
    {
      "cell_type": "code",
      "metadata": {
        "id": "0X_OOeO31uzm",
        "colab_type": "code",
        "colab": {}
      },
      "source": [
        "import threading\n",
        "import time\n",
        "from datetime import datetime\n",
        "import requests\n",
        "from bs4 import BeautifulSoup"
      ],
      "execution_count": null,
      "outputs": []
    },
    {
      "cell_type": "code",
      "metadata": {
        "id": "-pdbaMm__3pg",
        "colab_type": "code",
        "colab": {}
      },
      "source": [
        "%%timeit\n",
        "\n",
        "datetime.now()\n",
        "# 子執行緒的工作函數\n",
        "def job():\n",
        "    max_page = 50\n",
        "    for page_number in range(1, max_page+1, 1):\n",
        "        url = 'https://movies.yahoo.com.tw/movie_intheaters.html'\n",
        "        payload = {'page':str(page_number)}\n",
        "        resp = requests.get(url, params=payload)\n",
        "        resp.encoding = 'utf-8'\n",
        "        soup = BeautifulSoup(resp.text, 'lxml')\n",
        "\n",
        "        # 把電影介紹擷取出來\n",
        "        movie_list = soup.find(\"ul\", attrs={\"class\":\"release_list\"}).find_all(\"li\")\n",
        "        for p in movie_list:\n",
        "            print(\"----------------------------------------------------------------------\")\n",
        "            # 電影名稱\n",
        "            movie_name = p.find(\"div\", attrs={\"class\":\"release_movie_name\"})\n",
        "            print(\"電影名稱：\", movie_name.a.string)\n",
        "            \n",
        "            # 定位電影評價資訊欄位\n",
        "            level_box = movie_name.find(\"dl\", attrs={\"class\":\"levelbox\"})\n",
        "            \n",
        "            # 期待度\n",
        "            expectation = level_box.findAll(\"div\", attrs={\"class\":\"leveltext\"})[0]\n",
        "            print(\"期待度：\", expectation.span.string)\n",
        "            \n",
        "            # 滿意度\n",
        "            satisfaction = level_box.findAll(\"div\", attrs={\"class\":\"leveltext\"})[1]\n",
        "            print(\"滿意度：\", satisfaction.span[\"data-num\"])  # 滿意度可以從\"data-num\"這個屬性擷取\n",
        "            \n",
        "            # 簡介\n",
        "            movie_info = p.find(\"div\", attrs={\"class\":\"release_text\"})\n",
        "            print(movie_info.span.string)\n",
        "\n",
        "# 建立一個子執行緒\n",
        "t = threading.Thread(target = job)\n",
        "\n",
        "# 執行該子執行緒\n",
        "t.start()\n",
        "\n",
        "# 主執行緒繼續執行自己的工作\n",
        "for i in range(10):\n",
        "  print(\"Main thread:\", i)\n",
        "#   time.sleep(1)\n",
        "\n",
        "# 等待 t 這個子執行緒結束\n",
        "t.join()\n",
        "\n",
        "print(\"Done.\")"
      ],
      "execution_count": null,
      "outputs": []
    },
    {
      "cell_type": "code",
      "metadata": {
        "id": "5k_1IPeOBqMg",
        "colab_type": "code",
        "colab": {}
      },
      "source": [
        "%%timeit\n",
        "\n",
        "maxthreads = 2\n",
        "sema = threading.Semaphore(value=maxthreads)\n",
        "threads = list()\n",
        "\n",
        "def task(i):\n",
        "    sema.acquire()\n",
        "    print( \"start %s\" % (i,))\n",
        "    time.sleep(2)\n",
        "    sema.release()\n",
        "\n",
        "def task(page_number):\n",
        "    sema.acquire()\n",
        "    url = 'https://movies.yahoo.com.tw/movie_intheaters.html'\n",
        "    payload = {'page':str(page_number)}\n",
        "    resp = requests.get(url, params=payload)\n",
        "    resp.encoding = 'utf-8'\n",
        "    soup = BeautifulSoup(resp.text, 'lxml')\n",
        "    print( \"start %s\" % (page_number,))\n",
        "\n",
        "    # 把電影介紹擷取出來\n",
        "    movie_list = soup.find(\"ul\", attrs={\"class\":\"release_list\"}).find_all(\"li\")\n",
        "    for p in movie_list:\n",
        "        print(\"----------------------------------------------------------------------\")\n",
        "        # 電影名稱\n",
        "        movie_name = p.find(\"div\", attrs={\"class\":\"release_movie_name\"})\n",
        "        print(\"電影名稱：\", movie_name.a.string)\n",
        "        \n",
        "        # 定位電影評價資訊欄位\n",
        "        level_box = movie_name.find(\"dl\", attrs={\"class\":\"levelbox\"})\n",
        "        \n",
        "        # 期待度\n",
        "        expectation = level_box.findAll(\"div\", attrs={\"class\":\"leveltext\"})[0]\n",
        "        print(\"期待度：\", expectation.span.string)\n",
        "        \n",
        "        # 滿意度\n",
        "        satisfaction = level_box.findAll(\"div\", attrs={\"class\":\"leveltext\"})[1]\n",
        "        print(\"滿意度：\", satisfaction.span[\"data-num\"])  # 滿意度可以從\"data-num\"這個屬性擷取\n",
        "        \n",
        "        # 簡介\n",
        "        movie_info = p.find(\"div\", attrs={\"class\":\"release_text\"})\n",
        "        print(movie_info.span.string)   \n",
        "    sema.release()\n",
        "\n",
        "max_page = 10\n",
        "for page_number in range(1, max_page+1, 1):\n",
        "    thread = threading.Thread(target=task,args=(page_number,))\n",
        "    threads.append(thread)\n",
        "    thread.start()\n",
        "\n",
        "for t in threads:\n",
        "    t.join()\n",
        "\n",
        "print('Main thread done')\n"
      ],
      "execution_count": null,
      "outputs": []
    },
    {
      "cell_type": "code",
      "metadata": {
        "id": "xGEbIjyA7-s2",
        "colab_type": "code",
        "colab": {}
      },
      "source": [
        "%%timeit\n",
        "\n",
        "max_page = 10\n",
        "for page_number in range(1, max_page+1, 1):\n",
        "    url = 'https://movies.yahoo.com.tw/movie_intheaters.html'\n",
        "    payload = {'page':str(page_number)}\n",
        "    resp = requests.get(url, params=payload)\n",
        "    resp.encoding = 'utf-8'\n",
        "    soup = BeautifulSoup(resp.text, 'lxml')\n",
        "\n",
        "    # 把電影介紹擷取出來\n",
        "    movie_list = soup.find(\"ul\", attrs={\"class\":\"release_list\"}).find_all(\"li\")\n",
        "    for p in movie_list:\n",
        "        print(\"----------------------------------------------------------------------\")\n",
        "        # 電影名稱\n",
        "        movie_name = p.find(\"div\", attrs={\"class\":\"release_movie_name\"})\n",
        "        print(\"電影名稱：\", movie_name.a.string)\n",
        "        \n",
        "        # 定位電影評價資訊欄位\n",
        "        level_box = movie_name.find(\"dl\", attrs={\"class\":\"levelbox\"})\n",
        "        \n",
        "        # 期待度\n",
        "        expectation = level_box.findAll(\"div\", attrs={\"class\":\"leveltext\"})[0]\n",
        "        print(\"期待度：\", expectation.span.string)\n",
        "        \n",
        "        # 滿意度\n",
        "        satisfaction = level_box.findAll(\"div\", attrs={\"class\":\"leveltext\"})[1]\n",
        "        print(\"滿意度：\", satisfaction.span[\"data-num\"])  # 滿意度可以從\"data-num\"這個屬性擷取\n",
        "        \n",
        "        # 簡介\n",
        "        movie_info = p.find(\"div\", attrs={\"class\":\"release_text\"})\n",
        "        print(movie_info.span.string)"
      ],
      "execution_count": null,
      "outputs": []
    },
    {
      "cell_type": "code",
      "metadata": {
        "id": "mtS6lm7a-4cH",
        "colab_type": "code",
        "colab": {}
      },
      "source": [
        ""
      ],
      "execution_count": null,
      "outputs": []
    }
  ]
}