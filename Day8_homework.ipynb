{
  "nbformat": 4,
  "nbformat_minor": 0,
  "metadata": {
    "colab": {
      "name": "Day8_homework.ipynb.ipynb",
      "provenance": [],
      "authorship_tag": "ABX9TyPGSgUO8cJH7gnwbj86SVSg",
      "include_colab_link": true
    },
    "kernelspec": {
      "name": "python3",
      "display_name": "Python 3"
    }
  },
  "cells": [
    {
      "cell_type": "markdown",
      "metadata": {
        "id": "view-in-github",
        "colab_type": "text"
      },
      "source": [
        "<a href=\"https://colab.research.google.com/github/kuonumber/crawler/blob/master/Day8_homework_ipynb.ipynb\" target=\"_parent\"><img src=\"https://colab.research.google.com/assets/colab-badge.svg\" alt=\"Open In Colab\"/></a>"
      ]
    },
    {
      "cell_type": "code",
      "metadata": {
        "id": "i4jJCIAcWhSe",
        "colab_type": "code",
        "colab": {}
      },
      "source": [
        "import requests\n",
        "# 引入函式庫\n",
        "r = requests.get('https://github.com/timeline.json')\n",
        "# 想要爬資料的目標網址\n",
        "response = r.text\n",
        "# 模擬發送請求的動作"
      ],
      "execution_count": null,
      "outputs": []
    },
    {
      "cell_type": "code",
      "metadata": {
        "id": "CdJuHtagZDWK",
        "colab_type": "code",
        "colab": {}
      },
      "source": [
        "print(response)\n",
        "response['message']"
      ],
      "execution_count": null,
      "outputs": []
    },
    {
      "cell_type": "code",
      "metadata": {
        "id": "WnUDsZFPZfuE",
        "colab_type": "code",
        "colab": {}
      },
      "source": [
        "import json\n",
        "response = json.loads(response)\n",
        "\n",
        "print(type(response))\n",
        "print(response['message'])\n"
      ],
      "execution_count": null,
      "outputs": []
    },
    {
      "cell_type": "code",
      "metadata": {
        "id": "ybo4MHw8ZIj0",
        "colab_type": "code",
        "colab": {}
      },
      "source": [
        "res = requests.get('https://docs.github.com/v3/activity/events/#list-public-events')"
      ],
      "execution_count": null,
      "outputs": []
    },
    {
      "cell_type": "code",
      "metadata": {
        "id": "Ip48xiVDZTzT",
        "colab_type": "code",
        "colab": {}
      },
      "source": [
        "res.content"
      ],
      "execution_count": null,
      "outputs": []
    },
    {
      "cell_type": "code",
      "metadata": {
        "id": "atdTJUL8ZWaX",
        "colab_type": "code",
        "colab": {}
      },
      "source": [
        "html_doc = \"\"\"\n",
        "<html><head><title>The Dormouse's story</title></head>\n",
        "<body>\n",
        "<p class=\"title\"><b>The Dormouse's story</b></p>\n",
        "<p class=\"story\">Once upon a time there were three little sisters; and their names were\n",
        "<a href=\"http://example.com/elsie\" class=\"sister\" id=\"link1\">Elsie</a>,\n",
        "<a href=\"http://example.com/lacie\" class=\"sister\" id=\"link2\">Lacie</a> and\n",
        "<a href=\"http://example.com/tillie\" class=\"sister\" id=\"link3\">Tillie</a>;\n",
        "and they lived at the bottom of a well.</p>\n",
        "<p class=\"story\">...</p>\n",
        "</body>\n",
        "</html>\n",
        "\"\"\""
      ],
      "execution_count": null,
      "outputs": []
    },
    {
      "cell_type": "code",
      "metadata": {
        "id": "ZbMF_uEyZvXA",
        "colab_type": "code",
        "colab": {}
      },
      "source": [
        "from bs4 import BeautifulSoup\n",
        "\n",
        "soup = BeautifulSoup(html_doc, \"html5lib\")\n",
        "print(soup)\n",
        "print(type(soup))"
      ],
      "execution_count": null,
      "outputs": []
    },
    {
      "cell_type": "markdown",
      "metadata": {
        "id": "5rYR5e1ZZ8fy",
        "colab_type": "text"
      },
      "source": [
        "* 利用 Request + BeatifulSoup 爬取下列兩個網站內容並解析：\n",
        "\n",
        "Dcard 網址： https://www.dcard.tw/f\n",
        "知乎： https://www.zhihu.com/explore\n",
        "並且回答下面問題：\n",
        "\n",
        "* Request 取回之後該怎麼取出資料，資料型態是什麼？  \n",
        "\n",
        "* 為什麼要使用 BeatifulSoup 處理？  \n",
        "A very nice feature of BeautifulSoup is its excellent support for encoding detection which can provide better results for real-world HTML pages that do not (correctly) declare their encoding. [source](https://lxml.de/elementsoup.html)。產生樹狀物件，透過資料的節點，進而操作不同的小標籤的內容擷取。 \n",
        "* 缺點(慢):  \n",
        "    * <img src='https://i.stack.imgur.com/FwFQb.png'></img>\n",
        "    * [img source](http://blog.ianbicking.org/2008/03/30/python-html-parser-performance/)\n",
        "\n",
        "* 觀察一下知乎回來的資料好像有點怪怪的，該怎麼解決？  "
      ]
    },
    {
      "cell_type": "code",
      "metadata": {
        "id": "n6qjIZSVZ5qc",
        "colab_type": "code",
        "colab": {}
      },
      "source": [
        "res = requests.get('https://www.dcard.tw/f')"
      ],
      "execution_count": null,
      "outputs": []
    },
    {
      "cell_type": "code",
      "metadata": {
        "id": "Sqdokc-KaZVb",
        "colab_type": "code",
        "colab": {}
      },
      "source": [
        "type(res), type(res.content), type(res.text)"
      ],
      "execution_count": null,
      "outputs": []
    },
    {
      "cell_type": "code",
      "metadata": {
        "id": "91l-fWo-bL-a",
        "colab_type": "code",
        "colab": {}
      },
      "source": [
        "res.text"
      ],
      "execution_count": null,
      "outputs": []
    },
    {
      "cell_type": "code",
      "metadata": {
        "id": "dmDz5meGaHR3",
        "colab_type": "code",
        "colab": {}
      },
      "source": [
        "soup = BeautifulSoup(res.content, 'html5lib')\n"
      ],
      "execution_count": null,
      "outputs": []
    },
    {
      "cell_type": "code",
      "metadata": {
        "id": "u1U_cIJ2c4nZ",
        "colab_type": "code",
        "colab": {}
      },
      "source": [
        "headers = {'user-agent': 'my-app/0.0.1'}\n"
      ],
      "execution_count": null,
      "outputs": []
    },
    {
      "cell_type": "code",
      "metadata": {
        "id": "U43Qcq5cdsPB",
        "colab_type": "code",
        "colab": {}
      },
      "source": [
        "res = requests.get('https://www.zhihu.com/explore')\n",
        "res.text\n",
        "# 沒有header -> get error 400"
      ],
      "execution_count": null,
      "outputs": []
    },
    {
      "cell_type": "code",
      "metadata": {
        "id": "F7ettIm4dwT0",
        "colab_type": "code",
        "colab": {}
      },
      "source": [
        ""
      ],
      "execution_count": null,
      "outputs": []
    },
    {
      "cell_type": "code",
      "metadata": {
        "id": "OxMKDmiGaJVX",
        "colab_type": "code",
        "colab": {}
      },
      "source": [
        "res = requests.get('https://www.zhihu.com/explore', headers=headers)"
      ],
      "execution_count": null,
      "outputs": []
    },
    {
      "cell_type": "code",
      "metadata": {
        "id": "oFxHE1nZaSLf",
        "colab_type": "code",
        "colab": {}
      },
      "source": [
        "res.text"
      ],
      "execution_count": null,
      "outputs": []
    },
    {
      "cell_type": "code",
      "metadata": {
        "id": "B_J3OA6cdcvb",
        "colab_type": "code",
        "colab": {}
      },
      "source": [
        "res.encoding = 'utf-8'\n"
      ],
      "execution_count": null,
      "outputs": []
    },
    {
      "cell_type": "code",
      "metadata": {
        "id": "5ToUnDncbegK",
        "colab_type": "code",
        "colab": {}
      },
      "source": [
        "soup = BeautifulSoup(res.text, 'html5lib')\n"
      ],
      "execution_count": null,
      "outputs": []
    },
    {
      "cell_type": "code",
      "metadata": {
        "id": "AEkQqg5hdI1q",
        "colab_type": "code",
        "colab": {}
      },
      "source": [
        "soup"
      ],
      "execution_count": null,
      "outputs": []
    },
    {
      "cell_type": "code",
      "metadata": {
        "id": "priQXBL1dJex",
        "colab_type": "code",
        "colab": {}
      },
      "source": [
        ""
      ],
      "execution_count": null,
      "outputs": []
    }
  ]
}
