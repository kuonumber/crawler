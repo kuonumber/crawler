{
  "nbformat": 4,
  "nbformat_minor": 0,
  "metadata": {
    "colab": {
      "name": "Day13_homework_Ptt .ipynb",
      "provenance": [],
      "authorship_tag": "ABX9TyMDoSFUgHPtLhkgccxnrAVv",
      "include_colab_link": true
    },
    "kernelspec": {
      "name": "python3",
      "display_name": "Python 3"
    }
  },
  "cells": [
    {
      "cell_type": "markdown",
      "metadata": {
        "id": "view-in-github",
        "colab_type": "text"
      },
      "source": [
        "<a href=\"https://colab.research.google.com/github/kuonumber/crawler/blob/master/Day13_homework_Ptt_.ipynb\" target=\"_parent\"><img src=\"https://colab.research.google.com/assets/colab-badge.svg\" alt=\"Open In Colab\"/></a>"
      ]
    },
    {
      "cell_type": "code",
      "metadata": {
        "id": "l118aEBBHQjb",
        "colab_type": "code",
        "colab": {}
      },
      "source": [
        "import requests\n",
        "from bs4 import BeautifulSoup\n"
      ],
      "execution_count": 3,
      "outputs": []
    },
    {
      "cell_type": "code",
      "metadata": {
        "id": "7YnfVkZufSNi",
        "colab_type": "code",
        "colab": {}
      },
      "source": [
        "\n",
        "url = 'https://www.ptt.cc/bbs/NBA/index.html'\n",
        "r = requests.get(url)\n",
        "\n",
        "soup = BeautifulSoup(r.text, \"html5lib\")\n",
        "\n",
        "for d in soup.find_all(class_=\"title\"):\n",
        "    print(d.text.replace('\\t', '').replace('\\n', ''))\n",
        "    try:\n",
        "        r = BeautifulSoup(requests.get('https://www.ptt.cc'+d.find('a')['href']).text, \"html5lib\")\n",
        "        print('作者: ' + r.find(class_='article-meta-value').text)\n",
        "    except:\n",
        "        continue\n"
      ],
      "execution_count": null,
      "outputs": []
    },
    {
      "cell_type": "code",
      "metadata": {
        "id": "LqW2l8KSJBeE",
        "colab_type": "code",
        "colab": {
          "base_uri": "https://localhost:8080/",
          "height": 34
        },
        "outputId": "fb649818-b573-4df5-c16a-4fc7ac947681"
      },
      "source": [
        "len(soup.select('.date')),len(soup.select('.author'))"
      ],
      "execution_count": null,
      "outputs": [
        {
          "output_type": "execute_result",
          "data": {
            "text/plain": [
              "(24, 24)"
            ]
          },
          "metadata": {
            "tags": []
          },
          "execution_count": 8
        }
      ]
    },
    {
      "cell_type": "code",
      "metadata": {
        "id": "O1FpXBdtJPjf",
        "colab_type": "code",
        "colab": {}
      },
      "source": [
        "url = 'https://www.ptt.cc/bbs/NBA/index1.html'\n",
        "r = requests.get(url)\n",
        "\n",
        "soup = BeautifulSoup(r.text, \"html5lib\")\n",
        "\n",
        "for d in soup.find_all(class_=\"title\"):\n",
        "    print(d.text.replace('\\t', '').replace('\\n', ''))\n",
        "    \n",
        "    try:\n",
        "        r = BeautifulSoup(requests.get('https://www.ptt.cc'+d.find('a')['href']).text, \"html5lib\")\n",
        "        print('作者: ' + r.find(class_='article-meta-value').text)\n",
        "    except:\n",
        "        continue"
      ],
      "execution_count": null,
      "outputs": []
    },
    {
      "cell_type": "code",
      "metadata": {
        "id": "fOqUFOw3Kolh",
        "colab_type": "code",
        "colab": {}
      },
      "source": [
        "url = 'https://www.ptt.cc/bbs/Stock/index.html'"
      ],
      "execution_count": 5,
      "outputs": []
    },
    {
      "cell_type": "code",
      "metadata": {
        "id": "JVs8NPRWK_cr",
        "colab_type": "code",
        "colab": {
          "base_uri": "https://localhost:8080/",
          "height": 212
        },
        "outputId": "b065735c-fa0e-4c39-a028-ffc68c7801af"
      },
      "source": [
        "r = requests.get(url)\n",
        "\n",
        "soup = BeautifulSoup(r.text, \"html5lib\")\n",
        "\n",
        "for d in soup.find_all(class_=\"title\"):\n",
        "    print(d.text.replace('\\t', '').replace('\\n', ''))\n",
        "    \n",
        "    try:\n",
        "        r = BeautifulSoup(requests.get('https://www.ptt.cc'+d.find('a')['href']).text, \"html5lib\")\n",
        "        print('作者: ' + r.find(class_='article-meta-value').text)\n",
        "    except:\n",
        "        continue\n"
      ],
      "execution_count": 6,
      "outputs": [
        {
          "output_type": "stream",
          "text": [
            "Re: [標的] 美股 RKT\n",
            "作者: abme ()\n",
            "[新聞] 正大集團買日盛金 黃天牧緊盯產金分離\n",
            "作者: MA40433 (Masa)\n",
            "[公告] Stock 板規V2.7\n",
            "[公告] 股票板板主徵選公告 \n",
            "作者: BreezeCat (微風)\n",
            "[公告] 精華區導覽Q&A\n",
            "作者: IanLi (IanLi)\n",
            "[閒聊] 2020/09/03 盤中閒聊\n",
            "作者: justforsing (雯晴啦不是晴雯)\n"
          ],
          "name": "stdout"
        }
      ]
    },
    {
      "cell_type": "code",
      "metadata": {
        "id": "bf8-lb2ufPrt",
        "colab_type": "code",
        "colab": {}
      },
      "source": [
        ""
      ],
      "execution_count": null,
      "outputs": []
    }
  ]
}